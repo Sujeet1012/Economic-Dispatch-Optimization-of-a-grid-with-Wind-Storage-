{
 "cells": [
  {
   "cell_type": "code",
   "execution_count": 1,
   "id": "c16b018b",
   "metadata": {
    "id": "c16b018b"
   },
   "outputs": [],
   "source": [
    "from pyomo.environ import *\n",
    "import matplotlib.pyplot as plt\n",
    "import pandas as pd\n",
    "import numpy as np\n",
    "from pyomo.opt import SolverFactory\n",
    "import warnings\n",
    "warnings.filterwarnings('ignore')"
   ]
  },
  {
   "cell_type": "code",
   "execution_count": null,
   "id": "3c1e4881",
   "metadata": {},
   "outputs": [],
   "source": []
  },
  {
   "cell_type": "markdown",
   "id": "6437db01",
   "metadata": {},
   "source": [
    "We look at the impact of ESS in the utilization of wind energy."
   ]
  },
  {
   "cell_type": "code",
   "execution_count": null,
   "id": "05088659",
   "metadata": {},
   "outputs": [],
   "source": []
  },
  {
   "cell_type": "markdown",
   "id": "4e1d36bc",
   "metadata": {},
   "source": [
    "## constants"
   ]
  },
  {
   "cell_type": "code",
   "execution_count": 2,
   "id": "afa450dd",
   "metadata": {},
   "outputs": [],
   "source": [
    "VWC = 50    #Value of wind curtailment"
   ]
  },
  {
   "cell_type": "markdown",
   "id": "105516df",
   "metadata": {},
   "source": [
    "## sets"
   ]
  },
  {
   "cell_type": "code",
   "execution_count": 3,
   "id": "bc861b57",
   "metadata": {},
   "outputs": [],
   "source": [
    "t_hours = ['t1', 't2', 't3', 't4', 't5', 't6', 't7', 't8', 't9', 't10', 't11', 't12', 't13', 't14', 't15', 't16', 't17', 't18', 't19', 't20', 't21', 't22', 't23', 't24']\n",
    "g_units = ['p1', 'p2', 'p3', 'p4']"
   ]
  },
  {
   "cell_type": "markdown",
   "id": "77656961",
   "metadata": {},
   "source": [
    "## input data"
   ]
  },
  {
   "cell_type": "code",
   "execution_count": 4,
   "id": "b159b343",
   "metadata": {
    "id": "b159b343"
   },
   "outputs": [
    {
     "data": {
      "text/plain": [
       "{('p1', 'a'): 0.12,\n",
       " ('p1', 'b'): 14.8,\n",
       " ('p1', 'c'): 89,\n",
       " ('p1', 'd'): 1.2,\n",
       " ('p1', 'e'): -5.0,\n",
       " ('p1', 'f'): 3.0,\n",
       " ('p1', 'Pmin'): 28,\n",
       " ('p1', 'Pmax'): 200,\n",
       " ('p1', 'RU0'): 40,\n",
       " ('p1', 'RD0'): 40,\n",
       " ('p2', 'a'): 0.17,\n",
       " ('p2', 'b'): 16.57,\n",
       " ('p2', 'c'): 83,\n",
       " ('p2', 'd'): 2.3,\n",
       " ('p2', 'e'): -4.24,\n",
       " ('p2', 'f'): 6.09,\n",
       " ('p2', 'Pmin'): 20,\n",
       " ('p2', 'Pmax'): 290,\n",
       " ('p2', 'RU0'): 30,\n",
       " ('p2', 'RD0'): 30,\n",
       " ('p3', 'a'): 0.15,\n",
       " ('p3', 'b'): 15.55,\n",
       " ('p3', 'c'): 100,\n",
       " ('p3', 'd'): 1.1,\n",
       " ('p3', 'e'): -2.15,\n",
       " ('p3', 'f'): 5.69,\n",
       " ('p3', 'Pmin'): 30,\n",
       " ('p3', 'Pmax'): 190,\n",
       " ('p3', 'RU0'): 30,\n",
       " ('p3', 'RD0'): 30,\n",
       " ('p4', 'a'): 0.19,\n",
       " ('p4', 'b'): 16.21,\n",
       " ('p4', 'c'): 70,\n",
       " ('p4', 'd'): 1.1,\n",
       " ('p4', 'e'): -3.99,\n",
       " ('p4', 'f'): 6.2,\n",
       " ('p4', 'Pmin'): 20,\n",
       " ('p4', 'Pmax'): 260,\n",
       " ('p4', 'RU0'): 50,\n",
       " ('p4', 'RD0'): 50}"
      ]
     },
     "execution_count": 4,
     "metadata": {},
     "output_type": "execute_result"
    }
   ],
   "source": [
    "# a is in $ / MW^2   . cost coefficient for a thermal unit\n",
    "# b is in $ / MW       cost coefficient for a thermal unit\n",
    "# c is in $            cost coefficient for a thermal unit\n",
    "# d is in kg/MW^2      emissions coefficient for a thermal unit\n",
    "# e is in kW/MW        emissions coefficient for a thermal unit\n",
    "# f is in kg           emissions coefficient for a thermal unit\n",
    "# Pmin, Pmax are in MW.  Min and Max output limits for a thermal unit\n",
    "# RU, RD are in MW       Ramp up / down rates for a thermal unit\n",
    "\n",
    "#this is a dictionary . The key is a tuple.\n",
    "\n",
    "# Data tables\n",
    "gendata = {\n",
    "    ('p1', 'a'): 0.12, \n",
    "    ('p1', 'b'): 14.80, \n",
    "    ('p1', 'c'):  89, \n",
    "    ('p1', 'd'): 1.2, \n",
    "    ('p1', 'e'): -5.00, \n",
    "    ('p1', 'f'): 3.00, \n",
    "    ('p1', 'Pmin'): 28, \n",
    "    ('p1', 'Pmax'): 200, \n",
    "    ('p1', 'RU0'): 40, \n",
    "    ('p1', 'RD0'): 40,\n",
    "    \n",
    "    ('p2', 'a'): 0.17, \n",
    "    ('p2', 'b'): 16.57, \n",
    "    ('p2', 'c'):  83, \n",
    "    ('p2', 'd'): 2.3, \n",
    "    ('p2', 'e'): -4.24, \n",
    "    ('p2', 'f'): 6.09, \n",
    "    ('p2', 'Pmin'): 20, \n",
    "    ('p2', 'Pmax'): 290, \n",
    "    ('p2', 'RU0'): 30, \n",
    "    ('p2', 'RD0'): 30,\n",
    "    \n",
    "    ('p3', 'a'): 0.15, \n",
    "    ('p3', 'b'): 15.55, \n",
    "    ('p3', 'c'): 100, \n",
    "    ('p3', 'd'): 1.1, \n",
    "    ('p3', 'e'): -2.15, \n",
    "    ('p3', 'f'): 5.69, \n",
    "    ('p3', 'Pmin'): 30, \n",
    "    ('p3', 'Pmax'): 190, \n",
    "    ('p3', 'RU0'): 30, \n",
    "    ('p3', 'RD0'): 30,\n",
    "    \n",
    "    ('p4', 'a'): 0.19, \n",
    "    ('p4', 'b'): 16.21, \n",
    "    ('p4', 'c'):  70, \n",
    "    ('p4', 'd'): 1.1, \n",
    "    ('p4', 'e'): -3.99, \n",
    "    ('p4', 'f'): 6.20, \n",
    "    ('p4', 'Pmin'): 20, \n",
    "    ('p4', 'Pmax'): 260, \n",
    "    ('p4', 'RU0'): 50, \n",
    "    ('p4', 'RD0'): 50\n",
    "}\n",
    "\n",
    "gendata\n",
    "\n"
   ]
  },
  {
   "cell_type": "code",
   "execution_count": 5,
   "id": "402e70b4",
   "metadata": {},
   "outputs": [],
   "source": [
    "#both in MW. The \"wind\" is thew maximum possible output from wind units (wind availability).\n",
    "\n",
    "data = {\n",
    "    ('t1', 'load'): 510, ('t1', 'wind'): 44.1,\n",
    "    ('t2', 'load'): 530, ('t2', 'wind'): 48.5,\n",
    "    ('t3', 'load'): 516, ('t3', 'wind'): 65.7,\n",
    "    ('t4', 'load'): 510, ('t4', 'wind'): 144.9,\n",
    "    ('t5', 'load'): 515, ('t5', 'wind'): 202.3,\n",
    "    ('t6', 'load'): 544, ('t6', 'wind'): 317.3,\n",
    "    ('t7', 'load'): 646, ('t7', 'wind'): 364.4,\n",
    "    ('t8', 'load'): 686, ('t8', 'wind'): 317.3,\n",
    "    ('t9', 'load'): 741, ('t9', 'wind'): 271,\n",
    "    ('t10', 'load'): 734, ('t10', 'wind'): 306.9,\n",
    "    ('t11', 'load'): 748, ('t11', 'wind'): 424.1,\n",
    "    ('t12', 'load'): 760, ('t12', 'wind'): 398,\n",
    "    ('t13', 'load'): 754, ('t13', 'wind'): 487.6,\n",
    "    ('t14', 'load'): 700, ('t14', 'wind'): 521.9,\n",
    "    ('t15', 'load'): 686, ('t15', 'wind'): 541.3,\n",
    "    ('t16', 'load'): 720, ('t16', 'wind'): 560,\n",
    "    ('t17', 'load'): 714, ('t17', 'wind'): 486.8,\n",
    "    ('t18', 'load'): 761, ('t18', 'wind'): 372.6,\n",
    "    ('t19', 'load'): 727, ('t19', 'wind'): 367.4,\n",
    "    ('t20', 'load'): 714, ('t20', 'wind'): 314.3,\n",
    "    ('t21', 'load'): 618, ('t21', 'wind'): 316.6,\n",
    "    ('t22', 'load'): 584, ('t22', 'wind'): 311.4,\n",
    "    ('t23', 'load'): 578, ('t23', 'wind'): 405.4,\n",
    "    ('t24', 'load'): 544, ('t24', 'wind'): 470.4\n",
    "}"
   ]
  },
  {
   "cell_type": "code",
   "execution_count": null,
   "id": "6c0082c0",
   "metadata": {},
   "outputs": [],
   "source": []
  },
  {
   "cell_type": "code",
   "execution_count": null,
   "id": "9f346d58",
   "metadata": {},
   "outputs": [],
   "source": []
  },
  {
   "cell_type": "markdown",
   "id": "50fc7257",
   "metadata": {},
   "source": [
    "## defining the optimization model"
   ]
  },
  {
   "cell_type": "code",
   "execution_count": 6,
   "id": "da42730b",
   "metadata": {},
   "outputs": [],
   "source": [
    "model = ConcreteModel()\n",
    "model.name= \"Wind Integrated DED\""
   ]
  },
  {
   "cell_type": "markdown",
   "id": "7b10ae7a",
   "metadata": {},
   "source": [
    "##### adding the sets to the model "
   ]
  },
  {
   "cell_type": "code",
   "execution_count": 7,
   "id": "fba78d70",
   "metadata": {},
   "outputs": [],
   "source": [
    "model.t_hours = Set(initialize=t_hours)"
   ]
  },
  {
   "cell_type": "code",
   "execution_count": 8,
   "id": "5b4ccde4",
   "metadata": {},
   "outputs": [],
   "source": [
    "model.g_units = Set(initialize=g_units)"
   ]
  },
  {
   "cell_type": "markdown",
   "id": "dbb0b95a",
   "metadata": {},
   "source": [
    "#####  Decision Variables "
   ]
  },
  {
   "cell_type": "code",
   "execution_count": 9,
   "id": "b2da3502",
   "metadata": {},
   "outputs": [],
   "source": [
    "model.p = Var(model.g_units, model.t_hours, bounds=lambda model, g, t: (gendata[g, 'Pmin'], gendata[g, 'Pmax']))"
   ]
  },
  {
   "attachments": {
    "Screenshot%202023-07-31%20at%2017.35.05.png": {
     "image/png": "[encoded data removed]"
    }
   },
   "cell_type": "markdown",
   "id": "848fb620",
   "metadata": {},
   "source": [
    "![Screenshot%202023-07-31%20at%2017.35.05.png](attachment:Screenshot%202023-07-31%20at%2017.35.05.png)"
   ]
  },
  {
   "cell_type": "code",
   "execution_count": null,
   "id": "c49cf641",
   "metadata": {},
   "outputs": [],
   "source": []
  },
  {
   "cell_type": "markdown",
   "id": "479d131b",
   "metadata": {},
   "source": [
    "output (MW) from wind units at time t:"
   ]
  },
  {
   "cell_type": "code",
   "execution_count": 10,
   "id": "1cd30bcb",
   "metadata": {},
   "outputs": [],
   "source": [
    "model.Pw = Var(model.t_hours, bounds=lambda model, t: (0, data[t, 'wind']))"
   ]
  },
  {
   "attachments": {
    "Screenshot%202023-07-31%20at%2017.49.29.png": {
     "image/png": "[encoded data removed]"
    }
   },
   "cell_type": "markdown",
   "id": "79753221",
   "metadata": {},
   "source": [
    "![Screenshot%202023-07-31%20at%2017.49.29.png](attachment:Screenshot%202023-07-31%20at%2017.49.29.png)"
   ]
  },
  {
   "cell_type": "code",
   "execution_count": null,
   "id": "22e31ffd",
   "metadata": {},
   "outputs": [],
   "source": []
  },
  {
   "cell_type": "markdown",
   "id": "2d445955",
   "metadata": {},
   "source": [
    "curtailed wind output (MW) at time t:"
   ]
  },
  {
   "cell_type": "code",
   "execution_count": 11,
   "id": "512ef95a",
   "metadata": {},
   "outputs": [],
   "source": [
    "model.PWC = Var(model.t_hours,bounds=lambda model, t: (0,data[t, 'wind']))"
   ]
  },
  {
   "attachments": {
    "Screenshot%202023-07-31%20at%2017.49.40.png": {
     "image/png": "[encoded data removed]"
    }
   },
   "cell_type": "markdown",
   "id": "a7416651",
   "metadata": {},
   "source": [
    "![Screenshot%202023-07-31%20at%2017.49.40.png](attachment:Screenshot%202023-07-31%20at%2017.49.40.png)"
   ]
  },
  {
   "cell_type": "code",
   "execution_count": null,
   "id": "21d8d421",
   "metadata": {},
   "outputs": [],
   "source": []
  },
  {
   "cell_type": "markdown",
   "id": "027fe19f",
   "metadata": {
    "id": "02b30719"
   },
   "source": [
    "##### objective function. We minimize the Total electricity generation Cost (TC). This is a quadratic objective function ie nonlinear problem"
   ]
  },
  {
   "cell_type": "code",
   "execution_count": 12,
   "id": "40bc715c",
   "metadata": {},
   "outputs": [],
   "source": [
    "model.costThermal = Objective(\n",
    "    expr=\n",
    "    sum(VWC * model.PWC[t] for t in model.t_hours) + \n",
    "    sum(gendata[g, 'a'] * model.p[g, t]**2 + gendata[g, 'b'] * model.p[g, t] + gendata[g, 'c']\n",
    "             for t in model.t_hours for g in model.g_units),\n",
    "    sense=minimize\n",
    ")"
   ]
  },
  {
   "attachments": {
    "Screenshot%202023-07-31%20at%2017.37.54.png": {
     "image/png": "[encoded data removed]"
    }
   },
   "cell_type": "markdown",
   "id": "72137035",
   "metadata": {},
   "source": [
    "![Screenshot%202023-07-31%20at%2017.37.54.png](attachment:Screenshot%202023-07-31%20at%2017.37.54.png)"
   ]
  },
  {
   "cell_type": "markdown",
   "id": "9f468460",
   "metadata": {},
   "source": [
    "DV is the set of Decision Variables in the problem"
   ]
  },
  {
   "cell_type": "code",
   "execution_count": null,
   "id": "a02c59e3",
   "metadata": {},
   "outputs": [],
   "source": []
  },
  {
   "cell_type": "markdown",
   "id": "78c88da8",
   "metadata": {},
   "source": [
    "#####  constraints"
   ]
  },
  {
   "cell_type": "code",
   "execution_count": 13,
   "id": "bf68351e",
   "metadata": {},
   "outputs": [],
   "source": [
    "def Genconst_rule(model, g, t):\n",
    "    if t == 't24':\n",
    "        return Constraint.Skip\n",
    "    else:\n",
    "        return model.p[g, t_hours[t_hours.index(t) + 1]]  - model.p[g, t] <= gendata[g, 'RU0']\n"
   ]
  },
  {
   "cell_type": "code",
   "execution_count": 14,
   "id": "1b37d7cc",
   "metadata": {},
   "outputs": [],
   "source": [
    "model.Genconst3 = Constraint(\n",
    "    model.g_units, \n",
    "    model.t_hours, \n",
    "    rule=Genconst_rule)\n",
    "\n",
    "#lambda model, g, t: model.p[g, t] - model.p[g, t_hours[t_hours.index(t) - 1]] <= gendata[g, 'RU0']\n"
   ]
  },
  {
   "attachments": {
    "Screenshot%202023-07-31%20at%2018.54.42.png": {
     "image/png": "[encoded data removed]"
    }
   },
   "cell_type": "markdown",
   "id": "ef002486",
   "metadata": {},
   "source": [
    "![Screenshot%202023-07-31%20at%2018.54.42.png](attachment:Screenshot%202023-07-31%20at%2018.54.42.png)"
   ]
  },
  {
   "cell_type": "code",
   "execution_count": null,
   "id": "8eaeffc8",
   "metadata": {},
   "outputs": [],
   "source": []
  },
  {
   "cell_type": "code",
   "execution_count": 15,
   "id": "c60eaa1c",
   "metadata": {},
   "outputs": [],
   "source": [
    "model.Genconst4 = Constraint(\n",
    "    model.g_units, \n",
    "    model.t_hours, \n",
    "    rule=lambda model, g, t: model.p[g, t_hours[t_hours.index(t) - 1]] - model.p[g, t] <= gendata[g, 'RD0'])\n"
   ]
  },
  {
   "attachments": {
    "Screenshot%202023-07-31%20at%2018.55.19.png": {
     "image/png": "[encoded data removed]"
    }
   },
   "cell_type": "markdown",
   "id": "efeee5c4",
   "metadata": {},
   "source": [
    "![Screenshot%202023-07-31%20at%2018.55.19.png](attachment:Screenshot%202023-07-31%20at%2018.55.19.png)"
   ]
  },
  {
   "cell_type": "code",
   "execution_count": null,
   "id": "eede65de",
   "metadata": {},
   "outputs": [],
   "source": []
  },
  {
   "cell_type": "code",
   "execution_count": null,
   "id": "43b27589",
   "metadata": {},
   "outputs": [],
   "source": []
  },
  {
   "cell_type": "code",
   "execution_count": 16,
   "id": "bf16e3e5",
   "metadata": {},
   "outputs": [],
   "source": [
    "model.balance = Constraint(\n",
    "    model.t_hours, \n",
    "    rule=lambda model, t: \n",
    "    model.Pw[t] + sum(model.p[g, t] for g in model.g_units) == data[t, 'load']) \n",
    "    \n",
    "    "
   ]
  },
  {
   "attachments": {
    "Screenshot%202023-07-31%20at%2019.01.13.png": {
     "image/png": "[encoded data removed]"
    }
   },
   "cell_type": "markdown",
   "id": "28ec8634",
   "metadata": {},
   "source": [
    "![Screenshot%202023-07-31%20at%2019.01.13.png](attachment:Screenshot%202023-07-31%20at%2019.01.13.png)"
   ]
  },
  {
   "cell_type": "code",
   "execution_count": null,
   "id": "e0cee13f",
   "metadata": {},
   "outputs": [],
   "source": []
  },
  {
   "cell_type": "code",
   "execution_count": 17,
   "id": "a5a427f2",
   "metadata": {},
   "outputs": [],
   "source": [
    "model.wind = Constraint(\n",
    "    model.t_hours, \n",
    "    rule=lambda model, t: model.Pw[t] + model.PWC[t] == data[t, 'wind'])"
   ]
  },
  {
   "attachments": {
    "Screenshot%202023-07-31%20at%2018.00.30.png": {
     "image/png": "[encoded data removed]"
    }
   },
   "cell_type": "markdown",
   "id": "34588dda",
   "metadata": {},
   "source": [
    "![Screenshot%202023-07-31%20at%2018.00.30.png](attachment:Screenshot%202023-07-31%20at%2018.00.30.png)"
   ]
  },
  {
   "cell_type": "code",
   "execution_count": null,
   "id": "e0d06663",
   "metadata": {},
   "outputs": [],
   "source": []
  },
  {
   "cell_type": "code",
   "execution_count": 18,
   "id": "6dbee06c",
   "metadata": {},
   "outputs": [],
   "source": [
    "model.EM = Var(bounds=(0, None))"
   ]
  },
  {
   "cell_type": "code",
   "execution_count": 19,
   "id": "52f62b81",
   "metadata": {},
   "outputs": [],
   "source": [
    "\n",
    "\n",
    "model.EMcalc = Constraint(\n",
    "    rule=lambda model: \n",
    "    model.EM == sum(gendata[g, 'd'] * model.p[g, t]**2 + gendata[g, 'e'] * model.p[g, t] + gendata[g, 'f'] \n",
    "                          for t in model.t_hours for g in model.g_units))\n"
   ]
  },
  {
   "attachments": {
    "Screenshot%202023-07-31%20at%2017.56.25.png": {
     "image/png": "[encoded data removed]"
    }
   },
   "cell_type": "markdown",
   "id": "bc8a82c9",
   "metadata": {},
   "source": [
    "![Screenshot%202023-07-31%20at%2017.56.25.png](attachment:Screenshot%202023-07-31%20at%2017.56.25.png)"
   ]
  },
  {
   "cell_type": "code",
   "execution_count": null,
   "id": "ff1ed25c",
   "metadata": {},
   "outputs": [],
   "source": []
  },
  {
   "cell_type": "markdown",
   "id": "87bc746f",
   "metadata": {},
   "source": [
    "## Solution"
   ]
  },
  {
   "cell_type": "code",
   "execution_count": 20,
   "id": "8aa314e7",
   "metadata": {},
   "outputs": [],
   "source": [
    "solver = SolverFactory('gurobi')  "
   ]
  },
  {
   "cell_type": "code",
   "execution_count": 21,
   "id": "21685dfb",
   "metadata": {},
   "outputs": [],
   "source": [
    "solver.options['NonConvex'] = 2"
   ]
  },
  {
   "cell_type": "code",
   "execution_count": 22,
   "id": "09f69432",
   "metadata": {},
   "outputs": [],
   "source": [
    "result_wind = solver.solve(model)"
   ]
  },
  {
   "cell_type": "code",
   "execution_count": null,
   "id": "e486b831",
   "metadata": {},
   "outputs": [],
   "source": []
  },
  {
   "cell_type": "code",
   "execution_count": 23,
   "id": "c6d45478",
   "metadata": {},
   "outputs": [
    {
     "data": {
      "text/plain": [
       "1"
      ]
     },
     "execution_count": 23,
     "metadata": {},
     "output_type": "execute_result"
    }
   ],
   "source": [
    "result_wind['Problem'][0]['Number of objectives']  "
   ]
  },
  {
   "cell_type": "code",
   "execution_count": 24,
   "id": "eb8ecb44",
   "metadata": {},
   "outputs": [
    {
     "name": "stdout",
     "output_type": "stream",
     "text": [
      "Model Wind Integrated DED\n",
      "\n",
      "  Variables:\n",
      "    p : Size=96, Index=p_index\n",
      "        Key           : Lower : Value              : Upper : Fixed : Stale : Domain\n",
      "         ('p1', 't1') :    28 : 152.13459640803507 :   200 : False : False :  Reals\n",
      "        ('p1', 't10') :    28 : 139.76791000593647 :   200 : False : False :  Reals\n",
      "        ('p1', 't11') :    28 : 106.87507400813935 :   200 : False : False :  Reals\n",
      "        ('p1', 't12') :    28 : 119.01865008879552 :   200 : False : False :  Reals\n",
      "        ('p1', 't13') :    28 :  88.54815472657862 :   200 : False : False :  Reals\n",
      "        ('p1', 't14') :    28 :  60.40438129051344 :   200 : False : False :  Reals\n",
      "        ('p1', 't15') :    28 :  49.75883165539412 :   200 : False : False :  Reals\n",
      "        ('p1', 't16') :    28 : 54.635385829584756 :   200 : False : False :  Reals\n",
      "        ('p1', 't17') :    28 :    83.528419182916 :   200 : False : False :  Reals\n",
      "        ('p1', 't18') :    28 : 123.52841918289383 :   200 : False : False :  Reals\n",
      "        ('p1', 't19') :    28 : 118.25370041436584 :   200 : False : False :  Reals\n",
      "         ('p1', 't2') :    28 :  157.1067692914098 :   200 : False : False :  Reals\n",
      "        ('p1', 't20') :    28 : 131.03473455693032 :   200 : False : False :  Reals\n",
      "        ('p1', 't21') :    28 :  99.70367081102803 :   200 : False : False :  Reals\n",
      "        ('p1', 't22') :    28 :  90.52427471875437 :   200 : False : False :  Reals\n",
      "        ('p1', 't23') :    28 :  58.65137161973269 :   200 : False : False :  Reals\n",
      "        ('p1', 't24') :    28 :  28.00000000002629 :   200 : False : False :  Reals\n",
      "         ('p1', 't3') :    28 :  147.1624235247084 :   200 : False : False :  Reals\n",
      "         ('p1', 't4') :    28 : 120.00671008479631 :   200 : False : False :  Reals\n",
      "         ('p1', 't5') :    28 : 103.30530886121227 :   200 : False : False :  Reals\n",
      "         ('p1', 't6') :    28 :  75.89461219644672 :   200 : False : False :  Reals\n",
      "         ('p1', 't7') :    28 :  93.39283599755547 :   200 : False : False :  Reals\n",
      "         ('p1', 't8') :    28 : 121.15413459630481 :   200 : False : False :  Reals\n",
      "         ('p1', 't9') :    28 : 153.44138543515865 :   200 : False : False :  Reals\n",
      "         ('p2', 't1') :    20 : 102.18324452345269 :   290 : False : False :  Reals\n",
      "        ('p2', 't10') :    20 :   93.4538188278258 :   290 : False : False :  Reals\n",
      "        ('p2', 't11') :    20 :  70.23534635879271 :   290 : False : False :  Reals\n",
      "        ('p2', 't12') :    20 :  78.80728241563186 :   290 : False : False :  Reals\n",
      "        ('p2', 't13') :    20 :  57.29869745413108 :   290 : False : False :  Reals\n",
      "        ('p2', 't14') :    20 :  37.43250444055708 :   290 : False : False :  Reals\n",
      "        ('p2', 't15') :    20 : 29.917998815919372 :   290 : False : False :  Reals\n",
      "        ('p2', 't16') :    20 :  33.36027235050739 :   290 : False : False :  Reals\n",
      "        ('p2', 't17') :    20 :  52.87300177625446 :   290 : False : False :  Reals\n",
      "        ('p2', 't18') :    20 :  82.87300177623221 :   290 : False : False :  Reals\n",
      "        ('p2', 't19') :    20 :   78.2673179396723 :   290 : False : False :  Reals\n",
      "         ('p2', 't2') :    20 : 105.69301361756011 :   290 : False : False :  Reals\n",
      "        ('p2', 't20') :    20 :  87.28922439315072 :   290 : False : False :  Reals\n",
      "        ('p2', 't21') :    20 :  65.17317939611434 :   290 : False : False :  Reals\n",
      "        ('p2', 't22') :    20 :  58.69360568389613 :   290 : False : False :  Reals\n",
      "        ('p2', 't23') :    20 : 36.195085849662384 :   290 : False : False :  Reals\n",
      "        ('p2', 't24') :    20 : 20.000000000025626 :   290 : False : False :  Reals\n",
      "         ('p2', 't3') :    20 :  98.67347542927418 :   290 : False : False :  Reals\n",
      "         ('p2', 't4') :    20 :  79.50473653053893 :   290 : False : False :  Reals\n",
      "         ('p2', 't5') :    20 :  67.71551213738303 :   290 : False : False :  Reals\n",
      "         ('p2', 't6') :    20 :  48.36678508002922 :   290 : False : False :  Reals\n",
      "         ('p2', 't7') :    20 : 60.718472468958595 :   290 : False : False :  Reals\n",
      "         ('p2', 't8') :    20 :    80.314683244499 :   290 : False : False :  Reals\n",
      "         ('p2', 't9') :    20 : 103.10568383664767 :   290 : False : False :  Reals\n",
      "         ('p3', 't1') :    30 :  119.2076771265208 :   190 : False : False :  Reals\n",
      "        ('p3', 't10') :    30 : 109.31432800405882 :   190 : False : False :  Reals\n",
      "        ('p3', 't11') :    30 :  83.00005920739845 :   190 : False : False :  Reals\n",
      "        ('p3', 't12') :    30 :  92.71492007060307 :   190 : False : False :  Reals\n",
      "        ('p3', 't13') :    30 :   68.3385237814764 :   190 : False : False :  Reals\n",
      "        ('p3', 't14') :    30 : 45.823505032856694 :   190 : False : False :  Reals\n",
      "        ('p3', 't15') :    30 :  37.30706532494119 :   190 : False : False :  Reals\n",
      "        ('p3', 't16') :    30 :  41.20830866445176 :   190 : False : False :  Reals\n",
      "        ('p3', 't17') :    30 :   65.3227353461521 :   190 : False : False :  Reals\n",
      "        ('p3', 't18') :    30 :  95.32273534613002 :   190 : False : False :  Reals\n",
      "        ('p3', 't19') :    30 :  92.10296033158926 :   190 : False : False :  Reals\n",
      "         ('p3', 't2') :    30 : 123.18541543314524 :   190 : False : False :  Reals\n",
      "        ('p3', 't20') :    30 :  102.3277876450182 :   190 : False : False :  Reals\n",
      "        ('p3', 't21') :    30 :  77.26293664936233 :   190 : False : False :  Reals\n",
      "        ('p3', 't22') :    30 :  69.91941977450234 :   190 : False : False :  Reals\n",
      "        ('p3', 't23') :    30 : 44.421097296933326 :   190 : False : False :  Reals\n",
      "        ('p3', 't24') :    30 :  30.00000000002522 :   190 : False : False :  Reals\n",
      "         ('p3', 't3') :    30 : 115.22993881961641 :   190 : False : False :  Reals\n",
      "         ('p3', 't4') :    30 :  93.50536806804844 :   190 : False : False :  Reals\n",
      "         ('p3', 't5') :    30 :  80.14424708884162 :   190 : False : False :  Reals\n",
      "         ('p3', 't6') :    30 :  58.21568975758195 :   190 : False : False :  Reals\n",
      "         ('p3', 't7') :    30 :  72.21426879828726 :   190 : False : False :  Reals\n",
      "         ('p3', 't8') :    30 :  94.42330767748734 :   190 : False : False :  Reals\n",
      "         ('p3', 't9') :    30 : 120.25310834747121 :   190 : False : False :  Reals\n",
      "         ('p4', 't1') :    20 :  92.37448194201004 :   260 : False : False :  Reals\n",
      "        ('p4', 't10') :    20 :  84.56394316219804 :   260 : False : False :  Reals\n",
      "        ('p4', 't11') :    20 :  63.78952042569033 :   260 : False : False :  Reals\n",
      "        ('p4', 't12') :    20 :  71.45914742498968 :   260 : False : False :  Reals\n",
      "        ('p4', 't13') :    20 :  52.21462403783571 :   260 : False : False :  Reals\n",
      "        ('p4', 't14') :    20 :  34.43960923609649 :   260 : False : False :  Reals\n",
      "        ('p4', 't15') :    20 :  27.71610420376988 :   260 : False : False :  Reals\n",
      "        ('p4', 't16') :    20 : 30.796033155480224 :   260 : False : False :  Reals\n",
      "        ('p4', 't17') :    20 :  36.67584369477788 :   260 : False : False :  Reals\n",
      "        ('p4', 't18') :    20 :  86.67584369475442 :   260 : False : False :  Reals\n",
      "        ('p4', 't19') :    20 :  70.97602131439281 :   260 : False : False :  Reals\n",
      "         ('p4', 't2') :    20 :  95.51480165790319 :   260 : False : False :  Reals\n",
      "        ('p4', 't20') :    20 :   79.0482534049203 :   260 : False : False :  Reals\n",
      "        ('p4', 't21') :    20 :  59.26021314351648 :   260 : False : False :  Reals\n",
      "        ('p4', 't22') :    20 :  53.46269982286885 :   260 : False : False :  Reals\n",
      "        ('p4', 't23') :    20 :   33.3324452336955 :   260 : False : False :  Reals\n",
      "        ('p4', 't24') :    20 : 20.000000000025473 :   260 : False : False :  Reals\n",
      "         ('p4', 't3') :    20 :  89.23416222641977 :   260 : False : False :  Reals\n",
      "         ('p4', 't4') :    20 :   72.0831853166364 :   260 : False : False :  Reals\n",
      "         ('p4', 't5') :    20 :  61.53493191258407 :   260 : False : False :  Reals\n",
      "         ('p4', 't6') :    20 :  44.22291296596474 :   260 : False : False :  Reals\n",
      "         ('p4', 't7') :    20 : 55.274422735220256 :   260 : False : False :  Reals\n",
      "         ('p4', 't8') :    20 :  72.80787448172887 :   260 : False : False :  Reals\n",
      "         ('p4', 't9') :    20 :  93.19982238074095 :   260 : False : False :  Reals\n",
      "    Pw : Size=24, Index=t_hours\n",
      "        Key : Lower : Value              : Upper : Fixed : Stale : Domain\n",
      "         t1 :     0 :  44.09999999998144 :  44.1 : False : False :  Reals\n",
      "        t10 :     0 :  306.8999999999809 : 306.9 : False : False :  Reals\n",
      "        t11 :     0 :  424.0999999999792 : 424.1 : False : False :  Reals\n",
      "        t12 :     0 :  397.9999999999799 :   398 : False : False :  Reals\n",
      "        t13 :     0 :  487.5999999999782 : 487.6 : False : False :  Reals\n",
      "        t14 :     0 :  521.8999999999762 : 521.9 : False : False :  Reals\n",
      "        t15 :     0 :  541.2999999999754 : 541.3 : False : False :  Reals\n",
      "        t16 :     0 :  559.9999999999759 :   560 : False : False :  Reals\n",
      "        t17 :     0 : 475.59999999989964 : 486.8 : False : False :  Reals\n",
      "        t18 :     0 : 372.59999999998956 : 372.6 : False : False :  Reals\n",
      "        t19 :     0 :  367.3999999999798 : 367.4 : False : False :  Reals\n",
      "         t2 :     0 : 48.499999999981654 :  48.5 : False : False :  Reals\n",
      "        t20 :     0 : 314.29999999998046 : 314.3 : False : False :  Reals\n",
      "        t21 :     0 :  316.5999999999788 : 316.6 : False : False :  Reals\n",
      "        t22 :     0 : 311.39999999997826 : 311.4 : False : False :  Reals\n",
      "        t23 :     0 : 405.39999999997616 : 405.4 : False : False :  Reals\n",
      "        t24 :     0 :  445.9999999998974 : 470.4 : False : False :  Reals\n",
      "         t3 :     0 :  65.69999999998122 :  65.7 : False : False :  Reals\n",
      "         t4 :     0 :  144.8999999999799 : 144.9 : False : False :  Reals\n",
      "         t5 :     0 : 202.29999999997904 : 202.3 : False : False :  Reals\n",
      "         t6 :     0 :  317.2999999999774 : 317.3 : False : False :  Reals\n",
      "         t7 :     0 : 364.39999999997843 : 364.4 : False : False :  Reals\n",
      "         t8 :     0 :    317.29999999998 : 317.3 : False : False :  Reals\n",
      "         t9 :     0 :  270.9999999999815 :   271 : False : False :  Reals\n",
      "    PWC : Size=24, Index=t_hours\n",
      "        Key : Lower : Value                  : Upper : Fixed : Stale : Domain\n",
      "         t1 :     0 : 1.8559376258053817e-11 :  44.1 : False : False :  Reals\n",
      "        t10 :     0 : 1.9099388737231493e-11 : 306.9 : False : False :  Reals\n",
      "        t11 :     0 : 2.0804691303055733e-11 : 424.1 : False : False :  Reals\n",
      "        t12 :     0 : 2.0122570276726037e-11 :   398 : False : False :  Reals\n",
      "        t13 :     0 : 2.1827872842550278e-11 : 487.6 : False : False :  Reals\n",
      "        t14 :     0 :  2.376054908381775e-11 : 521.9 : False : False :  Reals\n",
      "        t15 :     0 : 2.4556356947869062e-11 : 541.3 : False : False :  Reals\n",
      "        t16 :     0 : 2.4101609596982598e-11 :   560 : False : False :  Reals\n",
      "        t17 :     0 :     11.200000000100374 : 486.8 : False : False :  Reals\n",
      "        t18 :     0 : 1.0459189070388675e-11 : 372.6 : False : False :  Reals\n",
      "        t19 :     0 : 2.0179413695586845e-11 : 367.4 : False : False :  Reals\n",
      "         t2 :     0 : 1.8346213437325787e-11 :  48.5 : False : False :  Reals\n",
      "        t20 :     0 : 1.9554136088117957e-11 : 314.3 : False : False :  Reals\n",
      "        t21 :     0 :  2.120259523508139e-11 : 316.6 : False : False :  Reals\n",
      "        t22 :     0 : 2.1714186004828662e-11 : 311.4 : False : False :  Reals\n",
      "        t23 :     0 : 2.3817392502678558e-11 : 405.4 : False : False :  Reals\n",
      "        t24 :     0 :      24.40000000010258 : 470.4 : False : False :  Reals\n",
      "         t3 :     0 :  1.878674993349705e-11 :  65.7 : False : False :  Reals\n",
      "         t4 :     0 : 2.0094148567295633e-11 : 144.9 : False : False :  Reals\n",
      "         t5 :     0 : 2.0975221559638157e-11 : 202.3 : False : False :  Reals\n",
      "         t6 :     0 :  2.262368070660159e-11 : 317.3 : False : False :  Reals\n",
      "         t7 :     0 : 2.1543655748246238e-11 : 364.4 : False : False :  Reals\n",
      "         t8 :     0 :  2.000888343900442e-11 : 317.3 : False : False :  Reals\n",
      "         t9 :     0 : 1.8474111129762605e-11 :   271 : False : False :  Reals\n",
      "    EM : Size=1, Index=None\n",
      "        Key  : Lower : Value             : Upper : Fixed : Stale : Domain\n",
      "        None :     0 : 904570.6049393109 :  None : False : False :  Reals\n",
      "\n",
      "  Objectives:\n",
      "    costThermal : Size=1, Index=None, Active=True\n",
      "        Key  : Active : Value\n",
      "        None :   True : 228701.94995239528\n",
      "\n",
      "  Constraints:\n",
      "    Genconst3 : Size=92\n",
      "        Key           : Lower : Body                : Upper\n",
      "         ('p1', 't1') :  None :   4.972172883374725 :  40.0\n",
      "        ('p1', 't10') :  None :  -32.89283599779712 :  40.0\n",
      "        ('p1', 't11') :  None :  12.143576080656175 :  40.0\n",
      "        ('p1', 't12') :  None :  -30.47049536221691 :  40.0\n",
      "        ('p1', 't13') :  None : -28.143773436065175 :  40.0\n",
      "        ('p1', 't14') :  None : -10.645549635119323 :  40.0\n",
      "        ('p1', 't15') :  None :  4.8765541741906375 :  40.0\n",
      "        ('p1', 't16') :  None :   28.89303335333124 :  40.0\n",
      "        ('p1', 't17') :  None :   39.99999999997783 :  40.0\n",
      "        ('p1', 't18') :  None :   -5.27471876852799 :  40.0\n",
      "        ('p1', 't19') :  None :   12.78103414256448 :  40.0\n",
      "         ('p1', 't2') :  None :  -9.944345766701389 :  40.0\n",
      "        ('p1', 't20') :  None : -31.331063745902284 :  40.0\n",
      "        ('p1', 't21') :  None :  -9.179396092273663 :  40.0\n",
      "        ('p1', 't22') :  None : -31.872903099021677 :  40.0\n",
      "        ('p1', 't23') :  None : -30.651371619706403 :  40.0\n",
      "         ('p1', 't3') :  None :  -27.15571343991209 :  40.0\n",
      "         ('p1', 't4') :  None : -16.701401223584043 :  40.0\n",
      "         ('p1', 't5') :  None : -27.410696664765553 :  40.0\n",
      "         ('p1', 't6') :  None :   17.49822380110875 :  40.0\n",
      "         ('p1', 't7') :  None :   27.76129859874935 :  40.0\n",
      "         ('p1', 't8') :  None :  32.287250838853836 :  40.0\n",
      "         ('p1', 't9') :  None :  -13.67347542922218 :  40.0\n",
      "         ('p2', 't1') :  None :   3.509769094107426 :  30.0\n",
      "        ('p2', 't10') :  None : -23.218472469033088 :  30.0\n",
      "        ('p2', 't11') :  None :    8.57193605683915 :  30.0\n",
      "        ('p2', 't12') :  None :  -21.50858496150078 :  30.0\n",
      "        ('p2', 't13') :  None : -19.866193013573998 :  30.0\n",
      "        ('p2', 't14') :  None :   -7.51450562463771 :  30.0\n",
      "        ('p2', 't15') :  None :   3.442273534588015 :  30.0\n",
      "        ('p2', 't16') :  None :  19.512729425747075 :  30.0\n",
      "        ('p2', 't17') :  None :  29.999999999977753 :  30.0\n",
      "        ('p2', 't18') :  None :  -4.605683836559919 :  30.0\n",
      "        ('p2', 't19') :  None :   9.021906453478422 :  30.0\n",
      "         ('p2', 't2') :  None :  -7.019538188285935 :  30.0\n",
      "        ('p2', 't20') :  None : -22.116044997036383 :  30.0\n",
      "        ('p2', 't21') :  None :  -6.479573712218205 :  30.0\n",
      "        ('p2', 't22') :  None : -22.498519834233747 :  30.0\n",
      "        ('p2', 't23') :  None : -16.195085849636758 :  30.0\n",
      "         ('p2', 't3') :  None : -19.168738898735242 :  30.0\n",
      "         ('p2', 't4') :  None : -11.789224393155905 :  30.0\n",
      "         ('p2', 't5') :  None : -19.348727057353813 :  30.0\n",
      "         ('p2', 't6') :  None :  12.351687388929378 :  30.0\n",
      "         ('p2', 't7') :  None :    19.5962107755404 :  30.0\n",
      "         ('p2', 't8') :  None :  22.791000592148677 :  30.0\n",
      "         ('p2', 't9') :  None :  -9.651865008821872 :  30.0\n",
      "         ('p3', 't1') :  None :   3.977738306624431 :  30.0\n",
      "        ('p3', 't10') :  None :  -26.31426879666037 :  30.0\n",
      "        ('p3', 't11') :  None :    9.71486086320462 :  30.0\n",
      "        ('p3', 't12') :  None : -24.376396289126674 :  30.0\n",
      "        ('p3', 't13') :  None : -22.515018748619703 :  30.0\n",
      "        ('p3', 't14') :  None :  -8.516439707915502 :  30.0\n",
      "        ('p3', 't15') :  None :  3.9012433395105717 :  30.0\n",
      "        ('p3', 't16') :  None :  24.114426681700337 :  30.0\n",
      "        ('p3', 't17') :  None :  29.999999999977916 :  30.0\n",
      "        ('p3', 't18') :  None :  -3.219775014540758 :  30.0\n",
      "        ('p3', 't19') :  None :  10.224827313428946 :  30.0\n",
      "         ('p3', 't2') :  None :   -7.95547661352883 :  30.0\n",
      "        ('p3', 't20') :  None : -25.064850995655874 :  30.0\n",
      "        ('p3', 't21') :  None :  -7.343516874859986 :  30.0\n",
      "        ('p3', 't22') :  None :  -25.49832247756902 :  30.0\n",
      "        ('p3', 't23') :  None : -14.421097296908105 :  30.0\n",
      "         ('p3', 't3') :  None : -21.724570751567967 :  30.0\n",
      "         ('p3', 't4') :  None : -13.361120979206817 :  30.0\n",
      "         ('p3', 't5') :  None : -21.928557331259675 :  30.0\n",
      "         ('p3', 't6') :  None :  13.998579040705316 :  30.0\n",
      "         ('p3', 't7') :  None :   22.20903887920008 :  30.0\n",
      "         ('p3', 't8') :  None :  25.829800669983868 :  30.0\n",
      "         ('p3', 't9') :  None :  -10.93878034341239 :  30.0\n",
      "         ('p4', 't1') :  None :   3.140319715893156 :  50.0\n",
      "        ('p4', 't10') :  None : -20.774422736507717 :  50.0\n",
      "        ('p4', 't11') :  None :  7.6696269992993535 :  50.0\n",
      "        ('p4', 't12') :  None :  -19.24452338715397 :  50.0\n",
      "        ('p4', 't13') :  None : -17.775014801739225 :  50.0\n",
      "        ('p4', 't14') :  None :  -6.723505032326607 :  50.0\n",
      "        ('p4', 't15') :  None :   3.079928951710343 :  50.0\n",
      "        ('p4', 't16') :  None :   5.879810539297658 :  50.0\n",
      "        ('p4', 't17') :  None :   49.99999999997654 :  50.0\n",
      "        ('p4', 't18') :  None :  -15.69982238036161 :  50.0\n",
      "        ('p4', 't19') :  None :   8.072232090527493 :  50.0\n",
      "         ('p4', 't2') :  None :  -6.280639431483422 :  50.0\n",
      "        ('p4', 't20') :  None :  -19.78804026140382 :  50.0\n",
      "        ('p4', 't21') :  None : -5.7975133206476315 :  50.0\n",
      "        ('p4', 't22') :  None : -20.130254589173347 :  50.0\n",
      "        ('p4', 't23') :  None : -13.332445233670029 :  50.0\n",
      "         ('p4', 't3') :  None : -17.150976909783367 :  50.0\n",
      "         ('p4', 't4') :  None : -10.548253404052332 :  50.0\n",
      "         ('p4', 't5') :  None : -17.312018946619332 :  50.0\n",
      "         ('p4', 't6') :  None :  11.051509769255517 :  50.0\n",
      "         ('p4', 't7') :  None :  17.533451746508618 :  50.0\n",
      "         ('p4', 't8') :  None :   20.39194789901208 :  50.0\n",
      "         ('p4', 't9') :  None :  -8.635879218542911 :  50.0\n",
      "    Genconst4 : Size=96\n",
      "        Key           : Lower : Body                : Upper\n",
      "         ('p1', 't1') :  None : -124.13459640800878 :  40.0\n",
      "        ('p1', 't10') :  None :   13.67347542922218 :  40.0\n",
      "        ('p1', 't11') :  None :   32.89283599779712 :  40.0\n",
      "        ('p1', 't12') :  None : -12.143576080656175 :  40.0\n",
      "        ('p1', 't13') :  None :   30.47049536221691 :  40.0\n",
      "        ('p1', 't14') :  None :  28.143773436065175 :  40.0\n",
      "        ('p1', 't15') :  None :  10.645549635119323 :  40.0\n",
      "        ('p1', 't16') :  None : -4.8765541741906375 :  40.0\n",
      "        ('p1', 't17') :  None :  -28.89303335333124 :  40.0\n",
      "        ('p1', 't18') :  None :  -39.99999999997783 :  40.0\n",
      "        ('p1', 't19') :  None :    5.27471876852799 :  40.0\n",
      "         ('p1', 't2') :  None :  -4.972172883374725 :  40.0\n",
      "        ('p1', 't20') :  None :  -12.78103414256448 :  40.0\n",
      "        ('p1', 't21') :  None :  31.331063745902284 :  40.0\n",
      "        ('p1', 't22') :  None :   9.179396092273663 :  40.0\n",
      "        ('p1', 't23') :  None :  31.872903099021677 :  40.0\n",
      "        ('p1', 't24') :  None :  30.651371619706403 :  40.0\n",
      "         ('p1', 't3') :  None :   9.944345766701389 :  40.0\n",
      "         ('p1', 't4') :  None :   27.15571343991209 :  40.0\n",
      "         ('p1', 't5') :  None :  16.701401223584043 :  40.0\n",
      "         ('p1', 't6') :  None :  27.410696664765553 :  40.0\n",
      "         ('p1', 't7') :  None :  -17.49822380110875 :  40.0\n",
      "         ('p1', 't8') :  None :  -27.76129859874935 :  40.0\n",
      "         ('p1', 't9') :  None : -32.287250838853836 :  40.0\n",
      "         ('p2', 't1') :  None :  -82.18324452342706 :  30.0\n",
      "        ('p2', 't10') :  None :   9.651865008821872 :  30.0\n",
      "        ('p2', 't11') :  None :  23.218472469033088 :  30.0\n",
      "        ('p2', 't12') :  None :   -8.57193605683915 :  30.0\n",
      "        ('p2', 't13') :  None :   21.50858496150078 :  30.0\n",
      "        ('p2', 't14') :  None :  19.866193013573998 :  30.0\n",
      "        ('p2', 't15') :  None :    7.51450562463771 :  30.0\n",
      "        ('p2', 't16') :  None :  -3.442273534588015 :  30.0\n",
      "        ('p2', 't17') :  None : -19.512729425747075 :  30.0\n",
      "        ('p2', 't18') :  None : -29.999999999977753 :  30.0\n",
      "        ('p2', 't19') :  None :   4.605683836559919 :  30.0\n",
      "         ('p2', 't2') :  None :  -3.509769094107426 :  30.0\n",
      "        ('p2', 't20') :  None :  -9.021906453478422 :  30.0\n",
      "        ('p2', 't21') :  None :  22.116044997036383 :  30.0\n",
      "        ('p2', 't22') :  None :   6.479573712218205 :  30.0\n",
      "        ('p2', 't23') :  None :  22.498519834233747 :  30.0\n",
      "        ('p2', 't24') :  None :  16.195085849636758 :  30.0\n",
      "         ('p2', 't3') :  None :   7.019538188285935 :  30.0\n",
      "         ('p2', 't4') :  None :  19.168738898735242 :  30.0\n",
      "         ('p2', 't5') :  None :  11.789224393155905 :  30.0\n",
      "         ('p2', 't6') :  None :  19.348727057353813 :  30.0\n",
      "         ('p2', 't7') :  None : -12.351687388929378 :  30.0\n",
      "         ('p2', 't8') :  None :   -19.5962107755404 :  30.0\n",
      "         ('p2', 't9') :  None : -22.791000592148677 :  30.0\n",
      "         ('p3', 't1') :  None :  -89.20767712649558 :  30.0\n",
      "        ('p3', 't10') :  None :   10.93878034341239 :  30.0\n",
      "        ('p3', 't11') :  None :   26.31426879666037 :  30.0\n",
      "        ('p3', 't12') :  None :   -9.71486086320462 :  30.0\n",
      "        ('p3', 't13') :  None :  24.376396289126674 :  30.0\n",
      "        ('p3', 't14') :  None :  22.515018748619703 :  30.0\n",
      "        ('p3', 't15') :  None :   8.516439707915502 :  30.0\n",
      "        ('p3', 't16') :  None : -3.9012433395105717 :  30.0\n",
      "        ('p3', 't17') :  None : -24.114426681700337 :  30.0\n",
      "        ('p3', 't18') :  None : -29.999999999977916 :  30.0\n",
      "        ('p3', 't19') :  None :   3.219775014540758 :  30.0\n",
      "         ('p3', 't2') :  None :  -3.977738306624431 :  30.0\n",
      "        ('p3', 't20') :  None : -10.224827313428946 :  30.0\n",
      "        ('p3', 't21') :  None :  25.064850995655874 :  30.0\n",
      "        ('p3', 't22') :  None :   7.343516874859986 :  30.0\n",
      "        ('p3', 't23') :  None :   25.49832247756902 :  30.0\n",
      "        ('p3', 't24') :  None :  14.421097296908105 :  30.0\n",
      "         ('p3', 't3') :  None :    7.95547661352883 :  30.0\n",
      "         ('p3', 't4') :  None :  21.724570751567967 :  30.0\n",
      "         ('p3', 't5') :  None :  13.361120979206817 :  30.0\n",
      "         ('p3', 't6') :  None :  21.928557331259675 :  30.0\n",
      "         ('p3', 't7') :  None : -13.998579040705316 :  30.0\n",
      "         ('p3', 't8') :  None :  -22.20903887920008 :  30.0\n",
      "         ('p3', 't9') :  None : -25.829800669983868 :  30.0\n",
      "         ('p4', 't1') :  None :  -72.37448194198456 :  50.0\n",
      "        ('p4', 't10') :  None :   8.635879218542911 :  50.0\n",
      "        ('p4', 't11') :  None :  20.774422736507717 :  50.0\n",
      "        ('p4', 't12') :  None : -7.6696269992993535 :  50.0\n",
      "        ('p4', 't13') :  None :   19.24452338715397 :  50.0\n",
      "        ('p4', 't14') :  None :  17.775014801739225 :  50.0\n",
      "        ('p4', 't15') :  None :   6.723505032326607 :  50.0\n",
      "        ('p4', 't16') :  None :  -3.079928951710343 :  50.0\n",
      "        ('p4', 't17') :  None :  -5.879810539297658 :  50.0\n",
      "        ('p4', 't18') :  None :  -49.99999999997654 :  50.0\n",
      "        ('p4', 't19') :  None :   15.69982238036161 :  50.0\n",
      "         ('p4', 't2') :  None :  -3.140319715893156 :  50.0\n",
      "        ('p4', 't20') :  None :  -8.072232090527493 :  50.0\n",
      "        ('p4', 't21') :  None :   19.78804026140382 :  50.0\n",
      "        ('p4', 't22') :  None :  5.7975133206476315 :  50.0\n",
      "        ('p4', 't23') :  None :  20.130254589173347 :  50.0\n",
      "        ('p4', 't24') :  None :  13.332445233670029 :  50.0\n",
      "         ('p4', 't3') :  None :   6.280639431483422 :  50.0\n",
      "         ('p4', 't4') :  None :  17.150976909783367 :  50.0\n",
      "         ('p4', 't5') :  None :  10.548253404052332 :  50.0\n",
      "         ('p4', 't6') :  None :  17.312018946619332 :  50.0\n",
      "         ('p4', 't7') :  None : -11.051509769255517 :  50.0\n",
      "         ('p4', 't8') :  None : -17.533451746508618 :  50.0\n",
      "         ('p4', 't9') :  None :  -20.39194789901208 :  50.0\n",
      "    balance : Size=24\n",
      "        Key : Lower : Body               : Upper\n",
      "         t1 : 510.0 : 510.00000000000006 : 510.0\n",
      "        t10 : 734.0 :              734.0 : 734.0\n",
      "        t11 : 748.0 :              748.0 : 748.0\n",
      "        t12 : 760.0 :              760.0 : 760.0\n",
      "        t13 : 754.0 :              754.0 : 754.0\n",
      "        t14 : 700.0 :  699.9999999999999 : 700.0\n",
      "        t15 : 686.0 :              686.0 : 686.0\n",
      "        t16 : 720.0 :              720.0 : 720.0\n",
      "        t17 : 714.0 :              714.0 : 714.0\n",
      "        t18 : 761.0 :              761.0 : 761.0\n",
      "        t19 : 727.0 :              727.0 : 727.0\n",
      "         t2 : 530.0 :              530.0 : 530.0\n",
      "        t20 : 714.0 :              714.0 : 714.0\n",
      "        t21 : 618.0 :              618.0 : 618.0\n",
      "        t22 : 584.0 :              584.0 : 584.0\n",
      "        t23 : 578.0 :              578.0 : 578.0\n",
      "        t24 : 544.0 :              544.0 : 544.0\n",
      "         t3 : 516.0 :  515.9999999999999 : 516.0\n",
      "         t4 : 510.0 :              510.0 : 510.0\n",
      "         t5 : 515.0 :              515.0 : 515.0\n",
      "         t6 : 544.0 :              544.0 : 544.0\n",
      "         t7 : 646.0 :              646.0 : 646.0\n",
      "         t8 : 686.0 :              686.0 : 686.0\n",
      "         t9 : 741.0 :              741.0 : 741.0\n",
      "    wind : Size=24\n",
      "        Key : Lower : Body  : Upper\n",
      "         t1 :  44.1 :  44.1 :  44.1\n",
      "        t10 : 306.9 : 306.9 : 306.9\n",
      "        t11 : 424.1 : 424.1 : 424.1\n",
      "        t12 : 398.0 : 398.0 : 398.0\n",
      "        t13 : 487.6 : 487.6 : 487.6\n",
      "        t14 : 521.9 : 521.9 : 521.9\n",
      "        t15 : 541.3 : 541.3 : 541.3\n",
      "        t16 : 560.0 : 560.0 : 560.0\n",
      "        t17 : 486.8 : 486.8 : 486.8\n",
      "        t18 : 372.6 : 372.6 : 372.6\n",
      "        t19 : 367.4 : 367.4 : 367.4\n",
      "         t2 :  48.5 :  48.5 :  48.5\n",
      "        t20 : 314.3 : 314.3 : 314.3\n",
      "        t21 : 316.6 : 316.6 : 316.6\n",
      "        t22 : 311.4 : 311.4 : 311.4\n",
      "        t23 : 405.4 : 405.4 : 405.4\n",
      "        t24 : 470.4 : 470.4 : 470.4\n",
      "         t3 :  65.7 :  65.7 :  65.7\n",
      "         t4 : 144.9 : 144.9 : 144.9\n",
      "         t5 : 202.3 : 202.3 : 202.3\n",
      "         t6 : 317.3 : 317.3 : 317.3\n",
      "         t7 : 364.4 : 364.4 : 364.4\n",
      "         t8 : 317.3 : 317.3 : 317.3\n",
      "         t9 : 271.0 : 271.0 : 271.0\n",
      "    EMcalc : Size=1\n",
      "        Key  : Lower : Body                   : Upper\n",
      "        None :   0.0 : 1.1641532182693481e-09 :   0.0\n"
     ]
    }
   ],
   "source": [
    "model.display() "
   ]
  },
  {
   "cell_type": "markdown",
   "id": "9d66aaa5",
   "metadata": {},
   "source": [
    "Total emissions in this DED-ESS-Wind = 870,440 kg CO2 (722)\n",
    "\n",
    "Total emissions in the  DED-Wind.    = 904,571 kg CO2 (722 no ESS)\n",
    "\n",
    "Total emissions in the  DED-ESS      = 3,592,887 kg CO2 (721)\n",
    "\n",
    "Total emissions in the  DED          = 3,558,327  kg CO2  (41)"
   ]
  },
  {
   "cell_type": "code",
   "execution_count": null,
   "id": "970dec8e",
   "metadata": {},
   "outputs": [],
   "source": []
  },
  {
   "cell_type": "markdown",
   "id": "ef0d2071",
   "metadata": {},
   "source": [
    "Total Electricity Generation Cost in the DED - ESS - Wind = $223,360 (722)\n",
    "\n",
    "Total Electricity Generation Cost in the DED-Wind      = $228,702  (722 wo ESS)\n",
    "\n",
    "  \n",
    "Total Electricity Generation Cost in the DED - ESS      = $645,525    (721)\n",
    "\n",
    "Total Electricity Generation Cost in the DED          = $647,964     (41)\n",
    "\n"
   ]
  },
  {
   "cell_type": "code",
   "execution_count": null,
   "id": "854aaee3",
   "metadata": {},
   "outputs": [],
   "source": []
  },
  {
   "cell_type": "markdown",
   "id": "47603f4f",
   "metadata": {},
   "source": [
    "Wind Curtailment (722):\n",
    "    \n",
    "    With ESS: 0\n",
    "    Without ESS: 35.6 MW"
   ]
  },
  {
   "cell_type": "code",
   "execution_count": null,
   "id": "1b22737a",
   "metadata": {},
   "outputs": [],
   "source": []
  },
  {
   "cell_type": "code",
   "execution_count": null,
   "id": "5c92f22f",
   "metadata": {},
   "outputs": [],
   "source": []
  },
  {
   "cell_type": "code",
   "execution_count": 25,
   "id": "a7d09055",
   "metadata": {
    "scrolled": true
   },
   "outputs": [
    {
     "data": {
      "text/plain": [
       "228695.36590744954"
      ]
     },
     "execution_count": 25,
     "metadata": {},
     "output_type": "execute_result"
    }
   ],
   "source": [
    "result_wind['Problem'][0]['Lower bound']  "
   ]
  },
  {
   "cell_type": "code",
   "execution_count": 26,
   "id": "28b4ffc1",
   "metadata": {},
   "outputs": [
    {
     "data": {
      "text/plain": [
       "228701.94995239523"
      ]
     },
     "execution_count": 26,
     "metadata": {},
     "output_type": "execute_result"
    }
   ],
   "source": [
    "result_wind['Problem'][0]['Upper bound'] #This is the TC"
   ]
  },
  {
   "cell_type": "code",
   "execution_count": null,
   "id": "f02936a7",
   "metadata": {},
   "outputs": [],
   "source": []
  },
  {
   "cell_type": "code",
   "execution_count": 27,
   "id": "b113b6df",
   "metadata": {},
   "outputs": [
    {
     "data": {
      "text/plain": [
       "False"
      ]
     },
     "execution_count": 27,
     "metadata": {},
     "output_type": "execute_result"
    }
   ],
   "source": [
    "result_wind['Problem'][0]['Upper bound']  == result_wind['Problem'][0]['Lower bound']  #equal to each other. Convergence"
   ]
  },
  {
   "cell_type": "code",
   "execution_count": 28,
   "id": "e27e8665",
   "metadata": {},
   "outputs": [
    {
     "data": {
      "text/plain": [
       "237"
      ]
     },
     "execution_count": 28,
     "metadata": {},
     "output_type": "execute_result"
    }
   ],
   "source": [
    "result_wind['Problem'][0]['Number of constraints']  "
   ]
  },
  {
   "cell_type": "code",
   "execution_count": 29,
   "id": "627216e7",
   "metadata": {},
   "outputs": [
    {
     "data": {
      "text/plain": [
       "146"
      ]
     },
     "execution_count": 29,
     "metadata": {},
     "output_type": "execute_result"
    }
   ],
   "source": [
    "result_wind['Problem'][0]['Number of variables']  "
   ]
  },
  {
   "cell_type": "code",
   "execution_count": 30,
   "id": "c5210332",
   "metadata": {},
   "outputs": [
    {
     "data": {
      "text/plain": [
       "0"
      ]
     },
     "execution_count": 30,
     "metadata": {},
     "output_type": "execute_result"
    }
   ],
   "source": [
    "result_wind['Problem'][0]['Number of binary variables']  "
   ]
  },
  {
   "cell_type": "code",
   "execution_count": 31,
   "id": "da181816",
   "metadata": {},
   "outputs": [
    {
     "data": {
      "text/plain": [
       "0"
      ]
     },
     "execution_count": 31,
     "metadata": {},
     "output_type": "execute_result"
    }
   ],
   "source": [
    "result_wind['Problem'][0]['Number of binary variables']  "
   ]
  },
  {
   "cell_type": "code",
   "execution_count": 32,
   "id": "3ea8927f",
   "metadata": {},
   "outputs": [
    {
     "data": {
      "text/plain": [
       "0"
      ]
     },
     "execution_count": 32,
     "metadata": {},
     "output_type": "execute_result"
    }
   ],
   "source": [
    "result_wind['Problem'][0]['Number of binary variables']  "
   ]
  },
  {
   "cell_type": "code",
   "execution_count": 33,
   "id": "e65a6f58",
   "metadata": {},
   "outputs": [
    {
     "data": {
      "text/plain": [
       "146"
      ]
     },
     "execution_count": 33,
     "metadata": {},
     "output_type": "execute_result"
    }
   ],
   "source": [
    "result_wind['Problem'][0]['Number of continuous variables']  "
   ]
  },
  {
   "cell_type": "code",
   "execution_count": 34,
   "id": "b2f52134",
   "metadata": {},
   "outputs": [
    {
     "data": {
      "text/plain": [
       "<ProblemSense.minimize: 'minimize'>"
      ]
     },
     "execution_count": 34,
     "metadata": {},
     "output_type": "execute_result"
    }
   ],
   "source": [
    "result_wind['Problem'][0]['Sense']"
   ]
  },
  {
   "cell_type": "code",
   "execution_count": 35,
   "id": "08b80b60",
   "metadata": {},
   "outputs": [
    {
     "data": {
      "text/plain": [
       "'Model was solved to optimality (subject to tolerances), and an optimal solution is available.'"
      ]
     },
     "execution_count": 35,
     "metadata": {},
     "output_type": "execute_result"
    }
   ],
   "source": [
    "result_wind['Solver'][0]['Message']"
   ]
  },
  {
   "cell_type": "code",
   "execution_count": 36,
   "id": "697a89d7",
   "metadata": {},
   "outputs": [
    {
     "data": {
      "text/plain": [
       "<TerminationCondition.optimal: 'optimal'>"
      ]
     },
     "execution_count": 36,
     "metadata": {},
     "output_type": "execute_result"
    }
   ],
   "source": [
    "result_wind['Solver'][0]['Termination condition']"
   ]
  },
  {
   "cell_type": "code",
   "execution_count": 37,
   "id": "95e5c22f",
   "metadata": {},
   "outputs": [
    {
     "data": {
      "text/plain": [
       "0.10237693786621094"
      ]
     },
     "execution_count": 37,
     "metadata": {},
     "output_type": "execute_result"
    }
   ],
   "source": [
    "result_wind['Solver'][0]['Time'] #solution time ie how much time it took to solve"
   ]
  },
  {
   "cell_type": "code",
   "execution_count": 38,
   "id": "1b0c6925",
   "metadata": {},
   "outputs": [
    {
     "data": {
      "text/plain": [
       "152.13459640803507"
      ]
     },
     "execution_count": 38,
     "metadata": {},
     "output_type": "execute_result"
    }
   ],
   "source": [
    "model.p['p1','t1'].value  #shows the optimal value ie output of p1 at t1 in MW."
   ]
  },
  {
   "cell_type": "code",
   "execution_count": null,
   "id": "a1154f5d",
   "metadata": {},
   "outputs": [],
   "source": []
  },
  {
   "cell_type": "markdown",
   "id": "6f7829e2",
   "metadata": {},
   "source": [
    "#### Plots"
   ]
  },
  {
   "cell_type": "code",
   "execution_count": null,
   "id": "d7906fcb",
   "metadata": {},
   "outputs": [],
   "source": []
  },
  {
   "cell_type": "code",
   "execution_count": 39,
   "id": "666eac75",
   "metadata": {},
   "outputs": [],
   "source": [
    "#same as the values of the input 'data' that we defined above. This is the load in MW\n",
    "L_lst = [510.00,\n",
    "         530.00,\n",
    "         516.00,\n",
    "         510.00,\n",
    "         515.00,\n",
    "         544.00,\n",
    "         646.00,\n",
    "         686.00,\n",
    "         741.00,\n",
    "         734.00,\n",
    "         748.00,\n",
    "         760.00,\n",
    "         754.00,\n",
    "         700.00,\n",
    "         686.00,\n",
    "         720.00,\n",
    "         714.00,\n",
    "         761.00,\n",
    "         727.00,\n",
    "         714.00,\n",
    "         618.00,\n",
    "         584.00,\n",
    "         578.00,\n",
    "         544.00]"
   ]
  },
  {
   "cell_type": "code",
   "execution_count": 40,
   "id": "bb6f3a23",
   "metadata": {},
   "outputs": [],
   "source": [
    "pg_lst = []\n",
    "\n",
    "for t in model.t_hours:  # ['t1', 't2', etc.... 't24'] . Eg 't1'\n",
    "    val = 0\n",
    "    for g in model.g_units:  # ['p1', 'p2', 'p3', 'p4']\n",
    "        val +=model.p[g, t].value  # we sum the output of p1, p2, p3, p4, at periot t. Ie total output per period. \n",
    "    \n",
    "    pg_lst.append(round(val, 2))"
   ]
  },
  {
   "cell_type": "code",
   "execution_count": 41,
   "id": "049cd017",
   "metadata": {},
   "outputs": [
    {
     "data": {
      "text/plain": [
       "[44.1,\n",
       " 48.5,\n",
       " 65.7,\n",
       " 144.9,\n",
       " 202.3,\n",
       " 317.3,\n",
       " 364.4,\n",
       " 317.3,\n",
       " 271.0,\n",
       " 306.9,\n",
       " 424.1,\n",
       " 398.0,\n",
       " 487.6,\n",
       " 521.9,\n",
       " 541.3,\n",
       " 560.0,\n",
       " 475.6,\n",
       " 372.6,\n",
       " 367.4,\n",
       " 314.3,\n",
       " 316.6,\n",
       " 311.4,\n",
       " 405.4,\n",
       " 446.0]"
      ]
     },
     "execution_count": 41,
     "metadata": {},
     "output_type": "execute_result"
    }
   ],
   "source": [
    "pw_lst = []\n",
    "\n",
    "for t in model.t_hours:  # ['t1', 't2', etc.... 't24'] . Eg 't1'\n",
    "    pw_lst.append(round(model.Pw[t].value, 2))\n",
    "pw_lst  # Wind generation at time t in MW"
   ]
  },
  {
   "cell_type": "code",
   "execution_count": 42,
   "id": "ace16d04",
   "metadata": {},
   "outputs": [
    {
     "data": {
      "text/plain": [
       "[0.0,\n",
       " 0.0,\n",
       " 0.0,\n",
       " 0.0,\n",
       " 0.0,\n",
       " 0.0,\n",
       " 0.0,\n",
       " 0.0,\n",
       " 0.0,\n",
       " 0.0,\n",
       " 0.0,\n",
       " 0.0,\n",
       " 0.0,\n",
       " 0.0,\n",
       " 0.0,\n",
       " 0.0,\n",
       " 11.2,\n",
       " 0.0,\n",
       " 0.0,\n",
       " 0.0,\n",
       " 0.0,\n",
       " 0.0,\n",
       " 0.0,\n",
       " 24.4]"
      ]
     },
     "execution_count": 42,
     "metadata": {},
     "output_type": "execute_result"
    }
   ],
   "source": [
    "pwc_lst = []\n",
    "\n",
    "for t in model.t_hours:  # ['t1', 't2', etc.... 't24'] . Eg 't1'\n",
    "    pwc_lst.append(round(model.PWC[t].value, 2))\n",
    "pwc_lst  # Wind curtailment at time t"
   ]
  },
  {
   "cell_type": "code",
   "execution_count": 56,
   "id": "69860509",
   "metadata": {},
   "outputs": [
    {
     "data": {
      "text/plain": [
       "35.599999999999994"
      ]
     },
     "execution_count": 56,
     "metadata": {},
     "output_type": "execute_result"
    }
   ],
   "source": [
    "11.2+24.4"
   ]
  },
  {
   "cell_type": "code",
   "execution_count": null,
   "id": "21cb70aa",
   "metadata": {},
   "outputs": [],
   "source": []
  },
  {
   "cell_type": "markdown",
   "id": "914fdba7",
   "metadata": {
    "colab": {
     "base_uri": "https://localhost:8080/"
    },
    "id": "AqSXobLLF4MT",
    "outputId": "cab230bb-085f-4e88-aab9-466ceb7e91a7"
   },
   "source": [
    "placing all the above in one place"
   ]
  },
  {
   "cell_type": "code",
   "execution_count": 43,
   "id": "57b9431b",
   "metadata": {},
   "outputs": [],
   "source": [
    "list1 = [ L_lst, pg_lst, pw_lst, pwc_lst] "
   ]
  },
  {
   "cell_type": "code",
   "execution_count": 44,
   "id": "4177589b",
   "metadata": {},
   "outputs": [
    {
     "data": {
      "text/html": [
       "<div>\n",
       "<style scoped>\n",
       "    .dataframe tbody tr th:only-of-type {\n",
       "        vertical-align: middle;\n",
       "    }\n",
       "\n",
       "    .dataframe tbody tr th {\n",
       "        vertical-align: top;\n",
       "    }\n",
       "\n",
       "    .dataframe thead th {\n",
       "        text-align: right;\n",
       "    }\n",
       "</style>\n",
       "<table border=\"1\" class=\"dataframe\">\n",
       "  <thead>\n",
       "    <tr style=\"text-align: right;\">\n",
       "      <th></th>\n",
       "      <th>0</th>\n",
       "      <th>1</th>\n",
       "      <th>2</th>\n",
       "      <th>3</th>\n",
       "      <th>4</th>\n",
       "      <th>5</th>\n",
       "      <th>6</th>\n",
       "      <th>7</th>\n",
       "      <th>8</th>\n",
       "      <th>9</th>\n",
       "      <th>...</th>\n",
       "      <th>14</th>\n",
       "      <th>15</th>\n",
       "      <th>16</th>\n",
       "      <th>17</th>\n",
       "      <th>18</th>\n",
       "      <th>19</th>\n",
       "      <th>20</th>\n",
       "      <th>21</th>\n",
       "      <th>22</th>\n",
       "      <th>23</th>\n",
       "    </tr>\n",
       "  </thead>\n",
       "  <tbody>\n",
       "    <tr>\n",
       "      <th>0</th>\n",
       "      <td>510.0</td>\n",
       "      <td>530.0</td>\n",
       "      <td>516.0</td>\n",
       "      <td>510.0</td>\n",
       "      <td>515.0</td>\n",
       "      <td>544.0</td>\n",
       "      <td>646.0</td>\n",
       "      <td>686.0</td>\n",
       "      <td>741.0</td>\n",
       "      <td>734.0</td>\n",
       "      <td>...</td>\n",
       "      <td>686.0</td>\n",
       "      <td>720.0</td>\n",
       "      <td>714.0</td>\n",
       "      <td>761.0</td>\n",
       "      <td>727.0</td>\n",
       "      <td>714.0</td>\n",
       "      <td>618.0</td>\n",
       "      <td>584.0</td>\n",
       "      <td>578.0</td>\n",
       "      <td>544.0</td>\n",
       "    </tr>\n",
       "    <tr>\n",
       "      <th>1</th>\n",
       "      <td>465.9</td>\n",
       "      <td>481.5</td>\n",
       "      <td>450.3</td>\n",
       "      <td>365.1</td>\n",
       "      <td>312.7</td>\n",
       "      <td>226.7</td>\n",
       "      <td>281.6</td>\n",
       "      <td>368.7</td>\n",
       "      <td>470.0</td>\n",
       "      <td>427.1</td>\n",
       "      <td>...</td>\n",
       "      <td>144.7</td>\n",
       "      <td>160.0</td>\n",
       "      <td>238.4</td>\n",
       "      <td>388.4</td>\n",
       "      <td>359.6</td>\n",
       "      <td>399.7</td>\n",
       "      <td>301.4</td>\n",
       "      <td>272.6</td>\n",
       "      <td>172.6</td>\n",
       "      <td>98.0</td>\n",
       "    </tr>\n",
       "    <tr>\n",
       "      <th>2</th>\n",
       "      <td>44.1</td>\n",
       "      <td>48.5</td>\n",
       "      <td>65.7</td>\n",
       "      <td>144.9</td>\n",
       "      <td>202.3</td>\n",
       "      <td>317.3</td>\n",
       "      <td>364.4</td>\n",
       "      <td>317.3</td>\n",
       "      <td>271.0</td>\n",
       "      <td>306.9</td>\n",
       "      <td>...</td>\n",
       "      <td>541.3</td>\n",
       "      <td>560.0</td>\n",
       "      <td>475.6</td>\n",
       "      <td>372.6</td>\n",
       "      <td>367.4</td>\n",
       "      <td>314.3</td>\n",
       "      <td>316.6</td>\n",
       "      <td>311.4</td>\n",
       "      <td>405.4</td>\n",
       "      <td>446.0</td>\n",
       "    </tr>\n",
       "    <tr>\n",
       "      <th>3</th>\n",
       "      <td>0.0</td>\n",
       "      <td>0.0</td>\n",
       "      <td>0.0</td>\n",
       "      <td>0.0</td>\n",
       "      <td>0.0</td>\n",
       "      <td>0.0</td>\n",
       "      <td>0.0</td>\n",
       "      <td>0.0</td>\n",
       "      <td>0.0</td>\n",
       "      <td>0.0</td>\n",
       "      <td>...</td>\n",
       "      <td>0.0</td>\n",
       "      <td>0.0</td>\n",
       "      <td>11.2</td>\n",
       "      <td>0.0</td>\n",
       "      <td>0.0</td>\n",
       "      <td>0.0</td>\n",
       "      <td>0.0</td>\n",
       "      <td>0.0</td>\n",
       "      <td>0.0</td>\n",
       "      <td>24.4</td>\n",
       "    </tr>\n",
       "  </tbody>\n",
       "</table>\n",
       "<p>4 rows × 24 columns</p>\n",
       "</div>"
      ],
      "text/plain": [
       "      0      1      2      3      4      5      6      7      8      9   ...  \\\n",
       "0  510.0  530.0  516.0  510.0  515.0  544.0  646.0  686.0  741.0  734.0  ...   \n",
       "1  465.9  481.5  450.3  365.1  312.7  226.7  281.6  368.7  470.0  427.1  ...   \n",
       "2   44.1   48.5   65.7  144.9  202.3  317.3  364.4  317.3  271.0  306.9  ...   \n",
       "3    0.0    0.0    0.0    0.0    0.0    0.0    0.0    0.0    0.0    0.0  ...   \n",
       "\n",
       "      14     15     16     17     18     19     20     21     22     23  \n",
       "0  686.0  720.0  714.0  761.0  727.0  714.0  618.0  584.0  578.0  544.0  \n",
       "1  144.7  160.0  238.4  388.4  359.6  399.7  301.4  272.6  172.6   98.0  \n",
       "2  541.3  560.0  475.6  372.6  367.4  314.3  316.6  311.4  405.4  446.0  \n",
       "3    0.0    0.0   11.2    0.0    0.0    0.0    0.0    0.0    0.0   24.4  \n",
       "\n",
       "[4 rows x 24 columns]"
      ]
     },
     "execution_count": 44,
     "metadata": {},
     "output_type": "execute_result"
    }
   ],
   "source": [
    "dataframe1 = pd.DataFrame(np.array(list1)) #the array is converted to a dataframe\n",
    "dataframe1"
   ]
  },
  {
   "cell_type": "code",
   "execution_count": 45,
   "id": "3b858b16",
   "metadata": {},
   "outputs": [
    {
     "data": {
      "text/html": [
       "<div>\n",
       "<style scoped>\n",
       "    .dataframe tbody tr th:only-of-type {\n",
       "        vertical-align: middle;\n",
       "    }\n",
       "\n",
       "    .dataframe tbody tr th {\n",
       "        vertical-align: top;\n",
       "    }\n",
       "\n",
       "    .dataframe thead th {\n",
       "        text-align: right;\n",
       "    }\n",
       "</style>\n",
       "<table border=\"1\" class=\"dataframe\">\n",
       "  <thead>\n",
       "    <tr style=\"text-align: right;\">\n",
       "      <th></th>\n",
       "      <th>0</th>\n",
       "      <th>1</th>\n",
       "      <th>2</th>\n",
       "      <th>3</th>\n",
       "    </tr>\n",
       "  </thead>\n",
       "  <tbody>\n",
       "    <tr>\n",
       "      <th>0</th>\n",
       "      <td>510.0</td>\n",
       "      <td>465.9</td>\n",
       "      <td>44.1</td>\n",
       "      <td>0.0</td>\n",
       "    </tr>\n",
       "    <tr>\n",
       "      <th>1</th>\n",
       "      <td>530.0</td>\n",
       "      <td>481.5</td>\n",
       "      <td>48.5</td>\n",
       "      <td>0.0</td>\n",
       "    </tr>\n",
       "    <tr>\n",
       "      <th>2</th>\n",
       "      <td>516.0</td>\n",
       "      <td>450.3</td>\n",
       "      <td>65.7</td>\n",
       "      <td>0.0</td>\n",
       "    </tr>\n",
       "    <tr>\n",
       "      <th>3</th>\n",
       "      <td>510.0</td>\n",
       "      <td>365.1</td>\n",
       "      <td>144.9</td>\n",
       "      <td>0.0</td>\n",
       "    </tr>\n",
       "    <tr>\n",
       "      <th>4</th>\n",
       "      <td>515.0</td>\n",
       "      <td>312.7</td>\n",
       "      <td>202.3</td>\n",
       "      <td>0.0</td>\n",
       "    </tr>\n",
       "    <tr>\n",
       "      <th>5</th>\n",
       "      <td>544.0</td>\n",
       "      <td>226.7</td>\n",
       "      <td>317.3</td>\n",
       "      <td>0.0</td>\n",
       "    </tr>\n",
       "    <tr>\n",
       "      <th>6</th>\n",
       "      <td>646.0</td>\n",
       "      <td>281.6</td>\n",
       "      <td>364.4</td>\n",
       "      <td>0.0</td>\n",
       "    </tr>\n",
       "    <tr>\n",
       "      <th>7</th>\n",
       "      <td>686.0</td>\n",
       "      <td>368.7</td>\n",
       "      <td>317.3</td>\n",
       "      <td>0.0</td>\n",
       "    </tr>\n",
       "    <tr>\n",
       "      <th>8</th>\n",
       "      <td>741.0</td>\n",
       "      <td>470.0</td>\n",
       "      <td>271.0</td>\n",
       "      <td>0.0</td>\n",
       "    </tr>\n",
       "    <tr>\n",
       "      <th>9</th>\n",
       "      <td>734.0</td>\n",
       "      <td>427.1</td>\n",
       "      <td>306.9</td>\n",
       "      <td>0.0</td>\n",
       "    </tr>\n",
       "    <tr>\n",
       "      <th>10</th>\n",
       "      <td>748.0</td>\n",
       "      <td>323.9</td>\n",
       "      <td>424.1</td>\n",
       "      <td>0.0</td>\n",
       "    </tr>\n",
       "    <tr>\n",
       "      <th>11</th>\n",
       "      <td>760.0</td>\n",
       "      <td>362.0</td>\n",
       "      <td>398.0</td>\n",
       "      <td>0.0</td>\n",
       "    </tr>\n",
       "    <tr>\n",
       "      <th>12</th>\n",
       "      <td>754.0</td>\n",
       "      <td>266.4</td>\n",
       "      <td>487.6</td>\n",
       "      <td>0.0</td>\n",
       "    </tr>\n",
       "    <tr>\n",
       "      <th>13</th>\n",
       "      <td>700.0</td>\n",
       "      <td>178.1</td>\n",
       "      <td>521.9</td>\n",
       "      <td>0.0</td>\n",
       "    </tr>\n",
       "    <tr>\n",
       "      <th>14</th>\n",
       "      <td>686.0</td>\n",
       "      <td>144.7</td>\n",
       "      <td>541.3</td>\n",
       "      <td>0.0</td>\n",
       "    </tr>\n",
       "    <tr>\n",
       "      <th>15</th>\n",
       "      <td>720.0</td>\n",
       "      <td>160.0</td>\n",
       "      <td>560.0</td>\n",
       "      <td>0.0</td>\n",
       "    </tr>\n",
       "    <tr>\n",
       "      <th>16</th>\n",
       "      <td>714.0</td>\n",
       "      <td>238.4</td>\n",
       "      <td>475.6</td>\n",
       "      <td>11.2</td>\n",
       "    </tr>\n",
       "    <tr>\n",
       "      <th>17</th>\n",
       "      <td>761.0</td>\n",
       "      <td>388.4</td>\n",
       "      <td>372.6</td>\n",
       "      <td>0.0</td>\n",
       "    </tr>\n",
       "    <tr>\n",
       "      <th>18</th>\n",
       "      <td>727.0</td>\n",
       "      <td>359.6</td>\n",
       "      <td>367.4</td>\n",
       "      <td>0.0</td>\n",
       "    </tr>\n",
       "    <tr>\n",
       "      <th>19</th>\n",
       "      <td>714.0</td>\n",
       "      <td>399.7</td>\n",
       "      <td>314.3</td>\n",
       "      <td>0.0</td>\n",
       "    </tr>\n",
       "    <tr>\n",
       "      <th>20</th>\n",
       "      <td>618.0</td>\n",
       "      <td>301.4</td>\n",
       "      <td>316.6</td>\n",
       "      <td>0.0</td>\n",
       "    </tr>\n",
       "    <tr>\n",
       "      <th>21</th>\n",
       "      <td>584.0</td>\n",
       "      <td>272.6</td>\n",
       "      <td>311.4</td>\n",
       "      <td>0.0</td>\n",
       "    </tr>\n",
       "    <tr>\n",
       "      <th>22</th>\n",
       "      <td>578.0</td>\n",
       "      <td>172.6</td>\n",
       "      <td>405.4</td>\n",
       "      <td>0.0</td>\n",
       "    </tr>\n",
       "    <tr>\n",
       "      <th>23</th>\n",
       "      <td>544.0</td>\n",
       "      <td>98.0</td>\n",
       "      <td>446.0</td>\n",
       "      <td>24.4</td>\n",
       "    </tr>\n",
       "  </tbody>\n",
       "</table>\n",
       "</div>"
      ],
      "text/plain": [
       "        0      1      2     3\n",
       "0   510.0  465.9   44.1   0.0\n",
       "1   530.0  481.5   48.5   0.0\n",
       "2   516.0  450.3   65.7   0.0\n",
       "3   510.0  365.1  144.9   0.0\n",
       "4   515.0  312.7  202.3   0.0\n",
       "5   544.0  226.7  317.3   0.0\n",
       "6   646.0  281.6  364.4   0.0\n",
       "7   686.0  368.7  317.3   0.0\n",
       "8   741.0  470.0  271.0   0.0\n",
       "9   734.0  427.1  306.9   0.0\n",
       "10  748.0  323.9  424.1   0.0\n",
       "11  760.0  362.0  398.0   0.0\n",
       "12  754.0  266.4  487.6   0.0\n",
       "13  700.0  178.1  521.9   0.0\n",
       "14  686.0  144.7  541.3   0.0\n",
       "15  720.0  160.0  560.0   0.0\n",
       "16  714.0  238.4  475.6  11.2\n",
       "17  761.0  388.4  372.6   0.0\n",
       "18  727.0  359.6  367.4   0.0\n",
       "19  714.0  399.7  314.3   0.0\n",
       "20  618.0  301.4  316.6   0.0\n",
       "21  584.0  272.6  311.4   0.0\n",
       "22  578.0  172.6  405.4   0.0\n",
       "23  544.0   98.0  446.0  24.4"
      ]
     },
     "execution_count": 45,
     "metadata": {},
     "output_type": "execute_result"
    }
   ],
   "source": [
    "data_tables = dataframe1.T  #we transpose it ie its rows become columns, and its columns become rows.\n",
    "data_tables"
   ]
  },
  {
   "cell_type": "code",
   "execution_count": 46,
   "id": "795b9d8d",
   "metadata": {},
   "outputs": [
    {
     "data": {
      "text/html": [
       "<div>\n",
       "<style scoped>\n",
       "    .dataframe tbody tr th:only-of-type {\n",
       "        vertical-align: middle;\n",
       "    }\n",
       "\n",
       "    .dataframe tbody tr th {\n",
       "        vertical-align: top;\n",
       "    }\n",
       "\n",
       "    .dataframe thead th {\n",
       "        text-align: right;\n",
       "    }\n",
       "</style>\n",
       "<table border=\"1\" class=\"dataframe\">\n",
       "  <thead>\n",
       "    <tr style=\"text-align: right;\">\n",
       "      <th></th>\n",
       "      <th>0</th>\n",
       "      <th>1</th>\n",
       "      <th>2</th>\n",
       "      <th>3</th>\n",
       "    </tr>\n",
       "  </thead>\n",
       "  <tbody>\n",
       "    <tr>\n",
       "      <th>1</th>\n",
       "      <td>510.0</td>\n",
       "      <td>465.9</td>\n",
       "      <td>44.1</td>\n",
       "      <td>0.0</td>\n",
       "    </tr>\n",
       "    <tr>\n",
       "      <th>2</th>\n",
       "      <td>530.0</td>\n",
       "      <td>481.5</td>\n",
       "      <td>48.5</td>\n",
       "      <td>0.0</td>\n",
       "    </tr>\n",
       "    <tr>\n",
       "      <th>3</th>\n",
       "      <td>516.0</td>\n",
       "      <td>450.3</td>\n",
       "      <td>65.7</td>\n",
       "      <td>0.0</td>\n",
       "    </tr>\n",
       "    <tr>\n",
       "      <th>4</th>\n",
       "      <td>510.0</td>\n",
       "      <td>365.1</td>\n",
       "      <td>144.9</td>\n",
       "      <td>0.0</td>\n",
       "    </tr>\n",
       "    <tr>\n",
       "      <th>5</th>\n",
       "      <td>515.0</td>\n",
       "      <td>312.7</td>\n",
       "      <td>202.3</td>\n",
       "      <td>0.0</td>\n",
       "    </tr>\n",
       "    <tr>\n",
       "      <th>6</th>\n",
       "      <td>544.0</td>\n",
       "      <td>226.7</td>\n",
       "      <td>317.3</td>\n",
       "      <td>0.0</td>\n",
       "    </tr>\n",
       "    <tr>\n",
       "      <th>7</th>\n",
       "      <td>646.0</td>\n",
       "      <td>281.6</td>\n",
       "      <td>364.4</td>\n",
       "      <td>0.0</td>\n",
       "    </tr>\n",
       "    <tr>\n",
       "      <th>8</th>\n",
       "      <td>686.0</td>\n",
       "      <td>368.7</td>\n",
       "      <td>317.3</td>\n",
       "      <td>0.0</td>\n",
       "    </tr>\n",
       "    <tr>\n",
       "      <th>9</th>\n",
       "      <td>741.0</td>\n",
       "      <td>470.0</td>\n",
       "      <td>271.0</td>\n",
       "      <td>0.0</td>\n",
       "    </tr>\n",
       "    <tr>\n",
       "      <th>10</th>\n",
       "      <td>734.0</td>\n",
       "      <td>427.1</td>\n",
       "      <td>306.9</td>\n",
       "      <td>0.0</td>\n",
       "    </tr>\n",
       "    <tr>\n",
       "      <th>11</th>\n",
       "      <td>748.0</td>\n",
       "      <td>323.9</td>\n",
       "      <td>424.1</td>\n",
       "      <td>0.0</td>\n",
       "    </tr>\n",
       "    <tr>\n",
       "      <th>12</th>\n",
       "      <td>760.0</td>\n",
       "      <td>362.0</td>\n",
       "      <td>398.0</td>\n",
       "      <td>0.0</td>\n",
       "    </tr>\n",
       "    <tr>\n",
       "      <th>13</th>\n",
       "      <td>754.0</td>\n",
       "      <td>266.4</td>\n",
       "      <td>487.6</td>\n",
       "      <td>0.0</td>\n",
       "    </tr>\n",
       "    <tr>\n",
       "      <th>14</th>\n",
       "      <td>700.0</td>\n",
       "      <td>178.1</td>\n",
       "      <td>521.9</td>\n",
       "      <td>0.0</td>\n",
       "    </tr>\n",
       "    <tr>\n",
       "      <th>15</th>\n",
       "      <td>686.0</td>\n",
       "      <td>144.7</td>\n",
       "      <td>541.3</td>\n",
       "      <td>0.0</td>\n",
       "    </tr>\n",
       "    <tr>\n",
       "      <th>16</th>\n",
       "      <td>720.0</td>\n",
       "      <td>160.0</td>\n",
       "      <td>560.0</td>\n",
       "      <td>0.0</td>\n",
       "    </tr>\n",
       "    <tr>\n",
       "      <th>17</th>\n",
       "      <td>714.0</td>\n",
       "      <td>238.4</td>\n",
       "      <td>475.6</td>\n",
       "      <td>11.2</td>\n",
       "    </tr>\n",
       "    <tr>\n",
       "      <th>18</th>\n",
       "      <td>761.0</td>\n",
       "      <td>388.4</td>\n",
       "      <td>372.6</td>\n",
       "      <td>0.0</td>\n",
       "    </tr>\n",
       "    <tr>\n",
       "      <th>19</th>\n",
       "      <td>727.0</td>\n",
       "      <td>359.6</td>\n",
       "      <td>367.4</td>\n",
       "      <td>0.0</td>\n",
       "    </tr>\n",
       "    <tr>\n",
       "      <th>20</th>\n",
       "      <td>714.0</td>\n",
       "      <td>399.7</td>\n",
       "      <td>314.3</td>\n",
       "      <td>0.0</td>\n",
       "    </tr>\n",
       "    <tr>\n",
       "      <th>21</th>\n",
       "      <td>618.0</td>\n",
       "      <td>301.4</td>\n",
       "      <td>316.6</td>\n",
       "      <td>0.0</td>\n",
       "    </tr>\n",
       "    <tr>\n",
       "      <th>22</th>\n",
       "      <td>584.0</td>\n",
       "      <td>272.6</td>\n",
       "      <td>311.4</td>\n",
       "      <td>0.0</td>\n",
       "    </tr>\n",
       "    <tr>\n",
       "      <th>23</th>\n",
       "      <td>578.0</td>\n",
       "      <td>172.6</td>\n",
       "      <td>405.4</td>\n",
       "      <td>0.0</td>\n",
       "    </tr>\n",
       "    <tr>\n",
       "      <th>24</th>\n",
       "      <td>544.0</td>\n",
       "      <td>98.0</td>\n",
       "      <td>446.0</td>\n",
       "      <td>24.4</td>\n",
       "    </tr>\n",
       "  </tbody>\n",
       "</table>\n",
       "</div>"
      ],
      "text/plain": [
       "        0      1      2     3\n",
       "1   510.0  465.9   44.1   0.0\n",
       "2   530.0  481.5   48.5   0.0\n",
       "3   516.0  450.3   65.7   0.0\n",
       "4   510.0  365.1  144.9   0.0\n",
       "5   515.0  312.7  202.3   0.0\n",
       "6   544.0  226.7  317.3   0.0\n",
       "7   646.0  281.6  364.4   0.0\n",
       "8   686.0  368.7  317.3   0.0\n",
       "9   741.0  470.0  271.0   0.0\n",
       "10  734.0  427.1  306.9   0.0\n",
       "11  748.0  323.9  424.1   0.0\n",
       "12  760.0  362.0  398.0   0.0\n",
       "13  754.0  266.4  487.6   0.0\n",
       "14  700.0  178.1  521.9   0.0\n",
       "15  686.0  144.7  541.3   0.0\n",
       "16  720.0  160.0  560.0   0.0\n",
       "17  714.0  238.4  475.6  11.2\n",
       "18  761.0  388.4  372.6   0.0\n",
       "19  727.0  359.6  367.4   0.0\n",
       "20  714.0  399.7  314.3   0.0\n",
       "21  618.0  301.4  316.6   0.0\n",
       "22  584.0  272.6  311.4   0.0\n",
       "23  578.0  172.6  405.4   0.0\n",
       "24  544.0   98.0  446.0  24.4"
      ]
     },
     "execution_count": 46,
     "metadata": {},
     "output_type": "execute_result"
    }
   ],
   "source": [
    "data_tables.index = range(1,25) \n",
    "data_tables"
   ]
  },
  {
   "cell_type": "code",
   "execution_count": 47,
   "id": "335329af",
   "metadata": {},
   "outputs": [
    {
     "data": {
      "text/html": [
       "<div>\n",
       "<style scoped>\n",
       "    .dataframe tbody tr th:only-of-type {\n",
       "        vertical-align: middle;\n",
       "    }\n",
       "\n",
       "    .dataframe tbody tr th {\n",
       "        vertical-align: top;\n",
       "    }\n",
       "\n",
       "    .dataframe thead th {\n",
       "        text-align: right;\n",
       "    }\n",
       "</style>\n",
       "<table border=\"1\" class=\"dataframe\">\n",
       "  <thead>\n",
       "    <tr style=\"text-align: right;\">\n",
       "      <th></th>\n",
       "      <th>Lt</th>\n",
       "      <th>Pg</th>\n",
       "      <th>PW</th>\n",
       "      <th>PWC</th>\n",
       "    </tr>\n",
       "  </thead>\n",
       "  <tbody>\n",
       "    <tr>\n",
       "      <th>1</th>\n",
       "      <td>510.0</td>\n",
       "      <td>465.9</td>\n",
       "      <td>44.1</td>\n",
       "      <td>0.0</td>\n",
       "    </tr>\n",
       "    <tr>\n",
       "      <th>2</th>\n",
       "      <td>530.0</td>\n",
       "      <td>481.5</td>\n",
       "      <td>48.5</td>\n",
       "      <td>0.0</td>\n",
       "    </tr>\n",
       "    <tr>\n",
       "      <th>3</th>\n",
       "      <td>516.0</td>\n",
       "      <td>450.3</td>\n",
       "      <td>65.7</td>\n",
       "      <td>0.0</td>\n",
       "    </tr>\n",
       "    <tr>\n",
       "      <th>4</th>\n",
       "      <td>510.0</td>\n",
       "      <td>365.1</td>\n",
       "      <td>144.9</td>\n",
       "      <td>0.0</td>\n",
       "    </tr>\n",
       "    <tr>\n",
       "      <th>5</th>\n",
       "      <td>515.0</td>\n",
       "      <td>312.7</td>\n",
       "      <td>202.3</td>\n",
       "      <td>0.0</td>\n",
       "    </tr>\n",
       "    <tr>\n",
       "      <th>6</th>\n",
       "      <td>544.0</td>\n",
       "      <td>226.7</td>\n",
       "      <td>317.3</td>\n",
       "      <td>0.0</td>\n",
       "    </tr>\n",
       "    <tr>\n",
       "      <th>7</th>\n",
       "      <td>646.0</td>\n",
       "      <td>281.6</td>\n",
       "      <td>364.4</td>\n",
       "      <td>0.0</td>\n",
       "    </tr>\n",
       "    <tr>\n",
       "      <th>8</th>\n",
       "      <td>686.0</td>\n",
       "      <td>368.7</td>\n",
       "      <td>317.3</td>\n",
       "      <td>0.0</td>\n",
       "    </tr>\n",
       "    <tr>\n",
       "      <th>9</th>\n",
       "      <td>741.0</td>\n",
       "      <td>470.0</td>\n",
       "      <td>271.0</td>\n",
       "      <td>0.0</td>\n",
       "    </tr>\n",
       "    <tr>\n",
       "      <th>10</th>\n",
       "      <td>734.0</td>\n",
       "      <td>427.1</td>\n",
       "      <td>306.9</td>\n",
       "      <td>0.0</td>\n",
       "    </tr>\n",
       "    <tr>\n",
       "      <th>11</th>\n",
       "      <td>748.0</td>\n",
       "      <td>323.9</td>\n",
       "      <td>424.1</td>\n",
       "      <td>0.0</td>\n",
       "    </tr>\n",
       "    <tr>\n",
       "      <th>12</th>\n",
       "      <td>760.0</td>\n",
       "      <td>362.0</td>\n",
       "      <td>398.0</td>\n",
       "      <td>0.0</td>\n",
       "    </tr>\n",
       "    <tr>\n",
       "      <th>13</th>\n",
       "      <td>754.0</td>\n",
       "      <td>266.4</td>\n",
       "      <td>487.6</td>\n",
       "      <td>0.0</td>\n",
       "    </tr>\n",
       "    <tr>\n",
       "      <th>14</th>\n",
       "      <td>700.0</td>\n",
       "      <td>178.1</td>\n",
       "      <td>521.9</td>\n",
       "      <td>0.0</td>\n",
       "    </tr>\n",
       "    <tr>\n",
       "      <th>15</th>\n",
       "      <td>686.0</td>\n",
       "      <td>144.7</td>\n",
       "      <td>541.3</td>\n",
       "      <td>0.0</td>\n",
       "    </tr>\n",
       "    <tr>\n",
       "      <th>16</th>\n",
       "      <td>720.0</td>\n",
       "      <td>160.0</td>\n",
       "      <td>560.0</td>\n",
       "      <td>0.0</td>\n",
       "    </tr>\n",
       "    <tr>\n",
       "      <th>17</th>\n",
       "      <td>714.0</td>\n",
       "      <td>238.4</td>\n",
       "      <td>475.6</td>\n",
       "      <td>11.2</td>\n",
       "    </tr>\n",
       "    <tr>\n",
       "      <th>18</th>\n",
       "      <td>761.0</td>\n",
       "      <td>388.4</td>\n",
       "      <td>372.6</td>\n",
       "      <td>0.0</td>\n",
       "    </tr>\n",
       "    <tr>\n",
       "      <th>19</th>\n",
       "      <td>727.0</td>\n",
       "      <td>359.6</td>\n",
       "      <td>367.4</td>\n",
       "      <td>0.0</td>\n",
       "    </tr>\n",
       "    <tr>\n",
       "      <th>20</th>\n",
       "      <td>714.0</td>\n",
       "      <td>399.7</td>\n",
       "      <td>314.3</td>\n",
       "      <td>0.0</td>\n",
       "    </tr>\n",
       "    <tr>\n",
       "      <th>21</th>\n",
       "      <td>618.0</td>\n",
       "      <td>301.4</td>\n",
       "      <td>316.6</td>\n",
       "      <td>0.0</td>\n",
       "    </tr>\n",
       "    <tr>\n",
       "      <th>22</th>\n",
       "      <td>584.0</td>\n",
       "      <td>272.6</td>\n",
       "      <td>311.4</td>\n",
       "      <td>0.0</td>\n",
       "    </tr>\n",
       "    <tr>\n",
       "      <th>23</th>\n",
       "      <td>578.0</td>\n",
       "      <td>172.6</td>\n",
       "      <td>405.4</td>\n",
       "      <td>0.0</td>\n",
       "    </tr>\n",
       "    <tr>\n",
       "      <th>24</th>\n",
       "      <td>544.0</td>\n",
       "      <td>98.0</td>\n",
       "      <td>446.0</td>\n",
       "      <td>24.4</td>\n",
       "    </tr>\n",
       "  </tbody>\n",
       "</table>\n",
       "</div>"
      ],
      "text/plain": [
       "       Lt     Pg     PW   PWC\n",
       "1   510.0  465.9   44.1   0.0\n",
       "2   530.0  481.5   48.5   0.0\n",
       "3   516.0  450.3   65.7   0.0\n",
       "4   510.0  365.1  144.9   0.0\n",
       "5   515.0  312.7  202.3   0.0\n",
       "6   544.0  226.7  317.3   0.0\n",
       "7   646.0  281.6  364.4   0.0\n",
       "8   686.0  368.7  317.3   0.0\n",
       "9   741.0  470.0  271.0   0.0\n",
       "10  734.0  427.1  306.9   0.0\n",
       "11  748.0  323.9  424.1   0.0\n",
       "12  760.0  362.0  398.0   0.0\n",
       "13  754.0  266.4  487.6   0.0\n",
       "14  700.0  178.1  521.9   0.0\n",
       "15  686.0  144.7  541.3   0.0\n",
       "16  720.0  160.0  560.0   0.0\n",
       "17  714.0  238.4  475.6  11.2\n",
       "18  761.0  388.4  372.6   0.0\n",
       "19  727.0  359.6  367.4   0.0\n",
       "20  714.0  399.7  314.3   0.0\n",
       "21  618.0  301.4  316.6   0.0\n",
       "22  584.0  272.6  311.4   0.0\n",
       "23  578.0  172.6  405.4   0.0\n",
       "24  544.0   98.0  446.0  24.4"
      ]
     },
     "execution_count": 47,
     "metadata": {},
     "output_type": "execute_result"
    }
   ],
   "source": [
    "data_tables.columns = [\"Lt\",\"Pg\", 'PW', 'PWC']\n",
    "data_tables"
   ]
  },
  {
   "cell_type": "code",
   "execution_count": 48,
   "id": "4d940135",
   "metadata": {},
   "outputs": [
    {
     "data": {
      "image/png": "[encoded data removed]",
      "text/plain": [
       "<Figure size 800x300 with 1 Axes>"
      ]
     },
     "metadata": {},
     "output_type": "display_data"
    }
   ],
   "source": [
    "plt.figure(figsize=(8, 3))\n",
    "plt.plot(t_hours, L_lst, '-')\n",
    "\n",
    "plt.xlabel('Time (h)')\n",
    "plt.ylabel('Demand (MW)')\n",
    "plt.title('Daily load pattern')\n",
    "xticks = range(1,25)\n",
    "plt.xticks(t_hours, xticks)\n",
    "plt.grid()\n",
    "plt.show()"
   ]
  },
  {
   "cell_type": "code",
   "execution_count": 49,
   "id": "ed2e51ba",
   "metadata": {},
   "outputs": [
    {
     "data": {
      "image/png": "[encoded data removed]",
      "text/plain": [
       "<Figure size 800x300 with 1 Axes>"
      ]
     },
     "metadata": {},
     "output_type": "display_data"
    }
   ],
   "source": [
    "plt.figure(figsize=(8, 3))\n",
    "plt.plot(t_hours, pw_lst, '-')\n",
    "\n",
    "plt.xlabel('Time (h)')\n",
    "plt.ylabel('Wind power (MW)')\n",
    "plt.title('Daily wind power generation')\n",
    "xticks = range(1,25)\n",
    "plt.xticks(t_hours, xticks)\n",
    "plt.grid()\n",
    "plt.show()"
   ]
  },
  {
   "cell_type": "code",
   "execution_count": 50,
   "id": "24de9c56",
   "metadata": {
    "colab": {
     "base_uri": "https://localhost:8080/",
     "height": 333
    },
    "id": "24de9c56",
    "outputId": "58869e53-fc29-4a1c-c432-62eca825ed63"
   },
   "outputs": [
    {
     "data": {
      "image/png": "[encoded data removed]",
      "text/plain": [
       "<Figure size 800x300 with 1 Axes>"
      ]
     },
     "metadata": {},
     "output_type": "display_data"
    }
   ],
   "source": [
    "plt.figure(figsize=(8, 3))\n",
    "plt.plot(t_hours, L_lst, '-', label='Demand')\n",
    "plt.plot(t_hours, pg_lst, '-', label='Total Power by Thermal Units', linestyle='dashed')\n",
    "plt.plot(t_hours, pw_lst, 'o-', label='PW(t)')\n",
    "plt.plot(t_hours, pwc_lst, 'o-', label='PW(t)')\n",
    "\n",
    "plt.ylim([0,800])\n",
    "plt.xlabel('Time (h)')\n",
    "plt.ylabel('Power (MW)')\n",
    "plt.title('Demand, Generation and Storage')\n",
    "xticks = range(1,25)\n",
    "plt.xticks(t_hours, xticks)\n",
    "plt.legend()\n",
    "plt.grid()\n",
    "plt.show()"
   ]
  },
  {
   "cell_type": "code",
   "execution_count": null,
   "id": "b7e08cd4",
   "metadata": {},
   "outputs": [],
   "source": []
  },
  {
   "cell_type": "code",
   "execution_count": 51,
   "id": "fI-FXO_HTpMg",
   "metadata": {
    "id": "fI-FXO_HTpMg"
   },
   "outputs": [],
   "source": [
    "def func_max(lis,maxx):\n",
    "    for i in range(len(lis)):\n",
    "        if lis[i]>maxx:\n",
    "              lis[i]=maxx\n",
    "    return lis"
   ]
  },
  {
   "cell_type": "code",
   "execution_count": 52,
   "id": "9c9e51e7",
   "metadata": {
    "colab": {
     "base_uri": "https://localhost:8080/",
     "height": 564
    },
    "id": "9c9e51e7",
    "outputId": "75162e6f-2b03-4494-9ff8-6b1bf7109992"
   },
   "outputs": [
    {
     "data": {
      "image/png": "[encoded data removed]",
      "text/plain": [
       "<Figure size 800x600 with 1 Axes>"
      ]
     },
     "metadata": {},
     "output_type": "display_data"
    }
   ],
   "source": [
    "g1_values = [model.p['p1', t].value for t in model.t_hours]\n",
    "g2_values = [model.p['p2', t].value for t in model.t_hours]\n",
    "g3_values = [model.p['p3', t].value for t in model.t_hours]\n",
    "g4_values = [model.p['p4', t].value for t in model.t_hours]\n",
    "\n",
    "\n",
    "# g1_values = func_max(g1_values,200)\n",
    "# g2_values = func_max(g2_values,177)\n",
    "# g3_values = func_max(g3_values,190)\n",
    "# g4_values = func_max(g4_values,160)\n",
    "\n",
    "plt.figure(figsize=(8, 6))\n",
    "plt.plot(t_hours, g1_values, 'o-', label='Generator p1',color='red')\n",
    "plt.plot(t_hours, g2_values, 'o-',linestyle='dashed', color='purple',label='Generator p2')\n",
    "plt.plot(t_hours, g3_values, '-', linestyle='dashed', color='black',label='Generator p3')\n",
    "plt.plot(t_hours, g4_values, '-', color='orange',label='Generator p4')\n",
    "plt.xlabel('Time (h)')\n",
    "plt.ylabel('Power Output (MW)')\n",
    "plt.title('Pg,t vs Time (hourly schedules of thermal units)')\n",
    "plt.xticks(t_hours, xticks)\n",
    "plt.legend()\n",
    "plt.grid()\n",
    "plt.show()"
   ]
  },
  {
   "cell_type": "code",
   "execution_count": 53,
   "id": "80716c4e",
   "metadata": {},
   "outputs": [
    {
     "data": {
      "text/plain": [
       "[152.13459640803507,\n",
       " 157.1067692914098,\n",
       " 147.1624235247084,\n",
       " 120.00671008479631,\n",
       " 103.30530886121227,\n",
       " 75.89461219644672,\n",
       " 93.39283599755547,\n",
       " 121.15413459630481,\n",
       " 153.44138543515865,\n",
       " 139.76791000593647,\n",
       " 106.87507400813935,\n",
       " 119.01865008879552,\n",
       " 88.54815472657862,\n",
       " 60.40438129051344,\n",
       " 49.75883165539412,\n",
       " 54.635385829584756,\n",
       " 83.528419182916,\n",
       " 123.52841918289383,\n",
       " 118.25370041436584,\n",
       " 131.03473455693032,\n",
       " 99.70367081102803,\n",
       " 90.52427471875437,\n",
       " 58.65137161973269,\n",
       " 28.00000000002629]"
      ]
     },
     "execution_count": 53,
     "metadata": {},
     "output_type": "execute_result"
    }
   ],
   "source": [
    "g1_values"
   ]
  },
  {
   "cell_type": "code",
   "execution_count": null,
   "id": "05b35ab3",
   "metadata": {},
   "outputs": [],
   "source": []
  }
 ],
 "metadata": {
  "colab": {
   "provenance": []
  },
  "kernelspec": {
   "display_name": "Python 3 (ipykernel)",
   "language": "python",
   "name": "python3"
  },
  "language_info": {
   "codemirror_mode": {
    "name": "ipython",
    "version": 3
   },
   "file_extension": ".py",
   "mimetype": "text/x-python",
   "name": "python",
   "nbconvert_exporter": "python",
   "pygments_lexer": "ipython3",
   "version": "3.9.13"
  },
  "vscode": {
   "interpreter": {
    "hash": "8a5edab282632443219e051e4ade2d1d5bbc671c781051bf1437897cbdfea0f1"
   }
  }
 },
 "nbformat": 4,
 "nbformat_minor": 5
}
