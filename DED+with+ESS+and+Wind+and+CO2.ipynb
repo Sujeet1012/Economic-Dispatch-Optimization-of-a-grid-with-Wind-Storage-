{
 "cells": [
  {
   "cell_type": "code",
   "execution_count": 1,
   "id": "c16b018b",
   "metadata": {
    "id": "c16b018b"
   },
   "outputs": [],
   "source": [
    "from pyomo.environ import *\n",
    "import matplotlib.pyplot as plt\n",
    "import pandas as pd\n",
    "import numpy as np\n",
    "from pyomo.opt import SolverFactory\n",
    "# import warnings\n",
    "# warnings.filterwarnings('ignore')"
   ]
  },
  {
   "cell_type": "code",
   "execution_count": null,
   "id": "bc9a512e",
   "metadata": {},
   "outputs": [],
   "source": []
  },
  {
   "cell_type": "markdown",
   "id": "a17b52e4",
   "metadata": {},
   "source": [
    "We look at the impact of ESS in the utilization of wind energy."
   ]
  },
  {
   "cell_type": "code",
   "execution_count": null,
   "id": "bd5978cc",
   "metadata": {},
   "outputs": [],
   "source": []
  },
  {
   "cell_type": "markdown",
   "id": "4e1d36bc",
   "metadata": {},
   "source": [
    "## constants"
   ]
  },
  {
   "cell_type": "code",
   "execution_count": 2,
   "id": "afa450dd",
   "metadata": {},
   "outputs": [],
   "source": [
    "SOC0 = 100   # MW\n",
    "\n",
    "SOCmax = 300 # MW\n",
    "\n",
    "etac = 0.95  #efficiency of charging\n",
    "\n",
    "etad = 0.9   #efficiency of discharging\n",
    "\n",
    "VWC = 50    #Value of wind curtailment"
   ]
  },
  {
   "cell_type": "markdown",
   "id": "105516df",
   "metadata": {},
   "source": [
    "## sets"
   ]
  },
  {
   "cell_type": "code",
   "execution_count": 3,
   "id": "bc861b57",
   "metadata": {},
   "outputs": [],
   "source": [
    "t_hours = ['t1', 't2', 't3', 't4', 't5', 't6', 't7', 't8', 't9', 't10', 't11', 't12', 't13', 't14', 't15', 't16', 't17', 't18', 't19', 't20', 't21', 't22', 't23', 't24']\n",
    "g_units = ['p1', 'p2', 'p3', 'p4']"
   ]
  },
  {
   "cell_type": "markdown",
   "id": "77656961",
   "metadata": {},
   "source": [
    "## input data"
   ]
  },
  {
   "cell_type": "code",
   "execution_count": 4,
   "id": "b159b343",
   "metadata": {
    "id": "b159b343"
   },
   "outputs": [
    {
     "data": {
      "text/plain": [
       "{('p1', 'a'): 0.12,\n",
       " ('p1', 'b'): 14.8,\n",
       " ('p1', 'c'): 89,\n",
       " ('p1', 'd'): 1.2,\n",
       " ('p1', 'e'): -5.0,\n",
       " ('p1', 'f'): 3.0,\n",
       " ('p1', 'Pmin'): 28,\n",
       " ('p1', 'Pmax'): 200,\n",
       " ('p1', 'RU0'): 40,\n",
       " ('p1', 'RD0'): 40,\n",
       " ('p2', 'a'): 0.17,\n",
       " ('p2', 'b'): 16.57,\n",
       " ('p2', 'c'): 83,\n",
       " ('p2', 'd'): 2.3,\n",
       " ('p2', 'e'): -4.24,\n",
       " ('p2', 'f'): 6.09,\n",
       " ('p2', 'Pmin'): 20,\n",
       " ('p2', 'Pmax'): 290,\n",
       " ('p2', 'RU0'): 30,\n",
       " ('p2', 'RD0'): 30,\n",
       " ('p3', 'a'): 0.15,\n",
       " ('p3', 'b'): 15.55,\n",
       " ('p3', 'c'): 100,\n",
       " ('p3', 'd'): 1.1,\n",
       " ('p3', 'e'): -2.15,\n",
       " ('p3', 'f'): 5.69,\n",
       " ('p3', 'Pmin'): 30,\n",
       " ('p3', 'Pmax'): 190,\n",
       " ('p3', 'RU0'): 30,\n",
       " ('p3', 'RD0'): 30,\n",
       " ('p4', 'a'): 0.19,\n",
       " ('p4', 'b'): 16.21,\n",
       " ('p4', 'c'): 70,\n",
       " ('p4', 'd'): 1.1,\n",
       " ('p4', 'e'): -3.99,\n",
       " ('p4', 'f'): 6.2,\n",
       " ('p4', 'Pmin'): 20,\n",
       " ('p4', 'Pmax'): 260,\n",
       " ('p4', 'RU0'): 50,\n",
       " ('p4', 'RD0'): 50}"
      ]
     },
     "execution_count": 4,
     "metadata": {},
     "output_type": "execute_result"
    }
   ],
   "source": [
    "# a is in $ / MW^2   . cost coefficient for a thermal unit\n",
    "# b is in $ / MW       cost coefficient for a thermal unit\n",
    "# c is in $            cost coefficient for a thermal unit\n",
    "# d is in kg/MW^2      emissions coefficient for a thermal unit\n",
    "# e is in kW/MW        emissions coefficient for a thermal unit\n",
    "# f is in kg           emissions coefficient for a thermal unit\n",
    "# Pmin, Pmax are in MW.  Min and Max output limits for a thermal unit\n",
    "# RU, RD are in MW       Ramp up / down rates for a thermal unit\n",
    "\n",
    "#this is a dictionary . The key is a tuple.\n",
    "\n",
    "# Data tables\n",
    "gendata = {\n",
    "    ('p1', 'a'): 0.12, \n",
    "    ('p1', 'b'): 14.80, \n",
    "    ('p1', 'c'):  89, \n",
    "    ('p1', 'd'): 1.2, \n",
    "    ('p1', 'e'): -5.00, \n",
    "    ('p1', 'f'): 3.00, \n",
    "    ('p1', 'Pmin'): 28, \n",
    "    ('p1', 'Pmax'): 200, \n",
    "    ('p1', 'RU0'): 40, \n",
    "    ('p1', 'RD0'): 40,\n",
    "    \n",
    "    ('p2', 'a'): 0.17, \n",
    "    ('p2', 'b'): 16.57, \n",
    "    ('p2', 'c'):  83, \n",
    "    ('p2', 'd'): 2.3, \n",
    "    ('p2', 'e'): -4.24, \n",
    "    ('p2', 'f'): 6.09, \n",
    "    ('p2', 'Pmin'): 20, \n",
    "    ('p2', 'Pmax'): 290, \n",
    "    ('p2', 'RU0'): 30, \n",
    "    ('p2', 'RD0'): 30,\n",
    "    \n",
    "    ('p3', 'a'): 0.15, \n",
    "    ('p3', 'b'): 15.55, \n",
    "    ('p3', 'c'): 100, \n",
    "    ('p3', 'd'): 1.1, \n",
    "    ('p3', 'e'): -2.15, \n",
    "    ('p3', 'f'): 5.69, \n",
    "    ('p3', 'Pmin'): 30, \n",
    "    ('p3', 'Pmax'): 190, \n",
    "    ('p3', 'RU0'): 30, \n",
    "    ('p3', 'RD0'): 30,\n",
    "    \n",
    "    ('p4', 'a'): 0.19, \n",
    "    ('p4', 'b'): 16.21, \n",
    "    ('p4', 'c'):  70, \n",
    "    ('p4', 'd'): 1.1, \n",
    "    ('p4', 'e'): -3.99, \n",
    "    ('p4', 'f'): 6.20, \n",
    "    ('p4', 'Pmin'): 20, \n",
    "    ('p4', 'Pmax'): 260, \n",
    "    ('p4', 'RU0'): 50, \n",
    "    ('p4', 'RD0'): 50\n",
    "}\n",
    "\n",
    "gendata\n",
    "\n"
   ]
  },
  {
   "cell_type": "code",
   "execution_count": 5,
   "id": "402e70b4",
   "metadata": {},
   "outputs": [],
   "source": [
    "#both in MW. The \"wind\" is thew maximum possible output from wind units (wind availability).\n",
    "\n",
    "data = {\n",
    "    ('t1', 'load'): 510, ('t1', 'wind'): 44.1,\n",
    "    ('t2', 'load'): 530, ('t2', 'wind'): 48.5,\n",
    "    ('t3', 'load'): 516, ('t3', 'wind'): 65.7,\n",
    "    ('t4', 'load'): 510, ('t4', 'wind'): 144.9,\n",
    "    ('t5', 'load'): 515, ('t5', 'wind'): 202.3,\n",
    "    ('t6', 'load'): 544, ('t6', 'wind'): 317.3,\n",
    "    ('t7', 'load'): 646, ('t7', 'wind'): 364.4,\n",
    "    ('t8', 'load'): 686, ('t8', 'wind'): 317.3,\n",
    "    ('t9', 'load'): 741, ('t9', 'wind'): 271,\n",
    "    ('t10', 'load'): 734, ('t10', 'wind'): 306.9,\n",
    "    ('t11', 'load'): 748, ('t11', 'wind'): 424.1,\n",
    "    ('t12', 'load'): 760, ('t12', 'wind'): 398,\n",
    "    ('t13', 'load'): 754, ('t13', 'wind'): 487.6,\n",
    "    ('t14', 'load'): 700, ('t14', 'wind'): 521.9,\n",
    "    ('t15', 'load'): 686, ('t15', 'wind'): 541.3,\n",
    "    ('t16', 'load'): 720, ('t16', 'wind'): 560,\n",
    "    ('t17', 'load'): 714, ('t17', 'wind'): 486.8,\n",
    "    ('t18', 'load'): 761, ('t18', 'wind'): 372.6,\n",
    "    ('t19', 'load'): 727, ('t19', 'wind'): 367.4,\n",
    "    ('t20', 'load'): 714, ('t20', 'wind'): 314.3,\n",
    "    ('t21', 'load'): 618, ('t21', 'wind'): 316.6,\n",
    "    ('t22', 'load'): 584, ('t22', 'wind'): 311.4,\n",
    "    ('t23', 'load'): 578, ('t23', 'wind'): 405.4,\n",
    "    ('t24', 'load'): 544, ('t24', 'wind'): 470.4\n",
    "}"
   ]
  },
  {
   "cell_type": "code",
   "execution_count": null,
   "id": "9a684b8b",
   "metadata": {},
   "outputs": [],
   "source": []
  },
  {
   "cell_type": "code",
   "execution_count": null,
   "id": "8f9f6d3c",
   "metadata": {},
   "outputs": [],
   "source": []
  },
  {
   "cell_type": "markdown",
   "id": "50fc7257",
   "metadata": {},
   "source": [
    "## defining the optimization model"
   ]
  },
  {
   "cell_type": "code",
   "execution_count": 6,
   "id": "da42730b",
   "metadata": {},
   "outputs": [],
   "source": [
    "model = ConcreteModel()\n",
    "model.name= \"Wind Integrated DED\""
   ]
  },
  {
   "cell_type": "markdown",
   "id": "7b10ae7a",
   "metadata": {},
   "source": [
    "##### adding the sets to the model "
   ]
  },
  {
   "cell_type": "code",
   "execution_count": 7,
   "id": "fba78d70",
   "metadata": {},
   "outputs": [],
   "source": [
    "model.t_hours = Set(initialize=t_hours)"
   ]
  },
  {
   "cell_type": "code",
   "execution_count": 8,
   "id": "5b4ccde4",
   "metadata": {},
   "outputs": [],
   "source": [
    "model.g_units = Set(initialize=g_units)"
   ]
  },
  {
   "cell_type": "markdown",
   "id": "dbb0b95a",
   "metadata": {},
   "source": [
    "#####  Decision Variables "
   ]
  },
  {
   "cell_type": "code",
   "execution_count": 9,
   "id": "b2da3502",
   "metadata": {},
   "outputs": [],
   "source": [
    "model.p = Var(model.g_units, model.t_hours, bounds=lambda model, g, t: (gendata[g, 'Pmin'], gendata[g, 'Pmax']))"
   ]
  },
  {
   "attachments": {
    "Screenshot%202023-07-31%20at%2017.35.05.png": {
     "image/png": "[encoded data removed]"
    }
   },
   "cell_type": "markdown",
   "id": "969fc4c1",
   "metadata": {},
   "source": [
    "![Screenshot%202023-07-31%20at%2017.35.05.png](attachment:Screenshot%202023-07-31%20at%2017.35.05.png)"
   ]
  },
  {
   "cell_type": "code",
   "execution_count": null,
   "id": "36082832",
   "metadata": {},
   "outputs": [],
   "source": []
  },
  {
   "cell_type": "code",
   "execution_count": null,
   "id": "fa5927b3",
   "metadata": {},
   "outputs": [],
   "source": []
  },
  {
   "cell_type": "code",
   "execution_count": 10,
   "id": "a6189da5",
   "metadata": {},
   "outputs": [],
   "source": [
    "model.SOC = Var(model.t_hours, bounds=lambda model, t: (0.2 * SOCmax, SOCmax))"
   ]
  },
  {
   "attachments": {
    "Screenshot%202023-07-31%20at%2017.35.35.png": {
     "image/png": "[encoded data removed]"
    }
   },
   "cell_type": "markdown",
   "id": "5888ac3e",
   "metadata": {},
   "source": [
    "![Screenshot%202023-07-31%20at%2017.35.35.png](attachment:Screenshot%202023-07-31%20at%2017.35.35.png)"
   ]
  },
  {
   "cell_type": "code",
   "execution_count": null,
   "id": "e7c83f34",
   "metadata": {},
   "outputs": [],
   "source": []
  },
  {
   "cell_type": "code",
   "execution_count": null,
   "id": "236ec850",
   "metadata": {},
   "outputs": [],
   "source": []
  },
  {
   "cell_type": "code",
   "execution_count": 11,
   "id": "caeac9f9",
   "metadata": {},
   "outputs": [],
   "source": [
    "model.Pd = Var(model.t_hours, bounds=(0, 0.2 * SOCmax))"
   ]
  },
  {
   "attachments": {
    "Screenshot%202023-07-31%20at%2017.35.58.png": {
     "image/png": "[encoded data removed]"
    }
   },
   "cell_type": "markdown",
   "id": "dcb94090",
   "metadata": {},
   "source": [
    "![Screenshot%202023-07-31%20at%2017.35.58.png](attachment:Screenshot%202023-07-31%20at%2017.35.58.png)"
   ]
  },
  {
   "cell_type": "code",
   "execution_count": null,
   "id": "e384d634",
   "metadata": {},
   "outputs": [],
   "source": []
  },
  {
   "cell_type": "code",
   "execution_count": 12,
   "id": "67962a99",
   "metadata": {},
   "outputs": [],
   "source": [
    "model.Pc = Var(model.t_hours, bounds=(0, 0.2 * SOCmax))"
   ]
  },
  {
   "attachments": {
    "Screenshot%202023-07-31%20at%2017.36.22.png": {
     "image/png": "[encoded data removed]"
    }
   },
   "cell_type": "markdown",
   "id": "2b78314c",
   "metadata": {},
   "source": [
    "![Screenshot%202023-07-31%20at%2017.36.22.png](attachment:Screenshot%202023-07-31%20at%2017.36.22.png)"
   ]
  },
  {
   "cell_type": "code",
   "execution_count": null,
   "id": "51b32e09",
   "metadata": {},
   "outputs": [],
   "source": []
  },
  {
   "cell_type": "code",
   "execution_count": null,
   "id": "9f5c8e0f",
   "metadata": {},
   "outputs": [],
   "source": []
  },
  {
   "cell_type": "markdown",
   "id": "4b2d5896",
   "metadata": {},
   "source": [
    "###### We fix the very last SOC (which is a decision variable) with the SOC at the very beginning. This is a very common assumption."
   ]
  },
  {
   "cell_type": "code",
   "execution_count": 13,
   "id": "8478dfa2",
   "metadata": {},
   "outputs": [],
   "source": [
    "model.SOC['t24'].fix(SOC0)"
   ]
  },
  {
   "attachments": {
    "Screenshot%202023-07-31%20at%2017.47.39.png": {
     "image/png": "[encoded data removed]"
    }
   },
   "cell_type": "markdown",
   "id": "f2260804",
   "metadata": {},
   "source": [
    "![Screenshot%202023-07-31%20at%2017.47.39.png](attachment:Screenshot%202023-07-31%20at%2017.47.39.png)"
   ]
  },
  {
   "cell_type": "code",
   "execution_count": null,
   "id": "17996700",
   "metadata": {},
   "outputs": [],
   "source": []
  },
  {
   "cell_type": "markdown",
   "id": "551ea06f",
   "metadata": {},
   "source": [
    "output (MW) from wind units at time t:"
   ]
  },
  {
   "cell_type": "code",
   "execution_count": 14,
   "id": "1cd30bcb",
   "metadata": {},
   "outputs": [],
   "source": [
    "model.Pw = Var(model.t_hours, bounds=lambda model, t: (0, data[t, 'wind']))"
   ]
  },
  {
   "attachments": {
    "Screenshot%202023-07-31%20at%2017.49.29.png": {
     "image/png": "[encoded data removed]"
    }
   },
   "cell_type": "markdown",
   "id": "869bae30",
   "metadata": {},
   "source": [
    "![Screenshot%202023-07-31%20at%2017.49.29.png](attachment:Screenshot%202023-07-31%20at%2017.49.29.png)"
   ]
  },
  {
   "cell_type": "code",
   "execution_count": null,
   "id": "0b45c591",
   "metadata": {},
   "outputs": [],
   "source": []
  },
  {
   "cell_type": "markdown",
   "id": "59c0ecdb",
   "metadata": {},
   "source": [
    "curtailed wind output (MW) at time t:"
   ]
  },
  {
   "cell_type": "code",
   "execution_count": 15,
   "id": "2be93a78",
   "metadata": {},
   "outputs": [],
   "source": [
    "model.PWC = Var(model.t_hours,bounds=lambda model, t: (0,data[t, 'wind']))"
   ]
  },
  {
   "attachments": {
    "Screenshot%202023-07-31%20at%2017.49.40.png": {
     "image/png": "[encoded data removed]"
    }
   },
   "cell_type": "markdown",
   "id": "46674d4b",
   "metadata": {},
   "source": [
    "![Screenshot%202023-07-31%20at%2017.49.40.png](attachment:Screenshot%202023-07-31%20at%2017.49.40.png)"
   ]
  },
  {
   "cell_type": "code",
   "execution_count": null,
   "id": "7e41a961",
   "metadata": {},
   "outputs": [],
   "source": []
  },
  {
   "cell_type": "markdown",
   "id": "027fe19f",
   "metadata": {
    "id": "02b30719"
   },
   "source": [
    "##### objective function. We minimize the Total electricity generation Cost (TC). This is a quadratic objective function ie nonlinear problem"
   ]
  },
  {
   "cell_type": "code",
   "execution_count": 16,
   "id": "40bc715c",
   "metadata": {},
   "outputs": [],
   "source": [
    "model.costThermal = Objective(\n",
    "    expr=\n",
    "    sum(VWC * model.PWC[t] for t in model.t_hours) + \n",
    "    sum(gendata[g, 'a'] * model.p[g, t]**2 + gendata[g, 'b'] * model.p[g, t] + gendata[g, 'c']\n",
    "             for t in model.t_hours for g in model.g_units),\n",
    "    sense=minimize\n",
    ")"
   ]
  },
  {
   "attachments": {
    "Screenshot%202023-07-31%20at%2017.37.54.png": {
     "image/png": "[encoded data removed]"
    }
   },
   "cell_type": "markdown",
   "id": "ea6211f1",
   "metadata": {},
   "source": [
    "![Screenshot%202023-07-31%20at%2017.37.54.png](attachment:Screenshot%202023-07-31%20at%2017.37.54.png)"
   ]
  },
  {
   "cell_type": "markdown",
   "id": "7cc60b08",
   "metadata": {},
   "source": [
    "DV is the set of Decision Variables in the problem"
   ]
  },
  {
   "cell_type": "code",
   "execution_count": null,
   "id": "4d7986ff",
   "metadata": {},
   "outputs": [],
   "source": []
  },
  {
   "cell_type": "markdown",
   "id": "78c88da8",
   "metadata": {},
   "source": [
    "#####  constraints"
   ]
  },
  {
   "cell_type": "code",
   "execution_count": 17,
   "id": "bf68351e",
   "metadata": {},
   "outputs": [],
   "source": [
    "def Genconst_rule(model, g, t):\n",
    "    if t == 't24':\n",
    "        return Constraint.Skip\n",
    "    else:\n",
    "        return model.p[g, t_hours[t_hours.index(t) + 1]]  - model.p[g, t] <= gendata[g, 'RU0']"
   ]
  },
  {
   "cell_type": "code",
   "execution_count": 18,
   "id": "634214fe",
   "metadata": {},
   "outputs": [],
   "source": [
    "model.Genconst3 = Constraint(\n",
    "    model.g_units, \n",
    "    model.t_hours, \n",
    "    rule=Genconst_rule)"
   ]
  },
  {
   "cell_type": "code",
   "execution_count": 19,
   "id": "c1145c3e",
   "metadata": {},
   "outputs": [],
   "source": [
    "# model.Genconst3 = Constraint(\n",
    "#     model.g_units, \n",
    "#     model.t_hours, \n",
    "#     rule=lambda model, g, t: \n",
    "#     model.p[g, t] - model.p[g, t_hours[t_hours.index(t) - 1]] <= gendata[g, 'RU0'])"
   ]
  },
  {
   "attachments": {
    "Screenshot%202023-07-31%20at%2018.54.42.png": {
     "image/png": "[encoded data removed]"
    }
   },
   "cell_type": "markdown",
   "id": "5987b55b",
   "metadata": {},
   "source": [
    "![Screenshot%202023-07-31%20at%2018.54.42.png](attachment:Screenshot%202023-07-31%20at%2018.54.42.png)"
   ]
  },
  {
   "cell_type": "markdown",
   "id": "f7de4300",
   "metadata": {},
   "source": [
    "there is some difference in the above. The first:\n",
    "\n",
    "    p(g,t2) - p(g,t1) <= RU0\n",
    "    p(g,t3) - p(g,t2) <= RU0\n",
    "    ...\n",
    "    p(g,t24) -p(g,t23)<= RU0\n",
    "    \n",
    "    \n",
    "    \n",
    "    \n",
    "    The second:\n",
    "    p(g,t1) - p(g,t24) <= RU0\n",
    "    p(g,t2) - p(g,t1)  <= RU0\n",
    "    p(g,t3) - p(g,t2)  <= RU0\n",
    "    ...\n",
    "    p(g,t24) -p(g,t23) <= RU0"
   ]
  },
  {
   "cell_type": "code",
   "execution_count": null,
   "id": "01022ee4",
   "metadata": {},
   "outputs": [],
   "source": []
  },
  {
   "cell_type": "code",
   "execution_count": null,
   "id": "bd638820",
   "metadata": {},
   "outputs": [],
   "source": []
  },
  {
   "cell_type": "code",
   "execution_count": 20,
   "id": "e64b5455",
   "metadata": {},
   "outputs": [
    {
     "data": {
      "text/plain": [
       "['t1',\n",
       " 't2',\n",
       " 't3',\n",
       " 't4',\n",
       " 't5',\n",
       " 't6',\n",
       " 't7',\n",
       " 't8',\n",
       " 't9',\n",
       " 't10',\n",
       " 't11',\n",
       " 't12',\n",
       " 't13',\n",
       " 't14',\n",
       " 't15',\n",
       " 't16',\n",
       " 't17',\n",
       " 't18',\n",
       " 't19',\n",
       " 't20',\n",
       " 't21',\n",
       " 't22',\n",
       " 't23',\n",
       " 't24']"
      ]
     },
     "execution_count": 20,
     "metadata": {},
     "output_type": "execute_result"
    }
   ],
   "source": [
    "t_hours"
   ]
  },
  {
   "cell_type": "code",
   "execution_count": 21,
   "id": "2e5f8aeb",
   "metadata": {},
   "outputs": [
    {
     "data": {
      "text/plain": [
       "23"
      ]
     },
     "execution_count": 21,
     "metadata": {},
     "output_type": "execute_result"
    }
   ],
   "source": [
    "t_hours.index('t24')"
   ]
  },
  {
   "cell_type": "code",
   "execution_count": 22,
   "id": "31d81a61",
   "metadata": {},
   "outputs": [
    {
     "data": {
      "text/plain": [
       "24"
      ]
     },
     "execution_count": 22,
     "metadata": {},
     "output_type": "execute_result"
    }
   ],
   "source": [
    "t_hours.index('t24') + 1"
   ]
  },
  {
   "cell_type": "code",
   "execution_count": 23,
   "id": "2255b52f",
   "metadata": {},
   "outputs": [],
   "source": [
    "# above, we have constraint.skip because of this: t_hours[24] gives \"list index out of range\"\n",
    "\n"
   ]
  },
  {
   "cell_type": "code",
   "execution_count": null,
   "id": "0495f572",
   "metadata": {},
   "outputs": [],
   "source": []
  },
  {
   "cell_type": "code",
   "execution_count": null,
   "id": "c88038e3",
   "metadata": {},
   "outputs": [],
   "source": []
  },
  {
   "cell_type": "code",
   "execution_count": null,
   "id": "9c5d762e",
   "metadata": {},
   "outputs": [],
   "source": []
  },
  {
   "cell_type": "code",
   "execution_count": null,
   "id": "9f4d9a75",
   "metadata": {},
   "outputs": [],
   "source": []
  },
  {
   "cell_type": "code",
   "execution_count": 24,
   "id": "f0116a5c",
   "metadata": {},
   "outputs": [],
   "source": [
    "model.Genconst4 = Constraint(\n",
    "    model.g_units, \n",
    "    model.t_hours, \n",
    "    rule=lambda model, g, t: \n",
    "    model.p[g, t_hours[t_hours.index(t) - 1]] - model.p[g, t] <= gendata[g, 'RD0'])"
   ]
  },
  {
   "attachments": {
    "Screenshot%202023-07-31%20at%2018.55.19.png": {
     "image/png": "[encoded data removed]"
    }
   },
   "cell_type": "markdown",
   "id": "668f55bb",
   "metadata": {},
   "source": [
    "![Screenshot%202023-07-31%20at%2018.55.19.png](attachment:Screenshot%202023-07-31%20at%2018.55.19.png)"
   ]
  },
  {
   "cell_type": "code",
   "execution_count": null,
   "id": "0f7b6fac",
   "metadata": {},
   "outputs": [],
   "source": []
  },
  {
   "cell_type": "code",
   "execution_count": null,
   "id": "c3b90938",
   "metadata": {},
   "outputs": [],
   "source": []
  },
  {
   "cell_type": "markdown",
   "id": "11c0d0b8",
   "metadata": {},
   "source": [
    "The State of Charge (SOC) for the Energy Storage:"
   ]
  },
  {
   "cell_type": "code",
   "execution_count": 25,
   "id": "0bd499a1",
   "metadata": {},
   "outputs": [],
   "source": [
    "def constESS1_rule(model, t):\n",
    "    if t == 't1':\n",
    "        return model.SOC[t] == SOC0 + model.Pc[t] * etac - model.Pd[t] / etad\n",
    "    else:\n",
    "        return model.SOC[t] == model.SOC[t_hours[t_hours.index(t) - 1]] + model.Pc[t] * etac - model.Pd[t] / etad"
   ]
  },
  {
   "cell_type": "code",
   "execution_count": 26,
   "id": "b393d9b2",
   "metadata": {},
   "outputs": [],
   "source": [
    "model.constESS1 = Constraint(model.t_hours, rule=constESS1_rule)"
   ]
  },
  {
   "attachments": {
    "Screenshot%202023-07-31%20at%2017.53.54.png": {
     "image/png": "[encoded data removed]"
    }
   },
   "cell_type": "markdown",
   "id": "6b4f3465",
   "metadata": {},
   "source": [
    "![Screenshot%202023-07-31%20at%2017.53.54.png](attachment:Screenshot%202023-07-31%20at%2017.53.54.png)"
   ]
  },
  {
   "cell_type": "code",
   "execution_count": null,
   "id": "4d1912b4",
   "metadata": {},
   "outputs": [],
   "source": []
  },
  {
   "cell_type": "code",
   "execution_count": null,
   "id": "0aea0408",
   "metadata": {},
   "outputs": [],
   "source": []
  },
  {
   "cell_type": "code",
   "execution_count": 27,
   "id": "bf16e3e5",
   "metadata": {},
   "outputs": [],
   "source": [
    "model.balance = Constraint(\n",
    "    model.t_hours, \n",
    "    rule=lambda model, t: \n",
    "    model.Pw[t] + sum(model.p[g, t] for g in model.g_units) + model.Pd[t] == data[t, 'load'] + model.Pc[t])"
   ]
  },
  {
   "attachments": {
    "Screenshot%202023-07-31%20at%2018.02.26.png": {
     "image/png": "[encoded data removed]"
    }
   },
   "cell_type": "markdown",
   "id": "355f548d",
   "metadata": {},
   "source": [
    "![Screenshot%202023-07-31%20at%2018.02.26.png](attachment:Screenshot%202023-07-31%20at%2018.02.26.png)"
   ]
  },
  {
   "cell_type": "code",
   "execution_count": null,
   "id": "9b0e73fd",
   "metadata": {},
   "outputs": [],
   "source": []
  },
  {
   "cell_type": "code",
   "execution_count": null,
   "id": "26b96af0",
   "metadata": {},
   "outputs": [],
   "source": []
  },
  {
   "cell_type": "code",
   "execution_count": 28,
   "id": "3147d593",
   "metadata": {},
   "outputs": [],
   "source": [
    "model.wind = Constraint(\n",
    "    model.t_hours, \n",
    "    rule=lambda model, t: model.Pw[t] + model.PWC[t] == data[t, 'wind'])"
   ]
  },
  {
   "attachments": {
    "Screenshot%202023-07-31%20at%2018.00.30.png": {
     "image/png": "[encoded data removed]"
    }
   },
   "cell_type": "markdown",
   "id": "3124ffa1",
   "metadata": {},
   "source": [
    "![Screenshot%202023-07-31%20at%2018.00.30.png](attachment:Screenshot%202023-07-31%20at%2018.00.30.png)"
   ]
  },
  {
   "cell_type": "code",
   "execution_count": null,
   "id": "db0938c9",
   "metadata": {},
   "outputs": [],
   "source": []
  },
  {
   "cell_type": "code",
   "execution_count": 29,
   "id": "5896390b",
   "metadata": {},
   "outputs": [],
   "source": [
    "model.EM = Var(bounds=(0, None))"
   ]
  },
  {
   "cell_type": "code",
   "execution_count": 30,
   "id": "52f62b81",
   "metadata": {},
   "outputs": [],
   "source": [
    "\n",
    "\n",
    "model.EMcalc = Constraint(\n",
    "    rule=lambda model: \n",
    "    model.EM == sum(gendata[g, 'd'] * model.p[g, t]**2 + gendata[g, 'e'] * model.p[g, t] + gendata[g, 'f'] \n",
    "                          for t in model.t_hours for g in model.g_units))\n"
   ]
  },
  {
   "attachments": {
    "Screenshot%202023-07-31%20at%2017.56.25.png": {
     "image/png": "[encoded data removed]"
    }
   },
   "cell_type": "markdown",
   "id": "7b58076f",
   "metadata": {},
   "source": [
    "![Screenshot%202023-07-31%20at%2017.56.25.png](attachment:Screenshot%202023-07-31%20at%2017.56.25.png)"
   ]
  },
  {
   "cell_type": "code",
   "execution_count": null,
   "id": "a6638bf7",
   "metadata": {},
   "outputs": [],
   "source": []
  },
  {
   "cell_type": "markdown",
   "id": "36412cd5",
   "metadata": {},
   "source": [
    "## Solution"
   ]
  },
  {
   "cell_type": "code",
   "execution_count": 31,
   "id": "c8e8e9a0",
   "metadata": {},
   "outputs": [],
   "source": [
    "solver = SolverFactory('gurobi')  "
   ]
  },
  {
   "cell_type": "code",
   "execution_count": 32,
   "id": "3e0518c3",
   "metadata": {},
   "outputs": [],
   "source": [
    "solver.options['NonConvex'] = 2"
   ]
  },
  {
   "cell_type": "code",
   "execution_count": 33,
   "id": "09f69432",
   "metadata": {},
   "outputs": [],
   "source": [
    "result_wind = solver.solve(model)"
   ]
  },
  {
   "cell_type": "code",
   "execution_count": null,
   "id": "badc4ceb",
   "metadata": {},
   "outputs": [],
   "source": []
  },
  {
   "cell_type": "code",
   "execution_count": 34,
   "id": "c6d45478",
   "metadata": {},
   "outputs": [
    {
     "data": {
      "text/plain": [
       "1"
      ]
     },
     "execution_count": 34,
     "metadata": {},
     "output_type": "execute_result"
    }
   ],
   "source": [
    "result_wind['Problem'][0]['Number of objectives']  "
   ]
  },
  {
   "cell_type": "code",
   "execution_count": 35,
   "id": "eb8ecb44",
   "metadata": {},
   "outputs": [
    {
     "name": "stdout",
     "output_type": "stream",
     "text": [
      "Model Wind Integrated DED\n",
      "\n",
      "  Variables:\n",
      "    p : Size=96, Index=p_index\n",
      "        Key           : Lower : Value              : Upper : Fixed : Stale : Domain\n",
      "         ('p1', 't1') :    28 : 148.88356029324214 :   200 : False : False :  Reals\n",
      "        ('p1', 't10') :    28 : 132.41323954578695 :   200 : False : False :  Reals\n",
      "        ('p1', 't11') :    28 : 106.87507400842512 :   200 : False : False :  Reals\n",
      "        ('p1', 't12') :    28 : 119.01865008837967 :   200 : False : False :  Reals\n",
      "        ('p1', 't13') :    28 :   88.5481547269621 :   200 : False : False :  Reals\n",
      "        ('p1', 't14') :    28 :  79.52812314512191 :   200 : False : False :  Reals\n",
      "        ('p1', 't15') :    28 :  68.88257351452506 :   200 : False : False :  Reals\n",
      "        ('p1', 't16') :    28 :  73.75912768844823 :   200 : False : False :  Reals\n",
      "        ('p1', 't17') :    28 :  80.02449642214654 :   200 : False : False :  Reals\n",
      "        ('p1', 't18') :    28 : 108.30935464829568 :   200 : False : False :  Reals\n",
      "        ('p1', 't19') :    28 : 104.05399191616578 :   200 : False : False :  Reals\n",
      "         ('p1', 't2') :    28 : 148.88356029350206 :   200 : False : False :  Reals\n",
      "        ('p1', 't20') :    28 : 111.91099269816146 :   200 : False : False :  Reals\n",
      "        ('p1', 't21') :    28 :  99.70367081027541 :   200 : False : False :  Reals\n",
      "        ('p1', 't22') :    28 :  90.52427471848978 :   200 : False : False :  Reals\n",
      "        ('p1', 't23') :    28 :  58.65137162020032 :   200 : False : False :  Reals\n",
      "        ('p1', 't24') :    28 :  40.48052977889843 :   200 : False : False :  Reals\n",
      "         ('p1', 't3') :    28 : 147.16242352228588 :   200 : False : False :  Reals\n",
      "         ('p1', 't4') :    28 :  120.0067100849117 :   200 : False : False :  Reals\n",
      "         ('p1', 't5') :    28 : 104.27165315034901 :   200 : False : False :  Reals\n",
      "         ('p1', 't6') :    28 :  95.01835405528904 :   200 : False : False :  Reals\n",
      "         ('p1', 't7') :    28 : 104.27165314574917 :   200 : False : False :  Reals\n",
      "         ('p1', 't8') :    28 : 121.15413459629333 :   200 : False : False :  Reals\n",
      "         ('p1', 't9') :    28 : 134.31764357728022 :   200 : False : False :  Reals\n",
      "         ('p2', 't1') :    20 :  99.88839550121759 :   290 : False : False :  Reals\n",
      "        ('p2', 't10') :    20 :  88.26228673823621 :   290 : False : False :  Reals\n",
      "        ('p2', 't11') :    20 :   70.2353463590186 :   290 : False : False :  Reals\n",
      "        ('p2', 't12') :    20 :  78.80728241533713 :   290 : False : False :  Reals\n",
      "        ('p2', 't13') :    20 :  57.29869745442371 :   290 : False : False :  Reals\n",
      "        ('p2', 't14') :    20 : 50.931616337814944 :   290 : False : False :  Reals\n",
      "        ('p2', 't15') :    20 :  43.41711071626861 :   290 : False : False :  Reals\n",
      "        ('p2', 't16') :    20 : 46.859384250766794 :   290 : False : False :  Reals\n",
      "        ('p2', 't17') :    20 :   51.2819974745745 :   290 : False : False :  Reals\n",
      "        ('p2', 't18') :    20 :  71.24777975175382 :   290 : False : False :  Reals\n",
      "        ('p2', 't19') :    20 :  68.24399429385058 :   290 : False : False :  Reals\n",
      "         ('p2', 't2') :    20 :   99.8883955013852 :   290 : False : False :  Reals\n",
      "        ('p2', 't20') :    20 :  73.79011249285395 :   290 : False : False :  Reals\n",
      "        ('p2', 't21') :    20 :  65.17317939556196 :   290 : False : False :  Reals\n",
      "        ('p2', 't22') :    20 :  58.69360568370216 :   290 : False : False :  Reals\n",
      "        ('p2', 't23') :    20 :  36.19508584970743 :   290 : False : False :  Reals\n",
      "        ('p2', 't24') :    20 :  23.36860925679666 :   290 : False : False :  Reals\n",
      "         ('p2', 't3') :    20 :  98.67347542754368 :   290 : False : False :  Reals\n",
      "         ('p2', 't4') :    20 :  79.50473653061233 :   290 : False : False :  Reals\n",
      "         ('p2', 't5') :    20 :    68.397637517972 :   290 : False : False :  Reals\n",
      "         ('p2', 't6') :    20 : 61.865896980304036 :   290 : False : False :  Reals\n",
      "         ('p2', 't7') :    20 :  68.39763751472721 :   290 : False : False :  Reals\n",
      "         ('p2', 't8') :    20 :  80.31468324450404 :   290 : False : False :  Reals\n",
      "         ('p2', 't9') :    20 :  89.60657193695464 :   290 : False : False :  Reals\n",
      "         ('p3', 't1') :    30 : 116.60684823465517 :   190 : False : False :  Reals\n",
      "        ('p3', 't10') :    30 : 103.43059163650285 :   190 : False : False :  Reals\n",
      "        ('p3', 't11') :    30 :  83.00005920699648 :   190 : False : False :  Reals\n",
      "        ('p3', 't12') :    30 :   92.7149200703157 :   190 : False : False :  Reals\n",
      "        ('p3', 't13') :    30 :  68.33852378198391 :   190 : False : False :  Reals\n",
      "        ('p3', 't14') :    30 : 61.122498516165386 :   190 : False : False :  Reals\n",
      "        ('p3', 't15') :    30 : 52.606058811782646 :   190 : False : False :  Reals\n",
      "        ('p3', 't16') :    30 :  56.50730215085426 :   190 : False : False :  Reals\n",
      "        ('p3', 't17') :    30 :  61.51959713802874 :   190 : False : False :  Reals\n",
      "        ('p3', 't18') :    30 :  84.14748371840749 :   190 : False : False :  Reals\n",
      "        ('p3', 't19') :    30 :  80.74319353301365 :   190 : False : False :  Reals\n",
      "         ('p3', 't2') :    30 : 116.60684823484767 :   190 : False : False :  Reals\n",
      "        ('p3', 't20') :    30 :  87.02879415850302 :   190 : False : False :  Reals\n",
      "        ('p3', 't21') :    30 :  77.26293664827895 :   190 : False : False :  Reals\n",
      "        ('p3', 't22') :    30 :  69.91941977434318 :   190 : False : False :  Reals\n",
      "        ('p3', 't23') :    30 :  44.42109729682708 :   190 : False : False :  Reals\n",
      "        ('p3', 't24') :    30 : 30.000000048824624 :   190 : False : False :  Reals\n",
      "         ('p3', 't3') :    30 : 115.22993881766685 :   190 : False : False :  Reals\n",
      "         ('p3', 't4') :    30 :  93.50536806812464 :   190 : False : False :  Reals\n",
      "         ('p3', 't5') :    30 :  80.91732252035285 :   190 : False : False :  Reals\n",
      "         ('p3', 't6') :    30 :   73.5146832443408 :   190 : False : False :  Reals\n",
      "         ('p3', 't7') :    30 :   80.9173225166802 :   190 : False : False :  Reals\n",
      "         ('p3', 't8') :    30 :  94.42330767705262 :   190 : False : False :  Reals\n",
      "         ('p3', 't9') :    30 : 104.95411486181328 :   190 : False : False :  Reals\n",
      "         ('p4', 't1') :    20 :  90.32119597477302 :   260 : False : False :  Reals\n",
      "        ('p4', 't10') :    20 :   79.9188881344217 :   260 : False : False :  Reals\n",
      "        ('p4', 't11') :    20 :  63.78952042622204 :   260 : False : False :  Reals\n",
      "        ('p4', 't12') :    20 :   71.4591474246761 :   260 : False : False :  Reals\n",
      "        ('p4', 't13') :    20 : 52.214624037873854 :   260 : False : False :  Reals\n",
      "        ('p4', 't14') :    20 : 46.517761986496524 :   260 : False : False :  Reals\n",
      "        ('p4', 't15') :    20 :   39.7942569566153 :   260 : False : False :  Reals\n",
      "        ('p4', 't16') :    20 :  42.87418590859981 :   260 : False : False :  Reals\n",
      "        ('p4', 't17') :    20 :  46.83126089807424 :   260 : False : False :  Reals\n",
      "        ('p4', 't18') :    20 :   64.6953818834582 :   260 : False : False :  Reals\n",
      "        ('p4', 't19') :    20 :  62.00778436813344 :   260 : False : False :  Reals\n",
      "         ('p4', 't2') :    20 :  90.32119597493529 :   260 : False : False :  Reals\n",
      "        ('p4', 't20') :    20 :  66.97010065161278 :   260 : False : False :  Reals\n",
      "        ('p4', 't21') :    20 :   59.2602131433908 :   260 : False : False :  Reals\n",
      "        ('p4', 't22') :    20 : 53.462699822649746 :   260 : False : False :  Reals\n",
      "        ('p4', 't23') :    20 :  33.33244523369549 :   260 : False : False :  Reals\n",
      "        ('p4', 't24') :    20 :  21.85612407283277 :   260 : False : False :  Reals\n",
      "         ('p4', 't3') :    20 :  89.23416222489003 :   260 : False : False :  Reals\n",
      "         ('p4', 't4') :    20 :  72.08318531671082 :   260 : False : False :  Reals\n",
      "         ('p4', 't5') :    20 :  62.14525462131019 :   260 : False : False :  Reals\n",
      "         ('p4', 't6') :    20 :  56.30106571913955 :   260 : False : False :  Reals\n",
      "         ('p4', 't7') :    20 :  62.14525461839729 :   260 : False : False :  Reals\n",
      "         ('p4', 't8') :    20 :  72.80787448196048 :   260 : False : False :  Reals\n",
      "         ('p4', 't9') :    20 :  81.12166962788653 :   260 : False : False :  Reals\n",
      "    SOC : Size=24, Index=t_hours\n",
      "        Key : Lower : Value              : Upper : Fixed : Stale : Domain\n",
      "         t1 :  60.0 :  88.66666667093098 :   300 : False : False :  Reals\n",
      "        t10 :  60.0 :  60.00000000148527 :   300 : False : False :  Reals\n",
      "        t11 :  60.0 :  60.00000000204102 :   300 : False : False :  Reals\n",
      "        t12 :  60.0 :  60.00000000053584 :   300 : False : False :  Reals\n",
      "        t13 :  60.0 :  60.00000000164291 :   300 : False : False :  Reals\n",
      "        t14 :  60.0 : 116.99999998789659 :   300 : False : False :  Reals\n",
      "        t15 :  60.0 :  173.9999999870768 :   300 : False : False :  Reals\n",
      "        t16 :  60.0 : 230.99999998575572 :   300 : False : False :  Reals\n",
      "        t17 :  60.0 : 242.83448432187248 :   300 : False : False :  Reals\n",
      "        t18 :  60.0 :  176.1678176572731 :   300 : False : False :  Reals\n",
      "        t19 :  60.0 : 126.66666666960903 :   300 : False : False :  Reals\n",
      "         t2 :  60.0 : 60.000000009397795 :   300 : False : False :  Reals\n",
      "        t20 :  60.0 :  60.00000000414357 :   300 : False : False :  Reals\n",
      "        t21 :  60.0 : 60.000000001299576 :   300 : False : False :  Reals\n",
      "        t22 :  60.0 :  60.00000000030666 :   300 : False : False :  Reals\n",
      "        t23 :  60.0 :  60.00000000060184 :   300 : False : False :  Reals\n",
      "        t24 :  60.0 :                100 :   300 :  True :  True :  Reals\n",
      "         t3 :  60.0 :  60.00000000088133 :   300 : False : False :  Reals\n",
      "         t4 :  60.0 :  60.00000000114696 :   300 : False : False :  Reals\n",
      "         t5 :  60.0 :  62.88027442057382 :   300 : False : False :  Reals\n",
      "         t6 :  60.0 :  119.8802744196451 :   300 : False : False :  Reals\n",
      "         t7 :  60.0 : 152.30554882536322 :   300 : False : False :  Reals\n",
      "         t8 :  60.0 : 152.30554882506567 :   300 : False : False :  Reals\n",
      "         t9 :  60.0 :  85.63888216271404 :   300 : False : False :  Reals\n",
      "    Pd : Size=24, Index=t_hours\n",
      "        Key : Lower : Value                  : Upper : Fixed : Stale : Domain\n",
      "         t1 :     0 :     10.199999996358594 :  60.0 : False : False :  Reals\n",
      "        t10 :     0 :     23.074993945319036 :  60.0 : False : False :  Reals\n",
      "        t11 :     0 : 3.4576329022996554e-10 :  60.0 : False : False :  Reals\n",
      "        t12 :     0 : 1.6212572424260615e-09 :  60.0 : False : False :  Reals\n",
      "        t13 :     0 : 3.4643752336025623e-10 :  60.0 : False : False :  Reals\n",
      "        t14 :     0 : 2.8604651503094043e-10 :  60.0 : False : False :  Reals\n",
      "        t15 :     0 : 1.9946668044793405e-10 :  60.0 : False : False :  Reals\n",
      "        t16 :     0 : 2.3157478812433518e-10 :  60.0 : False : False :  Reals\n",
      "        t17 :     0 : 2.9195458813341813e-10 :  60.0 : False : False :  Reals\n",
      "        t18 :     0 :      59.99999999835137 :  60.0 : False : False :  Reals\n",
      "        t19 :     0 :     44.551035889147286 :  60.0 : False : False :  Reals\n",
      "         t2 :     0 :     25.799999995576336 :  60.0 : False : False :  Reals\n",
      "        t20 :     0 :     59.999999999107104 :  60.0 : False : False :  Reals\n",
      "        t21 :     0 : 2.8413708102036214e-09 :  60.0 : False : False :  Reals\n",
      "        t22 :     0 : 1.2416121159299593e-09 :  60.0 : False : False :  Reals\n",
      "        t23 :     0 :  5.795725939071616e-10 :  60.0 : False : False :  Reals\n",
      "        t24 :     0 :  4.049774093316813e-10 :  60.0 : False : False :  Reals\n",
      "         t3 :     0 :  7.868027314970704e-09 :  60.0 : False : False :  Reals\n",
      "         t4 :     0 :   3.65339023352456e-10 :  60.0 : False : False :  Reals\n",
      "         t5 :     0 : 2.4929359067900996e-10 :  60.0 : False : False :  Reals\n",
      "         t6 :     0 : 1.8760640603789738e-10 :  60.0 : False : False :  Reals\n",
      "         t7 :     0 :   2.49293745437723e-10 :  60.0 : False : False :  Reals\n",
      "         t8 :     0 :  6.230968415689321e-10 :  60.0 : False : False :  Reals\n",
      "         t9 :     0 :       59.9999999963161 :  60.0 : False : False :  Reals\n",
      "    Pc : Size=24, Index=t_hours\n",
      "        Key : Lower : Value                  : Upper : Fixed : Stale : Domain\n",
      "         t1 :     0 : 2.2979269928256425e-10 :  60.0 : False : False :  Reals\n",
      "        t10 :     0 :  2.492937264537526e-10 :  60.0 : False : False :  Reals\n",
      "        t11 :     0 :  9.894060741709696e-10 :  60.0 : False : False :  Reals\n",
      "        t12 :     0 : 3.1180645754056366e-10 :  60.0 : False : False :  Reals\n",
      "        t13 :     0 : 1.5705225761145093e-09 :  60.0 : False : False :  Reals\n",
      "        t14 :     0 :      59.99999998586475 :  60.0 : False : False :  Reals\n",
      "        t15 :     0 :     59.999999999370345 :  60.0 : False : False :  Reals\n",
      "        t16 :     0 :      59.99999999888027 :  60.0 : False : False :  Reals\n",
      "        t17 :     0 :     12.457351933095929 :  60.0 : False : False :  Reals\n",
      "        t18 :     0 : 2.4803097253133025e-10 :  60.0 : False : False :  Reals\n",
      "        t19 :     0 : 2.9195467106407473e-10 :  60.0 : False : False :  Reals\n",
      "         t2 :     0 :  2.297927316743383e-10 :  60.0 : False : False :  Reals\n",
      "        t20 :     0 : 2.2001538853892252e-10 :  60.0 : False : False :  Reals\n",
      "        t21 :     0 :  3.295582958088877e-10 :  60.0 : False : False :  Reals\n",
      "        t22 :     0 : 4.0701190921088815e-10 :  60.0 : False : False :  Reals\n",
      "        t23 :     0 :   9.88569251221404e-10 :  60.0 : False : False :  Reals\n",
      "        t24 :     0 :      42.10526315773488 :  60.0 : False : False :  Reals\n",
      "         t3 :     0 :  2.376704123803024e-10 :  60.0 : False : False :  Reals\n",
      "         t4 :     0 :  7.069056517502892e-10 :  60.0 : False : False :  Reals\n",
      "         t5 :     0 :     3.0318678102145813 :  60.0 : False : False :  Reals\n",
      "         t6 :     0 :      59.99999999924184 :  60.0 : False : False :  Reals\n",
      "         t7 :     0 :      34.13186779578433 :  60.0 : False : False :  Reals\n",
      "         t8 :     0 :  4.155507299275692e-10 :  60.0 : False : False :  Reals\n",
      "         t9 :     0 :  2.334929895993663e-10 :  60.0 : False : False :  Reals\n",
      "    Pw : Size=24, Index=t_hours\n",
      "        Key : Lower : Value              : Upper : Fixed : Stale : Domain\n",
      "         t1 :     0 : 44.099999999983254 :  44.1 : False : False :  Reals\n",
      "        t10 :     0 :  306.8999999999825 : 306.9 : False : False :  Reals\n",
      "        t11 :     0 : 424.09999999998143 : 424.1 : False : False :  Reals\n",
      "        t12 :     0 :   397.999999999982 :   398 : False : False :  Reals\n",
      "        t13 :     0 : 487.59999999998047 : 487.6 : False : False :  Reals\n",
      "        t14 :     0 :  521.8999999999799 : 521.9 : False : False :  Reals\n",
      "        t15 :     0 :  541.2999999999793 : 541.3 : False : False :  Reals\n",
      "        t16 :     0 :  559.9999999999795 :   560 : False : False :  Reals\n",
      "        t17 :     0 : 486.79999999997995 : 486.8 : False : False :  Reals\n",
      "        t18 :     0 :  372.5999999999815 : 372.6 : False : False :  Reals\n",
      "        t19 :     0 :  367.3999999999812 : 367.4 : False : False :  Reals\n",
      "         t2 :     0 :  48.49999999998325 :  48.5 : False : False :  Reals\n",
      "        t20 :     0 : 314.29999999998165 : 314.3 : False : False :  Reals\n",
      "        t21 :     0 : 316.59999999998104 : 316.6 : False : False :  Reals\n",
      "        t22 :     0 : 311.39999999998054 : 311.4 : False : False :  Reals\n",
      "        t23 :     0 :  405.3999999999786 : 405.4 : False : False :  Reals\n",
      "        t24 :     0 : 470.39999999997735 : 470.4 : False : False :  Reals\n",
      "         t3 :     0 :  65.69999999998319 :  65.7 : False : False :  Reals\n",
      "         t4 :     0 : 144.89999999998201 : 144.9 : False : False :  Reals\n",
      "         t5 :     0 : 202.29999999998125 : 202.3 : False : False :  Reals\n",
      "         t6 :     0 :  317.2999999999808 : 317.3 : False : False :  Reals\n",
      "         t7 :     0 :  364.3999999999812 : 364.4 : False : False :  Reals\n",
      "         t8 :     0 : 317.29999999998205 : 317.3 : False : False :  Reals\n",
      "         t9 :     0 : 270.99999999998266 :   271 : False : False :  Reals\n",
      "    PWC : Size=24, Index=t_hours\n",
      "        Key : Lower : Value                  : Upper : Fixed : Stale : Domain\n",
      "         t1 :     0 :  1.674749228186556e-11 :  44.1 : False : False :  Reals\n",
      "        t10 :     0 :  1.745092959026806e-11 : 306.9 : False : False :  Reals\n",
      "        t11 :     0 :  1.858779796748422e-11 : 424.1 : False : False :  Reals\n",
      "        t12 :     0 :  1.801936377887614e-11 :   398 : False : False :  Reals\n",
      "        t13 :     0 : 1.9554136088117957e-11 : 487.6 : False : False :  Reals\n",
      "        t14 :     0 : 2.0122570276726037e-11 : 521.9 : False : False :  Reals\n",
      "        t15 :     0 : 2.0691004465334117e-11 : 541.3 : False : False :  Reals\n",
      "        t16 :     0 : 2.0463630789890885e-11 :   560 : False : False :  Reals\n",
      "        t17 :     0 :  2.006572685786523e-11 : 486.8 : False : False :  Reals\n",
      "        t18 :     0 : 1.8530954548623413e-11 : 372.6 : False : False :  Reals\n",
      "        t19 :     0 : 1.8758328224066645e-11 : 367.4 : False : False :  Reals\n",
      "         t2 :     0 :  1.674749228186556e-11 :  48.5 : False : False :  Reals\n",
      "        t20 :     0 :  1.836042429204099e-11 : 314.3 : False : False :  Reals\n",
      "        t21 :     0 : 1.8985701899509877e-11 : 316.6 : False : False :  Reals\n",
      "        t22 :     0 :  1.944044925039634e-11 : 311.4 : False : False :  Reals\n",
      "        t23 :     0 : 2.1373125491663814e-11 : 405.4 : False : False :  Reals\n",
      "        t24 :     0 :  2.262368070660159e-11 : 470.4 : False : False :  Reals\n",
      "         t3 :     0 :  1.681144112808397e-11 :  65.7 : False : False :  Reals\n",
      "         t4 :     0 : 1.7990942069445737e-11 : 144.9 : False : False :  Reals\n",
      "         t5 :     0 : 1.8758328224066645e-11 : 202.3 : False : False :  Reals\n",
      "         t6 :     0 :  1.921307557495311e-11 : 317.3 : False : False :  Reals\n",
      "         t7 :     0 : 1.8758328224066645e-11 : 364.4 : False : False :  Reals\n",
      "         t8 :     0 : 1.7962520360015333e-11 : 317.3 : False : False :  Reals\n",
      "         t9 :     0 : 1.7337242752546445e-11 :   271 : False : False :  Reals\n",
      "    EM : Size=1, Index=None\n",
      "        Key  : Lower : Value             : Upper : Fixed : Stale : Domain\n",
      "        None :     0 : 870440.1010964093 :  None : False : False :  Reals\n",
      "\n",
      "  Objectives:\n",
      "    costThermal : Size=1, Index=None, Active=True\n",
      "        Key  : Active : Value\n",
      "        None :   True : 223360.0644544772\n",
      "\n",
      "  Constraints:\n",
      "    Genconst3 : Size=92\n",
      "        Key           : Lower : Body                   : Upper\n",
      "         ('p1', 't1') :  None : 2.5991653274104465e-10 :  40.0\n",
      "        ('p1', 't10') :  None :    -25.538165537361834 :  40.0\n",
      "        ('p1', 't11') :  None :     12.143576079954556 :  40.0\n",
      "        ('p1', 't12') :  None :    -30.470495361417576 :  40.0\n",
      "        ('p1', 't13') :  None :     -9.020031581840186 :  40.0\n",
      "        ('p1', 't14') :  None :    -10.645549630596847 :  40.0\n",
      "        ('p1', 't15') :  None :      4.876554173923168 :  40.0\n",
      "        ('p1', 't16') :  None :       6.26536873369831 :  40.0\n",
      "        ('p1', 't17') :  None :      28.28485822614914 :  40.0\n",
      "        ('p1', 't18') :  None :     -4.255362732129896 :  40.0\n",
      "        ('p1', 't19') :  None :       7.85700078199568 :  40.0\n",
      "         ('p1', 't2') :  None :    -1.7211367712161803 :  40.0\n",
      "        ('p1', 't20') :  None :    -12.207321887886053 :  40.0\n",
      "        ('p1', 't21') :  None :     -9.179396091785634 :  40.0\n",
      "        ('p1', 't22') :  None :    -31.872903098289456 :  40.0\n",
      "        ('p1', 't23') :  None :    -18.170841841301893 :  40.0\n",
      "         ('p1', 't3') :  None :    -27.155713437374175 :  40.0\n",
      "         ('p1', 't4') :  None :    -15.735056934562692 :  40.0\n",
      "         ('p1', 't5') :  None :     -9.253299095059973 :  40.0\n",
      "         ('p1', 't6') :  None :      9.253299090460132 :  40.0\n",
      "         ('p1', 't7') :  None :     16.882481450544162 :  40.0\n",
      "         ('p1', 't8') :  None :      13.16350898098689 :  40.0\n",
      "         ('p1', 't9') :  None :    -1.9044040314932715 :  40.0\n",
      "         ('p2', 't1') :  None : 1.6761703136580763e-10 :  30.0\n",
      "        ('p2', 't10') :  None :    -18.026940379217606 :  30.0\n",
      "        ('p2', 't11') :  None :       8.57193605631852 :  30.0\n",
      "        ('p2', 't12') :  None :    -21.508584960913417 :  30.0\n",
      "        ('p2', 't13') :  None :     -6.367081116608766 :  30.0\n",
      "        ('p2', 't14') :  None :     -7.514505621546334 :  30.0\n",
      "        ('p2', 't15') :  None :     3.4422735344981845 :  30.0\n",
      "        ('p2', 't16') :  None :     4.4226132238077085 :  30.0\n",
      "        ('p2', 't17') :  None :     19.965782277179322 :  30.0\n",
      "        ('p2', 't18') :  None :    -3.0037854579032484 :  30.0\n",
      "        ('p2', 't19') :  None :      5.546118199003374 :  30.0\n",
      "         ('p2', 't2') :  None :     -1.214920073841526 :  30.0\n",
      "        ('p2', 't20') :  None :      -8.61693309729199 :  30.0\n",
      "        ('p2', 't21') :  None :       -6.4795737118598 :  30.0\n",
      "        ('p2', 't22') :  None :    -22.498519833994727 :  30.0\n",
      "        ('p2', 't23') :  None :    -12.826476592910772 :  30.0\n",
      "         ('p2', 't3') :  None :    -19.168738896931345 :  30.0\n",
      "         ('p2', 't4') :  None :    -11.107099012640333 :  30.0\n",
      "         ('p2', 't5') :  None :    -6.5317405376679645 :  30.0\n",
      "         ('p2', 't6') :  None :      6.531740534423172 :  30.0\n",
      "         ('p2', 't7') :  None :      11.91704572977683 :  30.0\n",
      "         ('p2', 't8') :  None :      9.291888692450598 :  30.0\n",
      "         ('p2', 't9') :  None :    -1.3442851987184241 :  30.0\n",
      "         ('p3', 't1') :  None : 1.9250023797212634e-10 :  30.0\n",
      "        ('p3', 't10') :  None :     -20.43053242950637 :  30.0\n",
      "        ('p3', 't11') :  None :      9.714860863319217 :  30.0\n",
      "        ('p3', 't12') :  None :     -24.37639628833179 :  30.0\n",
      "        ('p3', 't13') :  None :     -7.216025265818523 :  30.0\n",
      "        ('p3', 't14') :  None :      -8.51643970438274 :  30.0\n",
      "        ('p3', 't15') :  None :     3.9012433390716126 :  30.0\n",
      "        ('p3', 't16') :  None :      5.012294987174485 :  30.0\n",
      "        ('p3', 't17') :  None :     22.627886580378743 :  30.0\n",
      "        ('p3', 't18') :  None :     -3.404290185393833 :  30.0\n",
      "        ('p3', 't19') :  None :      6.285600625489366 :  30.0\n",
      "         ('p3', 't2') :  None :    -1.3769094171808263 :  30.0\n",
      "        ('p3', 't20') :  None :     -9.765857510224066 :  30.0\n",
      "        ('p3', 't21') :  None :     -7.343516873935769 :  30.0\n",
      "        ('p3', 't22') :  None :    -25.498322477516105 :  30.0\n",
      "        ('p3', 't23') :  None :    -14.421097248002454 :  30.0\n",
      "         ('p3', 't3') :  None :     -21.72457074954221 :  30.0\n",
      "         ('p3', 't4') :  None :    -12.588045547771785 :  30.0\n",
      "         ('p3', 't5') :  None :     -7.402639276012053 :  30.0\n",
      "         ('p3', 't6') :  None :        7.4026392723394 :  30.0\n",
      "         ('p3', 't7') :  None :     13.505985160372418 :  30.0\n",
      "         ('p3', 't8') :  None :     10.530807184760661 :  30.0\n",
      "         ('p3', 't9') :  None :    -1.5235232253104272 :  30.0\n",
      "         ('p4', 't1') :  None : 1.6227374999289168e-10 :  50.0\n",
      "        ('p4', 't10') :  None :    -16.129367708199666 :  50.0\n",
      "        ('p4', 't11') :  None :     7.6696269984540635 :  50.0\n",
      "        ('p4', 't12') :  None :     -19.24452338680225 :  50.0\n",
      "        ('p4', 't13') :  None :      -5.69686205137733 :  50.0\n",
      "        ('p4', 't14') :  None :     -6.723505029881224 :  50.0\n",
      "        ('p4', 't15') :  None :      3.079928951984513 :  50.0\n",
      "        ('p4', 't16') :  None :      3.957074989474428 :  50.0\n",
      "        ('p4', 't17') :  None :     17.864120985383956 :  50.0\n",
      "        ('p4', 't18') :  None :    -2.6875975153247538 :  50.0\n",
      "        ('p4', 't19') :  None :      4.962316283479339 :  50.0\n",
      "         ('p4', 't2') :  None :     -1.087033750045265 :  50.0\n",
      "        ('p4', 't20') :  None :     -7.709887508221982 :  50.0\n",
      "        ('p4', 't21') :  None :     -5.797513320741054 :  50.0\n",
      "        ('p4', 't22') :  None :     -20.13025458895426 :  50.0\n",
      "        ('p4', 't23') :  None :    -11.476321160862717 :  50.0\n",
      "         ('p4', 't3') :  None :    -17.150976908179203 :  50.0\n",
      "         ('p4', 't4') :  None :     -9.937930695400638 :  50.0\n",
      "         ('p4', 't5') :  None :     -5.844188902170636 :  50.0\n",
      "         ('p4', 't6') :  None :     5.8441888992577375 :  50.0\n",
      "         ('p4', 't7') :  None :     10.662619863563194 :  50.0\n",
      "         ('p4', 't8') :  None :       8.31379514592605 :  50.0\n",
      "         ('p4', 't9') :  None :    -1.2027814934648262 :  50.0\n",
      "    Genconst4 : Size=96\n",
      "        Key           : Lower : Body                    : Upper\n",
      "         ('p1', 't1') :  None :     -108.40303051434371 :  40.0\n",
      "        ('p1', 't10') :  None :      1.9044040314932715 :  40.0\n",
      "        ('p1', 't11') :  None :      25.538165537361834 :  40.0\n",
      "        ('p1', 't12') :  None :     -12.143576079954556 :  40.0\n",
      "        ('p1', 't13') :  None :      30.470495361417576 :  40.0\n",
      "        ('p1', 't14') :  None :       9.020031581840186 :  40.0\n",
      "        ('p1', 't15') :  None :      10.645549630596847 :  40.0\n",
      "        ('p1', 't16') :  None :      -4.876554173923168 :  40.0\n",
      "        ('p1', 't17') :  None :       -6.26536873369831 :  40.0\n",
      "        ('p1', 't18') :  None :      -28.28485822614914 :  40.0\n",
      "        ('p1', 't19') :  None :       4.255362732129896 :  40.0\n",
      "         ('p1', 't2') :  None : -2.5991653274104465e-10 :  40.0\n",
      "        ('p1', 't20') :  None :       -7.85700078199568 :  40.0\n",
      "        ('p1', 't21') :  None :      12.207321887886053 :  40.0\n",
      "        ('p1', 't22') :  None :       9.179396091785634 :  40.0\n",
      "        ('p1', 't23') :  None :      31.872903098289456 :  40.0\n",
      "        ('p1', 't24') :  None :      18.170841841301893 :  40.0\n",
      "         ('p1', 't3') :  None :      1.7211367712161803 :  40.0\n",
      "         ('p1', 't4') :  None :      27.155713437374175 :  40.0\n",
      "         ('p1', 't5') :  None :      15.735056934562692 :  40.0\n",
      "         ('p1', 't6') :  None :       9.253299095059973 :  40.0\n",
      "         ('p1', 't7') :  None :      -9.253299090460132 :  40.0\n",
      "         ('p1', 't8') :  None :     -16.882481450544162 :  40.0\n",
      "         ('p1', 't9') :  None :      -13.16350898098689 :  40.0\n",
      "         ('p2', 't1') :  None :      -76.51978624442093 :  30.0\n",
      "        ('p2', 't10') :  None :      1.3442851987184241 :  30.0\n",
      "        ('p2', 't11') :  None :      18.026940379217606 :  30.0\n",
      "        ('p2', 't12') :  None :       -8.57193605631852 :  30.0\n",
      "        ('p2', 't13') :  None :      21.508584960913417 :  30.0\n",
      "        ('p2', 't14') :  None :       6.367081116608766 :  30.0\n",
      "        ('p2', 't15') :  None :       7.514505621546334 :  30.0\n",
      "        ('p2', 't16') :  None :     -3.4422735344981845 :  30.0\n",
      "        ('p2', 't17') :  None :     -4.4226132238077085 :  30.0\n",
      "        ('p2', 't18') :  None :     -19.965782277179322 :  30.0\n",
      "        ('p2', 't19') :  None :      3.0037854579032484 :  30.0\n",
      "         ('p2', 't2') :  None : -1.6761703136580763e-10 :  30.0\n",
      "        ('p2', 't20') :  None :      -5.546118199003374 :  30.0\n",
      "        ('p2', 't21') :  None :        8.61693309729199 :  30.0\n",
      "        ('p2', 't22') :  None :         6.4795737118598 :  30.0\n",
      "        ('p2', 't23') :  None :      22.498519833994727 :  30.0\n",
      "        ('p2', 't24') :  None :      12.826476592910772 :  30.0\n",
      "         ('p2', 't3') :  None :       1.214920073841526 :  30.0\n",
      "         ('p2', 't4') :  None :      19.168738896931345 :  30.0\n",
      "         ('p2', 't5') :  None :      11.107099012640333 :  30.0\n",
      "         ('p2', 't6') :  None :      6.5317405376679645 :  30.0\n",
      "         ('p2', 't7') :  None :      -6.531740534423172 :  30.0\n",
      "         ('p2', 't8') :  None :      -11.91704572977683 :  30.0\n",
      "         ('p2', 't9') :  None :      -9.291888692450598 :  30.0\n",
      "         ('p3', 't1') :  None :      -86.60684818583056 :  30.0\n",
      "        ('p3', 't10') :  None :      1.5235232253104272 :  30.0\n",
      "        ('p3', 't11') :  None :       20.43053242950637 :  30.0\n",
      "        ('p3', 't12') :  None :      -9.714860863319217 :  30.0\n",
      "        ('p3', 't13') :  None :       24.37639628833179 :  30.0\n",
      "        ('p3', 't14') :  None :       7.216025265818523 :  30.0\n",
      "        ('p3', 't15') :  None :        8.51643970438274 :  30.0\n",
      "        ('p3', 't16') :  None :     -3.9012433390716126 :  30.0\n",
      "        ('p3', 't17') :  None :      -5.012294987174485 :  30.0\n",
      "        ('p3', 't18') :  None :     -22.627886580378743 :  30.0\n",
      "        ('p3', 't19') :  None :       3.404290185393833 :  30.0\n",
      "         ('p3', 't2') :  None : -1.9250023797212634e-10 :  30.0\n",
      "        ('p3', 't20') :  None :      -6.285600625489366 :  30.0\n",
      "        ('p3', 't21') :  None :       9.765857510224066 :  30.0\n",
      "        ('p3', 't22') :  None :       7.343516873935769 :  30.0\n",
      "        ('p3', 't23') :  None :      25.498322477516105 :  30.0\n",
      "        ('p3', 't24') :  None :      14.421097248002454 :  30.0\n",
      "         ('p3', 't3') :  None :      1.3769094171808263 :  30.0\n",
      "         ('p3', 't4') :  None :       21.72457074954221 :  30.0\n",
      "         ('p3', 't5') :  None :      12.588045547771785 :  30.0\n",
      "         ('p3', 't6') :  None :       7.402639276012053 :  30.0\n",
      "         ('p3', 't7') :  None :        -7.4026392723394 :  30.0\n",
      "         ('p3', 't8') :  None :     -13.505985160372418 :  30.0\n",
      "         ('p3', 't9') :  None :     -10.530807184760661 :  30.0\n",
      "         ('p4', 't1') :  None :      -68.46507190194025 :  50.0\n",
      "        ('p4', 't10') :  None :      1.2027814934648262 :  50.0\n",
      "        ('p4', 't11') :  None :      16.129367708199666 :  50.0\n",
      "        ('p4', 't12') :  None :     -7.6696269984540635 :  50.0\n",
      "        ('p4', 't13') :  None :       19.24452338680225 :  50.0\n",
      "        ('p4', 't14') :  None :        5.69686205137733 :  50.0\n",
      "        ('p4', 't15') :  None :       6.723505029881224 :  50.0\n",
      "        ('p4', 't16') :  None :      -3.079928951984513 :  50.0\n",
      "        ('p4', 't17') :  None :      -3.957074989474428 :  50.0\n",
      "        ('p4', 't18') :  None :     -17.864120985383956 :  50.0\n",
      "        ('p4', 't19') :  None :      2.6875975153247538 :  50.0\n",
      "         ('p4', 't2') :  None : -1.6227374999289168e-10 :  50.0\n",
      "        ('p4', 't20') :  None :      -4.962316283479339 :  50.0\n",
      "        ('p4', 't21') :  None :       7.709887508221982 :  50.0\n",
      "        ('p4', 't22') :  None :       5.797513320741054 :  50.0\n",
      "        ('p4', 't23') :  None :       20.13025458895426 :  50.0\n",
      "        ('p4', 't24') :  None :      11.476321160862717 :  50.0\n",
      "         ('p4', 't3') :  None :       1.087033750045265 :  50.0\n",
      "         ('p4', 't4') :  None :      17.150976908179203 :  50.0\n",
      "         ('p4', 't5') :  None :       9.937930695400638 :  50.0\n",
      "         ('p4', 't6') :  None :       5.844188902170636 :  50.0\n",
      "         ('p4', 't7') :  None :     -5.8441888992577375 :  50.0\n",
      "         ('p4', 't8') :  None :     -10.662619863563194 :  50.0\n",
      "         ('p4', 't9') :  None :       -8.31379514592605 :  50.0\n",
      "    constESS1 : Size=24\n",
      "        Key : Lower : Body                    : Upper\n",
      "         t1 :   0.0 :                     0.0 :   0.0\n",
      "        t10 :   0.0 :   7.105427357601002e-15 :   0.0\n",
      "        t11 :   0.0 :                     0.0 :   0.0\n",
      "        t12 :   0.0 :                     0.0 :   0.0\n",
      "        t13 :   0.0 :                     0.0 :   0.0\n",
      "        t14 :   0.0 : -1.4210854715202004e-14 :   0.0\n",
      "        t15 :   0.0 :   2.842170943040401e-14 :   0.0\n",
      "        t16 :   0.0 :  -2.842170943040401e-14 :   0.0\n",
      "        t17 :   0.0 :   2.842170943040401e-14 :   0.0\n",
      "        t18 :   0.0 : -1.4210854715202004e-13 :   0.0\n",
      "        t19 :   0.0 : -1.4210854715202004e-14 :   0.0\n",
      "         t2 :   0.0 :  -7.105427357601002e-15 :   0.0\n",
      "        t20 :   0.0 :   9.947598300641403e-14 :   0.0\n",
      "        t21 :   0.0 :                     0.0 :   0.0\n",
      "        t22 :   0.0 :  -7.105427357601002e-15 :   0.0\n",
      "        t23 :   0.0 :   7.105427357601002e-15 :   0.0\n",
      "        t24 :   0.0 :                     0.0 :   0.0\n",
      "         t3 :   0.0 :                     0.0 :   0.0\n",
      "         t4 :   0.0 :                     0.0 :   0.0\n",
      "         t5 :   0.0 :                     0.0 :   0.0\n",
      "         t6 :   0.0 : -1.4210854715202004e-14 :   0.0\n",
      "         t7 :   0.0 :                     0.0 :   0.0\n",
      "         t8 :   0.0 :                     0.0 :   0.0\n",
      "         t9 :   0.0 : -1.4210854715202004e-14 :   0.0\n",
      "    balance : Size=24\n",
      "        Key : Lower : Body                    : Upper\n",
      "         t1 :   0.0 :  -5.684341886080802e-14 :   0.0\n",
      "        t10 :   0.0 :                     0.0 :   0.0\n",
      "        t11 :   0.0 :                     0.0 :   0.0\n",
      "        t12 :   0.0 :                     0.0 :   0.0\n",
      "        t13 :   0.0 :                     0.0 :   0.0\n",
      "        t14 :   0.0 : -1.1368683772161603e-13 :   0.0\n",
      "        t15 :   0.0 :                     0.0 :   0.0\n",
      "        t16 :   0.0 :                     0.0 :   0.0\n",
      "        t17 :   0.0 :                     0.0 :   0.0\n",
      "        t18 :   0.0 :                     0.0 :   0.0\n",
      "        t19 :   0.0 :  1.1368683772161603e-13 :   0.0\n",
      "         t2 :   0.0 :                     0.0 :   0.0\n",
      "        t20 :   0.0 : -1.1368683772161603e-13 :   0.0\n",
      "        t21 :   0.0 :                     0.0 :   0.0\n",
      "        t22 :   0.0 :                     0.0 :   0.0\n",
      "        t23 :   0.0 : -1.1368683772161603e-13 :   0.0\n",
      "        t24 :   0.0 :                     0.0 :   0.0\n",
      "         t3 :   0.0 :                     0.0 :   0.0\n",
      "         t4 :   0.0 :  -5.684341886080802e-14 :   0.0\n",
      "         t5 :   0.0 :                     0.0 :   0.0\n",
      "         t6 :   0.0 :                     0.0 :   0.0\n",
      "         t7 :   0.0 :  1.1368683772161603e-13 :   0.0\n",
      "         t8 :   0.0 :  1.1368683772161603e-13 :   0.0\n",
      "         t9 :   0.0 : -1.1368683772161603e-13 :   0.0\n",
      "    wind : Size=24\n",
      "        Key : Lower : Body  : Upper\n",
      "         t1 :  44.1 :  44.1 :  44.1\n",
      "        t10 : 306.9 : 306.9 : 306.9\n",
      "        t11 : 424.1 : 424.1 : 424.1\n",
      "        t12 : 398.0 : 398.0 : 398.0\n",
      "        t13 : 487.6 : 487.6 : 487.6\n",
      "        t14 : 521.9 : 521.9 : 521.9\n",
      "        t15 : 541.3 : 541.3 : 541.3\n",
      "        t16 : 560.0 : 560.0 : 560.0\n",
      "        t17 : 486.8 : 486.8 : 486.8\n",
      "        t18 : 372.6 : 372.6 : 372.6\n",
      "        t19 : 367.4 : 367.4 : 367.4\n",
      "         t2 :  48.5 :  48.5 :  48.5\n",
      "        t20 : 314.3 : 314.3 : 314.3\n",
      "        t21 : 316.6 : 316.6 : 316.6\n",
      "        t22 : 311.4 : 311.4 : 311.4\n",
      "        t23 : 405.4 : 405.4 : 405.4\n",
      "        t24 : 470.4 : 470.4 : 470.4\n",
      "         t3 :  65.7 :  65.7 :  65.7\n",
      "         t4 : 144.9 : 144.9 : 144.9\n",
      "         t5 : 202.3 : 202.3 : 202.3\n",
      "         t6 : 317.3 : 317.3 : 317.3\n",
      "         t7 : 364.4 : 364.4 : 364.4\n",
      "         t8 : 317.3 : 317.3 : 317.3\n",
      "         t9 : 271.0 : 271.0 : 271.0\n",
      "    EMcalc : Size=1\n",
      "        Key  : Lower : Body                   : Upper\n",
      "        None :   0.0 : 2.6775524020195007e-09 :   0.0\n"
     ]
    }
   ],
   "source": [
    "model.display() "
   ]
  },
  {
   "cell_type": "markdown",
   "id": "f4dda801",
   "metadata": {},
   "source": [
    "Total emissions in this DED-ESS-Wind = 870,440 kg CO2  \n",
    "\n",
    "Total emissions in the  DED-ESS      = 3,592,887 kg CO2  \n",
    "\n",
    "Total emissions in the  DED          = 3,558,327  kg CO2   "
   ]
  },
  {
   "cell_type": "code",
   "execution_count": null,
   "id": "c231c888",
   "metadata": {},
   "outputs": [],
   "source": []
  },
  {
   "cell_type": "markdown",
   "id": "46766636",
   "metadata": {},
   "source": [
    "Total Electricity Generation Cost in the DED - ESS - Wind = $223,360  \n",
    "  \n",
    "Total Electricity Generation Cost in the DED - ESS      = $645,525    \n",
    "\n",
    "Total Electricity Generation Cost in the DED          = $647,964      \n",
    "\n"
   ]
  },
  {
   "cell_type": "code",
   "execution_count": null,
   "id": "d43cb572",
   "metadata": {},
   "outputs": [],
   "source": []
  },
  {
   "cell_type": "code",
   "execution_count": null,
   "id": "f0c37c65",
   "metadata": {},
   "outputs": [],
   "source": []
  },
  {
   "cell_type": "code",
   "execution_count": 36,
   "id": "a7d09055",
   "metadata": {
    "scrolled": true
   },
   "outputs": [
    {
     "data": {
      "text/plain": [
       "223348.88328723985"
      ]
     },
     "execution_count": 36,
     "metadata": {},
     "output_type": "execute_result"
    }
   ],
   "source": [
    "result_wind['Problem'][0]['Lower bound']  "
   ]
  },
  {
   "cell_type": "code",
   "execution_count": 37,
   "id": "28b4ffc1",
   "metadata": {},
   "outputs": [
    {
     "data": {
      "text/plain": [
       "223360.06445447725"
      ]
     },
     "execution_count": 37,
     "metadata": {},
     "output_type": "execute_result"
    }
   ],
   "source": [
    "result_wind['Problem'][0]['Upper bound'] #This is the TC"
   ]
  },
  {
   "cell_type": "code",
   "execution_count": null,
   "id": "bd8c8b3a",
   "metadata": {},
   "outputs": [],
   "source": []
  },
  {
   "cell_type": "code",
   "execution_count": 38,
   "id": "b113b6df",
   "metadata": {},
   "outputs": [
    {
     "data": {
      "text/plain": [
       "False"
      ]
     },
     "execution_count": 38,
     "metadata": {},
     "output_type": "execute_result"
    }
   ],
   "source": [
    "result_wind['Problem'][0]['Upper bound']  == result_wind['Problem'][0]['Lower bound']  #equal to each other. Convergence"
   ]
  },
  {
   "cell_type": "code",
   "execution_count": 39,
   "id": "e27e8665",
   "metadata": {},
   "outputs": [
    {
     "data": {
      "text/plain": [
       "261"
      ]
     },
     "execution_count": 39,
     "metadata": {},
     "output_type": "execute_result"
    }
   ],
   "source": [
    "result_wind['Problem'][0]['Number of constraints']  "
   ]
  },
  {
   "cell_type": "code",
   "execution_count": 40,
   "id": "627216e7",
   "metadata": {},
   "outputs": [
    {
     "data": {
      "text/plain": [
       "217"
      ]
     },
     "execution_count": 40,
     "metadata": {},
     "output_type": "execute_result"
    }
   ],
   "source": [
    "result_wind['Problem'][0]['Number of variables']  "
   ]
  },
  {
   "cell_type": "code",
   "execution_count": 41,
   "id": "c5210332",
   "metadata": {},
   "outputs": [
    {
     "data": {
      "text/plain": [
       "0"
      ]
     },
     "execution_count": 41,
     "metadata": {},
     "output_type": "execute_result"
    }
   ],
   "source": [
    "result_wind['Problem'][0]['Number of binary variables']  "
   ]
  },
  {
   "cell_type": "code",
   "execution_count": 42,
   "id": "da181816",
   "metadata": {},
   "outputs": [
    {
     "data": {
      "text/plain": [
       "0"
      ]
     },
     "execution_count": 42,
     "metadata": {},
     "output_type": "execute_result"
    }
   ],
   "source": [
    "result_wind['Problem'][0]['Number of binary variables']  "
   ]
  },
  {
   "cell_type": "code",
   "execution_count": 43,
   "id": "3ea8927f",
   "metadata": {},
   "outputs": [
    {
     "data": {
      "text/plain": [
       "0"
      ]
     },
     "execution_count": 43,
     "metadata": {},
     "output_type": "execute_result"
    }
   ],
   "source": [
    "result_wind['Problem'][0]['Number of binary variables']  "
   ]
  },
  {
   "cell_type": "code",
   "execution_count": 44,
   "id": "e65a6f58",
   "metadata": {},
   "outputs": [
    {
     "data": {
      "text/plain": [
       "217"
      ]
     },
     "execution_count": 44,
     "metadata": {},
     "output_type": "execute_result"
    }
   ],
   "source": [
    "result_wind['Problem'][0]['Number of continuous variables']  "
   ]
  },
  {
   "cell_type": "code",
   "execution_count": 45,
   "id": "b2f52134",
   "metadata": {},
   "outputs": [
    {
     "data": {
      "text/plain": [
       "<ProblemSense.minimize: 'minimize'>"
      ]
     },
     "execution_count": 45,
     "metadata": {},
     "output_type": "execute_result"
    }
   ],
   "source": [
    "result_wind['Problem'][0]['Sense']"
   ]
  },
  {
   "cell_type": "code",
   "execution_count": 46,
   "id": "08b80b60",
   "metadata": {},
   "outputs": [
    {
     "data": {
      "text/plain": [
       "'Model was solved to optimality (subject to tolerances), and an optimal solution is available.'"
      ]
     },
     "execution_count": 46,
     "metadata": {},
     "output_type": "execute_result"
    }
   ],
   "source": [
    "result_wind['Solver'][0]['Message']"
   ]
  },
  {
   "cell_type": "code",
   "execution_count": 47,
   "id": "697a89d7",
   "metadata": {},
   "outputs": [
    {
     "data": {
      "text/plain": [
       "<TerminationCondition.optimal: 'optimal'>"
      ]
     },
     "execution_count": 47,
     "metadata": {},
     "output_type": "execute_result"
    }
   ],
   "source": [
    "result_wind['Solver'][0]['Termination condition']"
   ]
  },
  {
   "cell_type": "code",
   "execution_count": 48,
   "id": "95e5c22f",
   "metadata": {},
   "outputs": [
    {
     "data": {
      "text/plain": [
       "0.4783759117126465"
      ]
     },
     "execution_count": 48,
     "metadata": {},
     "output_type": "execute_result"
    }
   ],
   "source": [
    "result_wind['Solver'][0]['Time'] #solution time ie how much time it took to solve"
   ]
  },
  {
   "cell_type": "code",
   "execution_count": 49,
   "id": "1b0c6925",
   "metadata": {},
   "outputs": [
    {
     "data": {
      "text/plain": [
       "148.88356029324214"
      ]
     },
     "execution_count": 49,
     "metadata": {},
     "output_type": "execute_result"
    }
   ],
   "source": [
    "model.p['p1','t1'].value  #shows the optimal value ie output of p1 at t1 in MW."
   ]
  },
  {
   "cell_type": "code",
   "execution_count": null,
   "id": "98a1bca1",
   "metadata": {},
   "outputs": [],
   "source": []
  },
  {
   "cell_type": "markdown",
   "id": "76d7c77a",
   "metadata": {},
   "source": [
    "#### Plots"
   ]
  },
  {
   "cell_type": "code",
   "execution_count": null,
   "id": "23a07d7d",
   "metadata": {},
   "outputs": [],
   "source": []
  },
  {
   "cell_type": "code",
   "execution_count": 50,
   "id": "666eac75",
   "metadata": {},
   "outputs": [],
   "source": [
    "#same as the values of the input 'data' that we defined above. This is the load in MW\n",
    "L_lst = [510.00,\n",
    "         530.00,\n",
    "         516.00,\n",
    "         510.00,\n",
    "         515.00,\n",
    "         544.00,\n",
    "         646.00,\n",
    "         686.00,\n",
    "         741.00,\n",
    "         734.00,\n",
    "         748.00,\n",
    "         760.00,\n",
    "         754.00,\n",
    "         700.00,\n",
    "         686.00,\n",
    "         720.00,\n",
    "         714.00,\n",
    "         761.00,\n",
    "         727.00,\n",
    "         714.00,\n",
    "         618.00,\n",
    "         584.00,\n",
    "         578.00,\n",
    "         544.00]"
   ]
  },
  {
   "cell_type": "code",
   "execution_count": 51,
   "id": "bb6f3a23",
   "metadata": {},
   "outputs": [],
   "source": [
    "pg_lst = []\n",
    "\n",
    "for t in model.t_hours:  # ['t1', 't2', etc.... 't24'] . Eg 't1'\n",
    "    val = 0\n",
    "    for g in model.g_units:  # ['p1', 'p2', 'p3', 'p4']\n",
    "        val +=model.p[g, t].value  # we sum the output of p1, p2, p3, p4, at periot t. Ie total output per period. \n",
    "    \n",
    "    pg_lst.append(round(val, 2))"
   ]
  },
  {
   "cell_type": "code",
   "execution_count": 52,
   "id": "11f1c874",
   "metadata": {},
   "outputs": [
    {
     "data": {
      "text/plain": [
       "[88.67,\n",
       " 60.0,\n",
       " 60.0,\n",
       " 60.0,\n",
       " 62.88,\n",
       " 119.88,\n",
       " 152.31,\n",
       " 152.31,\n",
       " 85.64,\n",
       " 60.0,\n",
       " 60.0,\n",
       " 60.0,\n",
       " 60.0,\n",
       " 117.0,\n",
       " 174.0,\n",
       " 231.0,\n",
       " 242.83,\n",
       " 176.17,\n",
       " 126.67,\n",
       " 60.0,\n",
       " 60.0,\n",
       " 60.0,\n",
       " 60.0,\n",
       " 100]"
      ]
     },
     "execution_count": 52,
     "metadata": {},
     "output_type": "execute_result"
    }
   ],
   "source": [
    "soc_lst = []\n",
    "\n",
    "for t in model.t_hours:  # ['t1', 't2', etc.... 't24'] . Eg 't1'\n",
    "    soc_lst.append(round(model.SOC[t].value, 2))\n",
    "\n",
    "soc_lst  # State of charge (MWh) of the storage unit"
   ]
  },
  {
   "cell_type": "code",
   "execution_count": 53,
   "id": "d6571e68",
   "metadata": {},
   "outputs": [
    {
     "data": {
      "text/plain": [
       "[10.2,\n",
       " 25.8,\n",
       " 0.0,\n",
       " 0.0,\n",
       " 0.0,\n",
       " 0.0,\n",
       " 0.0,\n",
       " 0.0,\n",
       " 60.0,\n",
       " 23.07,\n",
       " 0.0,\n",
       " 0.0,\n",
       " 0.0,\n",
       " 0.0,\n",
       " 0.0,\n",
       " 0.0,\n",
       " 0.0,\n",
       " 60.0,\n",
       " 44.55,\n",
       " 60.0,\n",
       " 0.0,\n",
       " 0.0,\n",
       " 0.0,\n",
       " 0.0]"
      ]
     },
     "execution_count": 53,
     "metadata": {},
     "output_type": "execute_result"
    }
   ],
   "source": [
    "pd_lst = []\n",
    "\n",
    "for t in model.t_hours:  # ['t1', 't2', etc.... 't24'] . Eg 't1'\n",
    "    pd_lst.append(round(model.Pd[t].value, 2))\n",
    "\n",
    "pd_lst  # discharged power (MW) of the storage unit"
   ]
  },
  {
   "cell_type": "code",
   "execution_count": 54,
   "id": "04b89213",
   "metadata": {},
   "outputs": [
    {
     "data": {
      "text/plain": [
       "[0.0,\n",
       " 0.0,\n",
       " 0.0,\n",
       " 0.0,\n",
       " 3.03,\n",
       " 60.0,\n",
       " 34.13,\n",
       " 0.0,\n",
       " 0.0,\n",
       " 0.0,\n",
       " 0.0,\n",
       " 0.0,\n",
       " 0.0,\n",
       " 60.0,\n",
       " 60.0,\n",
       " 60.0,\n",
       " 12.46,\n",
       " 0.0,\n",
       " 0.0,\n",
       " 0.0,\n",
       " 0.0,\n",
       " 0.0,\n",
       " 0.0,\n",
       " 42.11]"
      ]
     },
     "execution_count": 54,
     "metadata": {},
     "output_type": "execute_result"
    }
   ],
   "source": [
    "pc_lst = []\n",
    "\n",
    "for t in model.t_hours:  # ['t1', 't2', etc.... 't24'] . Eg 't1'\n",
    "    pc_lst.append(round(model.Pc[t].value, 2))\n",
    "pc_lst  # charged power (MW) of the storage unit"
   ]
  },
  {
   "cell_type": "code",
   "execution_count": 55,
   "id": "049cd017",
   "metadata": {},
   "outputs": [
    {
     "data": {
      "text/plain": [
       "[44.1,\n",
       " 48.5,\n",
       " 65.7,\n",
       " 144.9,\n",
       " 202.3,\n",
       " 317.3,\n",
       " 364.4,\n",
       " 317.3,\n",
       " 271.0,\n",
       " 306.9,\n",
       " 424.1,\n",
       " 398.0,\n",
       " 487.6,\n",
       " 521.9,\n",
       " 541.3,\n",
       " 560.0,\n",
       " 486.8,\n",
       " 372.6,\n",
       " 367.4,\n",
       " 314.3,\n",
       " 316.6,\n",
       " 311.4,\n",
       " 405.4,\n",
       " 470.4]"
      ]
     },
     "execution_count": 55,
     "metadata": {},
     "output_type": "execute_result"
    }
   ],
   "source": [
    "pw_lst = []\n",
    "\n",
    "for t in model.t_hours:  # ['t1', 't2', etc.... 't24'] . Eg 't1'\n",
    "    pw_lst.append(round(model.Pw[t].value, 2))\n",
    "pw_lst  # Wind generation at time t in MW"
   ]
  },
  {
   "cell_type": "code",
   "execution_count": 56,
   "id": "ace16d04",
   "metadata": {},
   "outputs": [
    {
     "data": {
      "text/plain": [
       "[0.0,\n",
       " 0.0,\n",
       " 0.0,\n",
       " 0.0,\n",
       " 0.0,\n",
       " 0.0,\n",
       " 0.0,\n",
       " 0.0,\n",
       " 0.0,\n",
       " 0.0,\n",
       " 0.0,\n",
       " 0.0,\n",
       " 0.0,\n",
       " 0.0,\n",
       " 0.0,\n",
       " 0.0,\n",
       " 0.0,\n",
       " 0.0,\n",
       " 0.0,\n",
       " 0.0,\n",
       " 0.0,\n",
       " 0.0,\n",
       " 0.0,\n",
       " 0.0]"
      ]
     },
     "execution_count": 56,
     "metadata": {},
     "output_type": "execute_result"
    }
   ],
   "source": [
    "pwc_lst = []\n",
    "\n",
    "for t in model.t_hours:  # ['t1', 't2', etc.... 't24'] . Eg 't1'\n",
    "    pwc_lst.append(round(model.PWC[t].value, 2))\n",
    "pwc_lst  # Wind curtailment at time t"
   ]
  },
  {
   "cell_type": "code",
   "execution_count": null,
   "id": "d239a3c4",
   "metadata": {},
   "outputs": [],
   "source": []
  },
  {
   "cell_type": "code",
   "execution_count": null,
   "id": "1344b822",
   "metadata": {},
   "outputs": [],
   "source": []
  },
  {
   "cell_type": "markdown",
   "id": "914fdba7",
   "metadata": {
    "colab": {
     "base_uri": "https://localhost:8080/"
    },
    "id": "AqSXobLLF4MT",
    "outputId": "cab230bb-085f-4e88-aab9-466ceb7e91a7"
   },
   "source": [
    "placing all the above in one place"
   ]
  },
  {
   "cell_type": "code",
   "execution_count": 57,
   "id": "57b9431b",
   "metadata": {},
   "outputs": [],
   "source": [
    "list1 = [ L_lst, pg_lst, soc_lst, pd_lst, pc_lst, pw_lst, pwc_lst] "
   ]
  },
  {
   "cell_type": "code",
   "execution_count": 58,
   "id": "4177589b",
   "metadata": {},
   "outputs": [
    {
     "data": {
      "text/html": [
       "<div>\n",
       "<style scoped>\n",
       "    .dataframe tbody tr th:only-of-type {\n",
       "        vertical-align: middle;\n",
       "    }\n",
       "\n",
       "    .dataframe tbody tr th {\n",
       "        vertical-align: top;\n",
       "    }\n",
       "\n",
       "    .dataframe thead th {\n",
       "        text-align: right;\n",
       "    }\n",
       "</style>\n",
       "<table border=\"1\" class=\"dataframe\">\n",
       "  <thead>\n",
       "    <tr style=\"text-align: right;\">\n",
       "      <th></th>\n",
       "      <th>0</th>\n",
       "      <th>1</th>\n",
       "      <th>2</th>\n",
       "      <th>3</th>\n",
       "      <th>4</th>\n",
       "      <th>5</th>\n",
       "      <th>6</th>\n",
       "      <th>7</th>\n",
       "      <th>8</th>\n",
       "      <th>9</th>\n",
       "      <th>...</th>\n",
       "      <th>14</th>\n",
       "      <th>15</th>\n",
       "      <th>16</th>\n",
       "      <th>17</th>\n",
       "      <th>18</th>\n",
       "      <th>19</th>\n",
       "      <th>20</th>\n",
       "      <th>21</th>\n",
       "      <th>22</th>\n",
       "      <th>23</th>\n",
       "    </tr>\n",
       "  </thead>\n",
       "  <tbody>\n",
       "    <tr>\n",
       "      <th>0</th>\n",
       "      <td>510.00</td>\n",
       "      <td>530.0</td>\n",
       "      <td>516.0</td>\n",
       "      <td>510.0</td>\n",
       "      <td>515.00</td>\n",
       "      <td>544.00</td>\n",
       "      <td>646.00</td>\n",
       "      <td>686.00</td>\n",
       "      <td>741.00</td>\n",
       "      <td>734.00</td>\n",
       "      <td>...</td>\n",
       "      <td>686.0</td>\n",
       "      <td>720.0</td>\n",
       "      <td>714.00</td>\n",
       "      <td>761.00</td>\n",
       "      <td>727.00</td>\n",
       "      <td>714.0</td>\n",
       "      <td>618.0</td>\n",
       "      <td>584.0</td>\n",
       "      <td>578.0</td>\n",
       "      <td>544.00</td>\n",
       "    </tr>\n",
       "    <tr>\n",
       "      <th>1</th>\n",
       "      <td>455.70</td>\n",
       "      <td>455.7</td>\n",
       "      <td>450.3</td>\n",
       "      <td>365.1</td>\n",
       "      <td>315.73</td>\n",
       "      <td>286.70</td>\n",
       "      <td>315.73</td>\n",
       "      <td>368.70</td>\n",
       "      <td>410.00</td>\n",
       "      <td>404.03</td>\n",
       "      <td>...</td>\n",
       "      <td>204.7</td>\n",
       "      <td>220.0</td>\n",
       "      <td>239.66</td>\n",
       "      <td>328.40</td>\n",
       "      <td>315.05</td>\n",
       "      <td>339.7</td>\n",
       "      <td>301.4</td>\n",
       "      <td>272.6</td>\n",
       "      <td>172.6</td>\n",
       "      <td>115.71</td>\n",
       "    </tr>\n",
       "    <tr>\n",
       "      <th>2</th>\n",
       "      <td>88.67</td>\n",
       "      <td>60.0</td>\n",
       "      <td>60.0</td>\n",
       "      <td>60.0</td>\n",
       "      <td>62.88</td>\n",
       "      <td>119.88</td>\n",
       "      <td>152.31</td>\n",
       "      <td>152.31</td>\n",
       "      <td>85.64</td>\n",
       "      <td>60.00</td>\n",
       "      <td>...</td>\n",
       "      <td>174.0</td>\n",
       "      <td>231.0</td>\n",
       "      <td>242.83</td>\n",
       "      <td>176.17</td>\n",
       "      <td>126.67</td>\n",
       "      <td>60.0</td>\n",
       "      <td>60.0</td>\n",
       "      <td>60.0</td>\n",
       "      <td>60.0</td>\n",
       "      <td>100.00</td>\n",
       "    </tr>\n",
       "    <tr>\n",
       "      <th>3</th>\n",
       "      <td>10.20</td>\n",
       "      <td>25.8</td>\n",
       "      <td>0.0</td>\n",
       "      <td>0.0</td>\n",
       "      <td>0.00</td>\n",
       "      <td>0.00</td>\n",
       "      <td>0.00</td>\n",
       "      <td>0.00</td>\n",
       "      <td>60.00</td>\n",
       "      <td>23.07</td>\n",
       "      <td>...</td>\n",
       "      <td>0.0</td>\n",
       "      <td>0.0</td>\n",
       "      <td>0.00</td>\n",
       "      <td>60.00</td>\n",
       "      <td>44.55</td>\n",
       "      <td>60.0</td>\n",
       "      <td>0.0</td>\n",
       "      <td>0.0</td>\n",
       "      <td>0.0</td>\n",
       "      <td>0.00</td>\n",
       "    </tr>\n",
       "    <tr>\n",
       "      <th>4</th>\n",
       "      <td>0.00</td>\n",
       "      <td>0.0</td>\n",
       "      <td>0.0</td>\n",
       "      <td>0.0</td>\n",
       "      <td>3.03</td>\n",
       "      <td>60.00</td>\n",
       "      <td>34.13</td>\n",
       "      <td>0.00</td>\n",
       "      <td>0.00</td>\n",
       "      <td>0.00</td>\n",
       "      <td>...</td>\n",
       "      <td>60.0</td>\n",
       "      <td>60.0</td>\n",
       "      <td>12.46</td>\n",
       "      <td>0.00</td>\n",
       "      <td>0.00</td>\n",
       "      <td>0.0</td>\n",
       "      <td>0.0</td>\n",
       "      <td>0.0</td>\n",
       "      <td>0.0</td>\n",
       "      <td>42.11</td>\n",
       "    </tr>\n",
       "    <tr>\n",
       "      <th>5</th>\n",
       "      <td>44.10</td>\n",
       "      <td>48.5</td>\n",
       "      <td>65.7</td>\n",
       "      <td>144.9</td>\n",
       "      <td>202.30</td>\n",
       "      <td>317.30</td>\n",
       "      <td>364.40</td>\n",
       "      <td>317.30</td>\n",
       "      <td>271.00</td>\n",
       "      <td>306.90</td>\n",
       "      <td>...</td>\n",
       "      <td>541.3</td>\n",
       "      <td>560.0</td>\n",
       "      <td>486.80</td>\n",
       "      <td>372.60</td>\n",
       "      <td>367.40</td>\n",
       "      <td>314.3</td>\n",
       "      <td>316.6</td>\n",
       "      <td>311.4</td>\n",
       "      <td>405.4</td>\n",
       "      <td>470.40</td>\n",
       "    </tr>\n",
       "    <tr>\n",
       "      <th>6</th>\n",
       "      <td>0.00</td>\n",
       "      <td>0.0</td>\n",
       "      <td>0.0</td>\n",
       "      <td>0.0</td>\n",
       "      <td>0.00</td>\n",
       "      <td>0.00</td>\n",
       "      <td>0.00</td>\n",
       "      <td>0.00</td>\n",
       "      <td>0.00</td>\n",
       "      <td>0.00</td>\n",
       "      <td>...</td>\n",
       "      <td>0.0</td>\n",
       "      <td>0.0</td>\n",
       "      <td>0.00</td>\n",
       "      <td>0.00</td>\n",
       "      <td>0.00</td>\n",
       "      <td>0.0</td>\n",
       "      <td>0.0</td>\n",
       "      <td>0.0</td>\n",
       "      <td>0.0</td>\n",
       "      <td>0.00</td>\n",
       "    </tr>\n",
       "  </tbody>\n",
       "</table>\n",
       "<p>7 rows × 24 columns</p>\n",
       "</div>"
      ],
      "text/plain": [
       "       0      1      2      3       4       5       6       7       8   \\\n",
       "0  510.00  530.0  516.0  510.0  515.00  544.00  646.00  686.00  741.00   \n",
       "1  455.70  455.7  450.3  365.1  315.73  286.70  315.73  368.70  410.00   \n",
       "2   88.67   60.0   60.0   60.0   62.88  119.88  152.31  152.31   85.64   \n",
       "3   10.20   25.8    0.0    0.0    0.00    0.00    0.00    0.00   60.00   \n",
       "4    0.00    0.0    0.0    0.0    3.03   60.00   34.13    0.00    0.00   \n",
       "5   44.10   48.5   65.7  144.9  202.30  317.30  364.40  317.30  271.00   \n",
       "6    0.00    0.0    0.0    0.0    0.00    0.00    0.00    0.00    0.00   \n",
       "\n",
       "       9   ...     14     15      16      17      18     19     20     21  \\\n",
       "0  734.00  ...  686.0  720.0  714.00  761.00  727.00  714.0  618.0  584.0   \n",
       "1  404.03  ...  204.7  220.0  239.66  328.40  315.05  339.7  301.4  272.6   \n",
       "2   60.00  ...  174.0  231.0  242.83  176.17  126.67   60.0   60.0   60.0   \n",
       "3   23.07  ...    0.0    0.0    0.00   60.00   44.55   60.0    0.0    0.0   \n",
       "4    0.00  ...   60.0   60.0   12.46    0.00    0.00    0.0    0.0    0.0   \n",
       "5  306.90  ...  541.3  560.0  486.80  372.60  367.40  314.3  316.6  311.4   \n",
       "6    0.00  ...    0.0    0.0    0.00    0.00    0.00    0.0    0.0    0.0   \n",
       "\n",
       "      22      23  \n",
       "0  578.0  544.00  \n",
       "1  172.6  115.71  \n",
       "2   60.0  100.00  \n",
       "3    0.0    0.00  \n",
       "4    0.0   42.11  \n",
       "5  405.4  470.40  \n",
       "6    0.0    0.00  \n",
       "\n",
       "[7 rows x 24 columns]"
      ]
     },
     "execution_count": 58,
     "metadata": {},
     "output_type": "execute_result"
    }
   ],
   "source": [
    "dataframe1 = pd.DataFrame(np.array(list1)) #the array is converted to a dataframe\n",
    "dataframe1"
   ]
  },
  {
   "cell_type": "code",
   "execution_count": 59,
   "id": "3b858b16",
   "metadata": {},
   "outputs": [
    {
     "data": {
      "text/html": [
       "<div>\n",
       "<style scoped>\n",
       "    .dataframe tbody tr th:only-of-type {\n",
       "        vertical-align: middle;\n",
       "    }\n",
       "\n",
       "    .dataframe tbody tr th {\n",
       "        vertical-align: top;\n",
       "    }\n",
       "\n",
       "    .dataframe thead th {\n",
       "        text-align: right;\n",
       "    }\n",
       "</style>\n",
       "<table border=\"1\" class=\"dataframe\">\n",
       "  <thead>\n",
       "    <tr style=\"text-align: right;\">\n",
       "      <th></th>\n",
       "      <th>0</th>\n",
       "      <th>1</th>\n",
       "      <th>2</th>\n",
       "      <th>3</th>\n",
       "      <th>4</th>\n",
       "      <th>5</th>\n",
       "      <th>6</th>\n",
       "    </tr>\n",
       "  </thead>\n",
       "  <tbody>\n",
       "    <tr>\n",
       "      <th>0</th>\n",
       "      <td>510.0</td>\n",
       "      <td>455.70</td>\n",
       "      <td>88.67</td>\n",
       "      <td>10.20</td>\n",
       "      <td>0.00</td>\n",
       "      <td>44.1</td>\n",
       "      <td>0.0</td>\n",
       "    </tr>\n",
       "    <tr>\n",
       "      <th>1</th>\n",
       "      <td>530.0</td>\n",
       "      <td>455.70</td>\n",
       "      <td>60.00</td>\n",
       "      <td>25.80</td>\n",
       "      <td>0.00</td>\n",
       "      <td>48.5</td>\n",
       "      <td>0.0</td>\n",
       "    </tr>\n",
       "    <tr>\n",
       "      <th>2</th>\n",
       "      <td>516.0</td>\n",
       "      <td>450.30</td>\n",
       "      <td>60.00</td>\n",
       "      <td>0.00</td>\n",
       "      <td>0.00</td>\n",
       "      <td>65.7</td>\n",
       "      <td>0.0</td>\n",
       "    </tr>\n",
       "    <tr>\n",
       "      <th>3</th>\n",
       "      <td>510.0</td>\n",
       "      <td>365.10</td>\n",
       "      <td>60.00</td>\n",
       "      <td>0.00</td>\n",
       "      <td>0.00</td>\n",
       "      <td>144.9</td>\n",
       "      <td>0.0</td>\n",
       "    </tr>\n",
       "    <tr>\n",
       "      <th>4</th>\n",
       "      <td>515.0</td>\n",
       "      <td>315.73</td>\n",
       "      <td>62.88</td>\n",
       "      <td>0.00</td>\n",
       "      <td>3.03</td>\n",
       "      <td>202.3</td>\n",
       "      <td>0.0</td>\n",
       "    </tr>\n",
       "    <tr>\n",
       "      <th>5</th>\n",
       "      <td>544.0</td>\n",
       "      <td>286.70</td>\n",
       "      <td>119.88</td>\n",
       "      <td>0.00</td>\n",
       "      <td>60.00</td>\n",
       "      <td>317.3</td>\n",
       "      <td>0.0</td>\n",
       "    </tr>\n",
       "    <tr>\n",
       "      <th>6</th>\n",
       "      <td>646.0</td>\n",
       "      <td>315.73</td>\n",
       "      <td>152.31</td>\n",
       "      <td>0.00</td>\n",
       "      <td>34.13</td>\n",
       "      <td>364.4</td>\n",
       "      <td>0.0</td>\n",
       "    </tr>\n",
       "    <tr>\n",
       "      <th>7</th>\n",
       "      <td>686.0</td>\n",
       "      <td>368.70</td>\n",
       "      <td>152.31</td>\n",
       "      <td>0.00</td>\n",
       "      <td>0.00</td>\n",
       "      <td>317.3</td>\n",
       "      <td>0.0</td>\n",
       "    </tr>\n",
       "    <tr>\n",
       "      <th>8</th>\n",
       "      <td>741.0</td>\n",
       "      <td>410.00</td>\n",
       "      <td>85.64</td>\n",
       "      <td>60.00</td>\n",
       "      <td>0.00</td>\n",
       "      <td>271.0</td>\n",
       "      <td>0.0</td>\n",
       "    </tr>\n",
       "    <tr>\n",
       "      <th>9</th>\n",
       "      <td>734.0</td>\n",
       "      <td>404.03</td>\n",
       "      <td>60.00</td>\n",
       "      <td>23.07</td>\n",
       "      <td>0.00</td>\n",
       "      <td>306.9</td>\n",
       "      <td>0.0</td>\n",
       "    </tr>\n",
       "    <tr>\n",
       "      <th>10</th>\n",
       "      <td>748.0</td>\n",
       "      <td>323.90</td>\n",
       "      <td>60.00</td>\n",
       "      <td>0.00</td>\n",
       "      <td>0.00</td>\n",
       "      <td>424.1</td>\n",
       "      <td>0.0</td>\n",
       "    </tr>\n",
       "    <tr>\n",
       "      <th>11</th>\n",
       "      <td>760.0</td>\n",
       "      <td>362.00</td>\n",
       "      <td>60.00</td>\n",
       "      <td>0.00</td>\n",
       "      <td>0.00</td>\n",
       "      <td>398.0</td>\n",
       "      <td>0.0</td>\n",
       "    </tr>\n",
       "    <tr>\n",
       "      <th>12</th>\n",
       "      <td>754.0</td>\n",
       "      <td>266.40</td>\n",
       "      <td>60.00</td>\n",
       "      <td>0.00</td>\n",
       "      <td>0.00</td>\n",
       "      <td>487.6</td>\n",
       "      <td>0.0</td>\n",
       "    </tr>\n",
       "    <tr>\n",
       "      <th>13</th>\n",
       "      <td>700.0</td>\n",
       "      <td>238.10</td>\n",
       "      <td>117.00</td>\n",
       "      <td>0.00</td>\n",
       "      <td>60.00</td>\n",
       "      <td>521.9</td>\n",
       "      <td>0.0</td>\n",
       "    </tr>\n",
       "    <tr>\n",
       "      <th>14</th>\n",
       "      <td>686.0</td>\n",
       "      <td>204.70</td>\n",
       "      <td>174.00</td>\n",
       "      <td>0.00</td>\n",
       "      <td>60.00</td>\n",
       "      <td>541.3</td>\n",
       "      <td>0.0</td>\n",
       "    </tr>\n",
       "    <tr>\n",
       "      <th>15</th>\n",
       "      <td>720.0</td>\n",
       "      <td>220.00</td>\n",
       "      <td>231.00</td>\n",
       "      <td>0.00</td>\n",
       "      <td>60.00</td>\n",
       "      <td>560.0</td>\n",
       "      <td>0.0</td>\n",
       "    </tr>\n",
       "    <tr>\n",
       "      <th>16</th>\n",
       "      <td>714.0</td>\n",
       "      <td>239.66</td>\n",
       "      <td>242.83</td>\n",
       "      <td>0.00</td>\n",
       "      <td>12.46</td>\n",
       "      <td>486.8</td>\n",
       "      <td>0.0</td>\n",
       "    </tr>\n",
       "    <tr>\n",
       "      <th>17</th>\n",
       "      <td>761.0</td>\n",
       "      <td>328.40</td>\n",
       "      <td>176.17</td>\n",
       "      <td>60.00</td>\n",
       "      <td>0.00</td>\n",
       "      <td>372.6</td>\n",
       "      <td>0.0</td>\n",
       "    </tr>\n",
       "    <tr>\n",
       "      <th>18</th>\n",
       "      <td>727.0</td>\n",
       "      <td>315.05</td>\n",
       "      <td>126.67</td>\n",
       "      <td>44.55</td>\n",
       "      <td>0.00</td>\n",
       "      <td>367.4</td>\n",
       "      <td>0.0</td>\n",
       "    </tr>\n",
       "    <tr>\n",
       "      <th>19</th>\n",
       "      <td>714.0</td>\n",
       "      <td>339.70</td>\n",
       "      <td>60.00</td>\n",
       "      <td>60.00</td>\n",
       "      <td>0.00</td>\n",
       "      <td>314.3</td>\n",
       "      <td>0.0</td>\n",
       "    </tr>\n",
       "    <tr>\n",
       "      <th>20</th>\n",
       "      <td>618.0</td>\n",
       "      <td>301.40</td>\n",
       "      <td>60.00</td>\n",
       "      <td>0.00</td>\n",
       "      <td>0.00</td>\n",
       "      <td>316.6</td>\n",
       "      <td>0.0</td>\n",
       "    </tr>\n",
       "    <tr>\n",
       "      <th>21</th>\n",
       "      <td>584.0</td>\n",
       "      <td>272.60</td>\n",
       "      <td>60.00</td>\n",
       "      <td>0.00</td>\n",
       "      <td>0.00</td>\n",
       "      <td>311.4</td>\n",
       "      <td>0.0</td>\n",
       "    </tr>\n",
       "    <tr>\n",
       "      <th>22</th>\n",
       "      <td>578.0</td>\n",
       "      <td>172.60</td>\n",
       "      <td>60.00</td>\n",
       "      <td>0.00</td>\n",
       "      <td>0.00</td>\n",
       "      <td>405.4</td>\n",
       "      <td>0.0</td>\n",
       "    </tr>\n",
       "    <tr>\n",
       "      <th>23</th>\n",
       "      <td>544.0</td>\n",
       "      <td>115.71</td>\n",
       "      <td>100.00</td>\n",
       "      <td>0.00</td>\n",
       "      <td>42.11</td>\n",
       "      <td>470.4</td>\n",
       "      <td>0.0</td>\n",
       "    </tr>\n",
       "  </tbody>\n",
       "</table>\n",
       "</div>"
      ],
      "text/plain": [
       "        0       1       2      3      4      5    6\n",
       "0   510.0  455.70   88.67  10.20   0.00   44.1  0.0\n",
       "1   530.0  455.70   60.00  25.80   0.00   48.5  0.0\n",
       "2   516.0  450.30   60.00   0.00   0.00   65.7  0.0\n",
       "3   510.0  365.10   60.00   0.00   0.00  144.9  0.0\n",
       "4   515.0  315.73   62.88   0.00   3.03  202.3  0.0\n",
       "5   544.0  286.70  119.88   0.00  60.00  317.3  0.0\n",
       "6   646.0  315.73  152.31   0.00  34.13  364.4  0.0\n",
       "7   686.0  368.70  152.31   0.00   0.00  317.3  0.0\n",
       "8   741.0  410.00   85.64  60.00   0.00  271.0  0.0\n",
       "9   734.0  404.03   60.00  23.07   0.00  306.9  0.0\n",
       "10  748.0  323.90   60.00   0.00   0.00  424.1  0.0\n",
       "11  760.0  362.00   60.00   0.00   0.00  398.0  0.0\n",
       "12  754.0  266.40   60.00   0.00   0.00  487.6  0.0\n",
       "13  700.0  238.10  117.00   0.00  60.00  521.9  0.0\n",
       "14  686.0  204.70  174.00   0.00  60.00  541.3  0.0\n",
       "15  720.0  220.00  231.00   0.00  60.00  560.0  0.0\n",
       "16  714.0  239.66  242.83   0.00  12.46  486.8  0.0\n",
       "17  761.0  328.40  176.17  60.00   0.00  372.6  0.0\n",
       "18  727.0  315.05  126.67  44.55   0.00  367.4  0.0\n",
       "19  714.0  339.70   60.00  60.00   0.00  314.3  0.0\n",
       "20  618.0  301.40   60.00   0.00   0.00  316.6  0.0\n",
       "21  584.0  272.60   60.00   0.00   0.00  311.4  0.0\n",
       "22  578.0  172.60   60.00   0.00   0.00  405.4  0.0\n",
       "23  544.0  115.71  100.00   0.00  42.11  470.4  0.0"
      ]
     },
     "execution_count": 59,
     "metadata": {},
     "output_type": "execute_result"
    }
   ],
   "source": [
    "data_tables = dataframe1.T  #we transpose it ie its rows become columns, and its columns become rows.\n",
    "data_tables"
   ]
  },
  {
   "cell_type": "code",
   "execution_count": 60,
   "id": "795b9d8d",
   "metadata": {},
   "outputs": [
    {
     "data": {
      "text/html": [
       "<div>\n",
       "<style scoped>\n",
       "    .dataframe tbody tr th:only-of-type {\n",
       "        vertical-align: middle;\n",
       "    }\n",
       "\n",
       "    .dataframe tbody tr th {\n",
       "        vertical-align: top;\n",
       "    }\n",
       "\n",
       "    .dataframe thead th {\n",
       "        text-align: right;\n",
       "    }\n",
       "</style>\n",
       "<table border=\"1\" class=\"dataframe\">\n",
       "  <thead>\n",
       "    <tr style=\"text-align: right;\">\n",
       "      <th></th>\n",
       "      <th>0</th>\n",
       "      <th>1</th>\n",
       "      <th>2</th>\n",
       "      <th>3</th>\n",
       "      <th>4</th>\n",
       "      <th>5</th>\n",
       "      <th>6</th>\n",
       "    </tr>\n",
       "  </thead>\n",
       "  <tbody>\n",
       "    <tr>\n",
       "      <th>1</th>\n",
       "      <td>510.0</td>\n",
       "      <td>455.70</td>\n",
       "      <td>88.67</td>\n",
       "      <td>10.20</td>\n",
       "      <td>0.00</td>\n",
       "      <td>44.1</td>\n",
       "      <td>0.0</td>\n",
       "    </tr>\n",
       "    <tr>\n",
       "      <th>2</th>\n",
       "      <td>530.0</td>\n",
       "      <td>455.70</td>\n",
       "      <td>60.00</td>\n",
       "      <td>25.80</td>\n",
       "      <td>0.00</td>\n",
       "      <td>48.5</td>\n",
       "      <td>0.0</td>\n",
       "    </tr>\n",
       "    <tr>\n",
       "      <th>3</th>\n",
       "      <td>516.0</td>\n",
       "      <td>450.30</td>\n",
       "      <td>60.00</td>\n",
       "      <td>0.00</td>\n",
       "      <td>0.00</td>\n",
       "      <td>65.7</td>\n",
       "      <td>0.0</td>\n",
       "    </tr>\n",
       "    <tr>\n",
       "      <th>4</th>\n",
       "      <td>510.0</td>\n",
       "      <td>365.10</td>\n",
       "      <td>60.00</td>\n",
       "      <td>0.00</td>\n",
       "      <td>0.00</td>\n",
       "      <td>144.9</td>\n",
       "      <td>0.0</td>\n",
       "    </tr>\n",
       "    <tr>\n",
       "      <th>5</th>\n",
       "      <td>515.0</td>\n",
       "      <td>315.73</td>\n",
       "      <td>62.88</td>\n",
       "      <td>0.00</td>\n",
       "      <td>3.03</td>\n",
       "      <td>202.3</td>\n",
       "      <td>0.0</td>\n",
       "    </tr>\n",
       "    <tr>\n",
       "      <th>6</th>\n",
       "      <td>544.0</td>\n",
       "      <td>286.70</td>\n",
       "      <td>119.88</td>\n",
       "      <td>0.00</td>\n",
       "      <td>60.00</td>\n",
       "      <td>317.3</td>\n",
       "      <td>0.0</td>\n",
       "    </tr>\n",
       "    <tr>\n",
       "      <th>7</th>\n",
       "      <td>646.0</td>\n",
       "      <td>315.73</td>\n",
       "      <td>152.31</td>\n",
       "      <td>0.00</td>\n",
       "      <td>34.13</td>\n",
       "      <td>364.4</td>\n",
       "      <td>0.0</td>\n",
       "    </tr>\n",
       "    <tr>\n",
       "      <th>8</th>\n",
       "      <td>686.0</td>\n",
       "      <td>368.70</td>\n",
       "      <td>152.31</td>\n",
       "      <td>0.00</td>\n",
       "      <td>0.00</td>\n",
       "      <td>317.3</td>\n",
       "      <td>0.0</td>\n",
       "    </tr>\n",
       "    <tr>\n",
       "      <th>9</th>\n",
       "      <td>741.0</td>\n",
       "      <td>410.00</td>\n",
       "      <td>85.64</td>\n",
       "      <td>60.00</td>\n",
       "      <td>0.00</td>\n",
       "      <td>271.0</td>\n",
       "      <td>0.0</td>\n",
       "    </tr>\n",
       "    <tr>\n",
       "      <th>10</th>\n",
       "      <td>734.0</td>\n",
       "      <td>404.03</td>\n",
       "      <td>60.00</td>\n",
       "      <td>23.07</td>\n",
       "      <td>0.00</td>\n",
       "      <td>306.9</td>\n",
       "      <td>0.0</td>\n",
       "    </tr>\n",
       "    <tr>\n",
       "      <th>11</th>\n",
       "      <td>748.0</td>\n",
       "      <td>323.90</td>\n",
       "      <td>60.00</td>\n",
       "      <td>0.00</td>\n",
       "      <td>0.00</td>\n",
       "      <td>424.1</td>\n",
       "      <td>0.0</td>\n",
       "    </tr>\n",
       "    <tr>\n",
       "      <th>12</th>\n",
       "      <td>760.0</td>\n",
       "      <td>362.00</td>\n",
       "      <td>60.00</td>\n",
       "      <td>0.00</td>\n",
       "      <td>0.00</td>\n",
       "      <td>398.0</td>\n",
       "      <td>0.0</td>\n",
       "    </tr>\n",
       "    <tr>\n",
       "      <th>13</th>\n",
       "      <td>754.0</td>\n",
       "      <td>266.40</td>\n",
       "      <td>60.00</td>\n",
       "      <td>0.00</td>\n",
       "      <td>0.00</td>\n",
       "      <td>487.6</td>\n",
       "      <td>0.0</td>\n",
       "    </tr>\n",
       "    <tr>\n",
       "      <th>14</th>\n",
       "      <td>700.0</td>\n",
       "      <td>238.10</td>\n",
       "      <td>117.00</td>\n",
       "      <td>0.00</td>\n",
       "      <td>60.00</td>\n",
       "      <td>521.9</td>\n",
       "      <td>0.0</td>\n",
       "    </tr>\n",
       "    <tr>\n",
       "      <th>15</th>\n",
       "      <td>686.0</td>\n",
       "      <td>204.70</td>\n",
       "      <td>174.00</td>\n",
       "      <td>0.00</td>\n",
       "      <td>60.00</td>\n",
       "      <td>541.3</td>\n",
       "      <td>0.0</td>\n",
       "    </tr>\n",
       "    <tr>\n",
       "      <th>16</th>\n",
       "      <td>720.0</td>\n",
       "      <td>220.00</td>\n",
       "      <td>231.00</td>\n",
       "      <td>0.00</td>\n",
       "      <td>60.00</td>\n",
       "      <td>560.0</td>\n",
       "      <td>0.0</td>\n",
       "    </tr>\n",
       "    <tr>\n",
       "      <th>17</th>\n",
       "      <td>714.0</td>\n",
       "      <td>239.66</td>\n",
       "      <td>242.83</td>\n",
       "      <td>0.00</td>\n",
       "      <td>12.46</td>\n",
       "      <td>486.8</td>\n",
       "      <td>0.0</td>\n",
       "    </tr>\n",
       "    <tr>\n",
       "      <th>18</th>\n",
       "      <td>761.0</td>\n",
       "      <td>328.40</td>\n",
       "      <td>176.17</td>\n",
       "      <td>60.00</td>\n",
       "      <td>0.00</td>\n",
       "      <td>372.6</td>\n",
       "      <td>0.0</td>\n",
       "    </tr>\n",
       "    <tr>\n",
       "      <th>19</th>\n",
       "      <td>727.0</td>\n",
       "      <td>315.05</td>\n",
       "      <td>126.67</td>\n",
       "      <td>44.55</td>\n",
       "      <td>0.00</td>\n",
       "      <td>367.4</td>\n",
       "      <td>0.0</td>\n",
       "    </tr>\n",
       "    <tr>\n",
       "      <th>20</th>\n",
       "      <td>714.0</td>\n",
       "      <td>339.70</td>\n",
       "      <td>60.00</td>\n",
       "      <td>60.00</td>\n",
       "      <td>0.00</td>\n",
       "      <td>314.3</td>\n",
       "      <td>0.0</td>\n",
       "    </tr>\n",
       "    <tr>\n",
       "      <th>21</th>\n",
       "      <td>618.0</td>\n",
       "      <td>301.40</td>\n",
       "      <td>60.00</td>\n",
       "      <td>0.00</td>\n",
       "      <td>0.00</td>\n",
       "      <td>316.6</td>\n",
       "      <td>0.0</td>\n",
       "    </tr>\n",
       "    <tr>\n",
       "      <th>22</th>\n",
       "      <td>584.0</td>\n",
       "      <td>272.60</td>\n",
       "      <td>60.00</td>\n",
       "      <td>0.00</td>\n",
       "      <td>0.00</td>\n",
       "      <td>311.4</td>\n",
       "      <td>0.0</td>\n",
       "    </tr>\n",
       "    <tr>\n",
       "      <th>23</th>\n",
       "      <td>578.0</td>\n",
       "      <td>172.60</td>\n",
       "      <td>60.00</td>\n",
       "      <td>0.00</td>\n",
       "      <td>0.00</td>\n",
       "      <td>405.4</td>\n",
       "      <td>0.0</td>\n",
       "    </tr>\n",
       "    <tr>\n",
       "      <th>24</th>\n",
       "      <td>544.0</td>\n",
       "      <td>115.71</td>\n",
       "      <td>100.00</td>\n",
       "      <td>0.00</td>\n",
       "      <td>42.11</td>\n",
       "      <td>470.4</td>\n",
       "      <td>0.0</td>\n",
       "    </tr>\n",
       "  </tbody>\n",
       "</table>\n",
       "</div>"
      ],
      "text/plain": [
       "        0       1       2      3      4      5    6\n",
       "1   510.0  455.70   88.67  10.20   0.00   44.1  0.0\n",
       "2   530.0  455.70   60.00  25.80   0.00   48.5  0.0\n",
       "3   516.0  450.30   60.00   0.00   0.00   65.7  0.0\n",
       "4   510.0  365.10   60.00   0.00   0.00  144.9  0.0\n",
       "5   515.0  315.73   62.88   0.00   3.03  202.3  0.0\n",
       "6   544.0  286.70  119.88   0.00  60.00  317.3  0.0\n",
       "7   646.0  315.73  152.31   0.00  34.13  364.4  0.0\n",
       "8   686.0  368.70  152.31   0.00   0.00  317.3  0.0\n",
       "9   741.0  410.00   85.64  60.00   0.00  271.0  0.0\n",
       "10  734.0  404.03   60.00  23.07   0.00  306.9  0.0\n",
       "11  748.0  323.90   60.00   0.00   0.00  424.1  0.0\n",
       "12  760.0  362.00   60.00   0.00   0.00  398.0  0.0\n",
       "13  754.0  266.40   60.00   0.00   0.00  487.6  0.0\n",
       "14  700.0  238.10  117.00   0.00  60.00  521.9  0.0\n",
       "15  686.0  204.70  174.00   0.00  60.00  541.3  0.0\n",
       "16  720.0  220.00  231.00   0.00  60.00  560.0  0.0\n",
       "17  714.0  239.66  242.83   0.00  12.46  486.8  0.0\n",
       "18  761.0  328.40  176.17  60.00   0.00  372.6  0.0\n",
       "19  727.0  315.05  126.67  44.55   0.00  367.4  0.0\n",
       "20  714.0  339.70   60.00  60.00   0.00  314.3  0.0\n",
       "21  618.0  301.40   60.00   0.00   0.00  316.6  0.0\n",
       "22  584.0  272.60   60.00   0.00   0.00  311.4  0.0\n",
       "23  578.0  172.60   60.00   0.00   0.00  405.4  0.0\n",
       "24  544.0  115.71  100.00   0.00  42.11  470.4  0.0"
      ]
     },
     "execution_count": 60,
     "metadata": {},
     "output_type": "execute_result"
    }
   ],
   "source": [
    "data_tables.index = range(1,25) \n",
    "data_tables"
   ]
  },
  {
   "cell_type": "code",
   "execution_count": 61,
   "id": "335329af",
   "metadata": {},
   "outputs": [
    {
     "data": {
      "text/html": [
       "<div>\n",
       "<style scoped>\n",
       "    .dataframe tbody tr th:only-of-type {\n",
       "        vertical-align: middle;\n",
       "    }\n",
       "\n",
       "    .dataframe tbody tr th {\n",
       "        vertical-align: top;\n",
       "    }\n",
       "\n",
       "    .dataframe thead th {\n",
       "        text-align: right;\n",
       "    }\n",
       "</style>\n",
       "<table border=\"1\" class=\"dataframe\">\n",
       "  <thead>\n",
       "    <tr style=\"text-align: right;\">\n",
       "      <th></th>\n",
       "      <th>Lt</th>\n",
       "      <th>Pg</th>\n",
       "      <th>SOC</th>\n",
       "      <th>PD</th>\n",
       "      <th>Pc</th>\n",
       "      <th>PW</th>\n",
       "      <th>PWC</th>\n",
       "    </tr>\n",
       "  </thead>\n",
       "  <tbody>\n",
       "    <tr>\n",
       "      <th>1</th>\n",
       "      <td>510.0</td>\n",
       "      <td>455.70</td>\n",
       "      <td>88.67</td>\n",
       "      <td>10.20</td>\n",
       "      <td>0.00</td>\n",
       "      <td>44.1</td>\n",
       "      <td>0.0</td>\n",
       "    </tr>\n",
       "    <tr>\n",
       "      <th>2</th>\n",
       "      <td>530.0</td>\n",
       "      <td>455.70</td>\n",
       "      <td>60.00</td>\n",
       "      <td>25.80</td>\n",
       "      <td>0.00</td>\n",
       "      <td>48.5</td>\n",
       "      <td>0.0</td>\n",
       "    </tr>\n",
       "    <tr>\n",
       "      <th>3</th>\n",
       "      <td>516.0</td>\n",
       "      <td>450.30</td>\n",
       "      <td>60.00</td>\n",
       "      <td>0.00</td>\n",
       "      <td>0.00</td>\n",
       "      <td>65.7</td>\n",
       "      <td>0.0</td>\n",
       "    </tr>\n",
       "    <tr>\n",
       "      <th>4</th>\n",
       "      <td>510.0</td>\n",
       "      <td>365.10</td>\n",
       "      <td>60.00</td>\n",
       "      <td>0.00</td>\n",
       "      <td>0.00</td>\n",
       "      <td>144.9</td>\n",
       "      <td>0.0</td>\n",
       "    </tr>\n",
       "    <tr>\n",
       "      <th>5</th>\n",
       "      <td>515.0</td>\n",
       "      <td>315.73</td>\n",
       "      <td>62.88</td>\n",
       "      <td>0.00</td>\n",
       "      <td>3.03</td>\n",
       "      <td>202.3</td>\n",
       "      <td>0.0</td>\n",
       "    </tr>\n",
       "    <tr>\n",
       "      <th>6</th>\n",
       "      <td>544.0</td>\n",
       "      <td>286.70</td>\n",
       "      <td>119.88</td>\n",
       "      <td>0.00</td>\n",
       "      <td>60.00</td>\n",
       "      <td>317.3</td>\n",
       "      <td>0.0</td>\n",
       "    </tr>\n",
       "    <tr>\n",
       "      <th>7</th>\n",
       "      <td>646.0</td>\n",
       "      <td>315.73</td>\n",
       "      <td>152.31</td>\n",
       "      <td>0.00</td>\n",
       "      <td>34.13</td>\n",
       "      <td>364.4</td>\n",
       "      <td>0.0</td>\n",
       "    </tr>\n",
       "    <tr>\n",
       "      <th>8</th>\n",
       "      <td>686.0</td>\n",
       "      <td>368.70</td>\n",
       "      <td>152.31</td>\n",
       "      <td>0.00</td>\n",
       "      <td>0.00</td>\n",
       "      <td>317.3</td>\n",
       "      <td>0.0</td>\n",
       "    </tr>\n",
       "    <tr>\n",
       "      <th>9</th>\n",
       "      <td>741.0</td>\n",
       "      <td>410.00</td>\n",
       "      <td>85.64</td>\n",
       "      <td>60.00</td>\n",
       "      <td>0.00</td>\n",
       "      <td>271.0</td>\n",
       "      <td>0.0</td>\n",
       "    </tr>\n",
       "    <tr>\n",
       "      <th>10</th>\n",
       "      <td>734.0</td>\n",
       "      <td>404.03</td>\n",
       "      <td>60.00</td>\n",
       "      <td>23.07</td>\n",
       "      <td>0.00</td>\n",
       "      <td>306.9</td>\n",
       "      <td>0.0</td>\n",
       "    </tr>\n",
       "    <tr>\n",
       "      <th>11</th>\n",
       "      <td>748.0</td>\n",
       "      <td>323.90</td>\n",
       "      <td>60.00</td>\n",
       "      <td>0.00</td>\n",
       "      <td>0.00</td>\n",
       "      <td>424.1</td>\n",
       "      <td>0.0</td>\n",
       "    </tr>\n",
       "    <tr>\n",
       "      <th>12</th>\n",
       "      <td>760.0</td>\n",
       "      <td>362.00</td>\n",
       "      <td>60.00</td>\n",
       "      <td>0.00</td>\n",
       "      <td>0.00</td>\n",
       "      <td>398.0</td>\n",
       "      <td>0.0</td>\n",
       "    </tr>\n",
       "    <tr>\n",
       "      <th>13</th>\n",
       "      <td>754.0</td>\n",
       "      <td>266.40</td>\n",
       "      <td>60.00</td>\n",
       "      <td>0.00</td>\n",
       "      <td>0.00</td>\n",
       "      <td>487.6</td>\n",
       "      <td>0.0</td>\n",
       "    </tr>\n",
       "    <tr>\n",
       "      <th>14</th>\n",
       "      <td>700.0</td>\n",
       "      <td>238.10</td>\n",
       "      <td>117.00</td>\n",
       "      <td>0.00</td>\n",
       "      <td>60.00</td>\n",
       "      <td>521.9</td>\n",
       "      <td>0.0</td>\n",
       "    </tr>\n",
       "    <tr>\n",
       "      <th>15</th>\n",
       "      <td>686.0</td>\n",
       "      <td>204.70</td>\n",
       "      <td>174.00</td>\n",
       "      <td>0.00</td>\n",
       "      <td>60.00</td>\n",
       "      <td>541.3</td>\n",
       "      <td>0.0</td>\n",
       "    </tr>\n",
       "    <tr>\n",
       "      <th>16</th>\n",
       "      <td>720.0</td>\n",
       "      <td>220.00</td>\n",
       "      <td>231.00</td>\n",
       "      <td>0.00</td>\n",
       "      <td>60.00</td>\n",
       "      <td>560.0</td>\n",
       "      <td>0.0</td>\n",
       "    </tr>\n",
       "    <tr>\n",
       "      <th>17</th>\n",
       "      <td>714.0</td>\n",
       "      <td>239.66</td>\n",
       "      <td>242.83</td>\n",
       "      <td>0.00</td>\n",
       "      <td>12.46</td>\n",
       "      <td>486.8</td>\n",
       "      <td>0.0</td>\n",
       "    </tr>\n",
       "    <tr>\n",
       "      <th>18</th>\n",
       "      <td>761.0</td>\n",
       "      <td>328.40</td>\n",
       "      <td>176.17</td>\n",
       "      <td>60.00</td>\n",
       "      <td>0.00</td>\n",
       "      <td>372.6</td>\n",
       "      <td>0.0</td>\n",
       "    </tr>\n",
       "    <tr>\n",
       "      <th>19</th>\n",
       "      <td>727.0</td>\n",
       "      <td>315.05</td>\n",
       "      <td>126.67</td>\n",
       "      <td>44.55</td>\n",
       "      <td>0.00</td>\n",
       "      <td>367.4</td>\n",
       "      <td>0.0</td>\n",
       "    </tr>\n",
       "    <tr>\n",
       "      <th>20</th>\n",
       "      <td>714.0</td>\n",
       "      <td>339.70</td>\n",
       "      <td>60.00</td>\n",
       "      <td>60.00</td>\n",
       "      <td>0.00</td>\n",
       "      <td>314.3</td>\n",
       "      <td>0.0</td>\n",
       "    </tr>\n",
       "    <tr>\n",
       "      <th>21</th>\n",
       "      <td>618.0</td>\n",
       "      <td>301.40</td>\n",
       "      <td>60.00</td>\n",
       "      <td>0.00</td>\n",
       "      <td>0.00</td>\n",
       "      <td>316.6</td>\n",
       "      <td>0.0</td>\n",
       "    </tr>\n",
       "    <tr>\n",
       "      <th>22</th>\n",
       "      <td>584.0</td>\n",
       "      <td>272.60</td>\n",
       "      <td>60.00</td>\n",
       "      <td>0.00</td>\n",
       "      <td>0.00</td>\n",
       "      <td>311.4</td>\n",
       "      <td>0.0</td>\n",
       "    </tr>\n",
       "    <tr>\n",
       "      <th>23</th>\n",
       "      <td>578.0</td>\n",
       "      <td>172.60</td>\n",
       "      <td>60.00</td>\n",
       "      <td>0.00</td>\n",
       "      <td>0.00</td>\n",
       "      <td>405.4</td>\n",
       "      <td>0.0</td>\n",
       "    </tr>\n",
       "    <tr>\n",
       "      <th>24</th>\n",
       "      <td>544.0</td>\n",
       "      <td>115.71</td>\n",
       "      <td>100.00</td>\n",
       "      <td>0.00</td>\n",
       "      <td>42.11</td>\n",
       "      <td>470.4</td>\n",
       "      <td>0.0</td>\n",
       "    </tr>\n",
       "  </tbody>\n",
       "</table>\n",
       "</div>"
      ],
      "text/plain": [
       "       Lt      Pg     SOC     PD     Pc     PW  PWC\n",
       "1   510.0  455.70   88.67  10.20   0.00   44.1  0.0\n",
       "2   530.0  455.70   60.00  25.80   0.00   48.5  0.0\n",
       "3   516.0  450.30   60.00   0.00   0.00   65.7  0.0\n",
       "4   510.0  365.10   60.00   0.00   0.00  144.9  0.0\n",
       "5   515.0  315.73   62.88   0.00   3.03  202.3  0.0\n",
       "6   544.0  286.70  119.88   0.00  60.00  317.3  0.0\n",
       "7   646.0  315.73  152.31   0.00  34.13  364.4  0.0\n",
       "8   686.0  368.70  152.31   0.00   0.00  317.3  0.0\n",
       "9   741.0  410.00   85.64  60.00   0.00  271.0  0.0\n",
       "10  734.0  404.03   60.00  23.07   0.00  306.9  0.0\n",
       "11  748.0  323.90   60.00   0.00   0.00  424.1  0.0\n",
       "12  760.0  362.00   60.00   0.00   0.00  398.0  0.0\n",
       "13  754.0  266.40   60.00   0.00   0.00  487.6  0.0\n",
       "14  700.0  238.10  117.00   0.00  60.00  521.9  0.0\n",
       "15  686.0  204.70  174.00   0.00  60.00  541.3  0.0\n",
       "16  720.0  220.00  231.00   0.00  60.00  560.0  0.0\n",
       "17  714.0  239.66  242.83   0.00  12.46  486.8  0.0\n",
       "18  761.0  328.40  176.17  60.00   0.00  372.6  0.0\n",
       "19  727.0  315.05  126.67  44.55   0.00  367.4  0.0\n",
       "20  714.0  339.70   60.00  60.00   0.00  314.3  0.0\n",
       "21  618.0  301.40   60.00   0.00   0.00  316.6  0.0\n",
       "22  584.0  272.60   60.00   0.00   0.00  311.4  0.0\n",
       "23  578.0  172.60   60.00   0.00   0.00  405.4  0.0\n",
       "24  544.0  115.71  100.00   0.00  42.11  470.4  0.0"
      ]
     },
     "execution_count": 61,
     "metadata": {},
     "output_type": "execute_result"
    }
   ],
   "source": [
    "data_tables.columns = [\"Lt\",\"Pg\",'SOC','PD','Pc', 'PW', 'PWC']\n",
    "data_tables"
   ]
  },
  {
   "cell_type": "code",
   "execution_count": 62,
   "id": "4d940135",
   "metadata": {},
   "outputs": [
    {
     "data": {
      "image/png": "[encoded data removed]",
      "text/plain": [
       "<Figure size 800x300 with 1 Axes>"
      ]
     },
     "metadata": {},
     "output_type": "display_data"
    }
   ],
   "source": [
    "plt.figure(figsize=(8, 3))\n",
    "plt.plot(t_hours, L_lst, '-')\n",
    "\n",
    "plt.xlabel('Time (h)')\n",
    "plt.ylabel('Demand (MW)')\n",
    "plt.title('Daily load pattern')\n",
    "xticks = range(1,25)\n",
    "plt.xticks(t_hours, xticks)\n",
    "plt.grid()\n",
    "plt.show()"
   ]
  },
  {
   "cell_type": "code",
   "execution_count": 63,
   "id": "ed2e51ba",
   "metadata": {},
   "outputs": [
    {
     "data": {
      "image/png": "[encoded data removed]",
      "text/plain": [
       "<Figure size 800x300 with 1 Axes>"
      ]
     },
     "metadata": {},
     "output_type": "display_data"
    }
   ],
   "source": [
    "plt.figure(figsize=(8, 3))\n",
    "plt.plot(t_hours, pw_lst, '-')\n",
    "\n",
    "plt.xlabel('Time (h)')\n",
    "plt.ylabel('Wind power (MW)')\n",
    "plt.title('Daily wind power generation')\n",
    "xticks = range(1,25)\n",
    "plt.xticks(t_hours, xticks)\n",
    "plt.grid()\n",
    "plt.show()"
   ]
  },
  {
   "cell_type": "code",
   "execution_count": 64,
   "id": "24de9c56",
   "metadata": {
    "colab": {
     "base_uri": "https://localhost:8080/",
     "height": 333
    },
    "id": "24de9c56",
    "outputId": "58869e53-fc29-4a1c-c432-62eca825ed63"
   },
   "outputs": [
    {
     "name": "stderr",
     "output_type": "stream",
     "text": [
      "/var/folders/d7/8ygtg6356sx5s_qd3z8tdx3h0000gn/T/ipykernel_53226/2478493426.py:3: UserWarning: linestyle is redundantly defined by the 'linestyle' keyword argument and the fmt string \"-\" (-> linestyle='-'). The keyword argument will take precedence.\n",
      "  plt.plot(t_hours, pg_lst, '-', label='Total Power by Thermal Units', linestyle='dashed')\n"
     ]
    },
    {
     "data": {
      "image/png": "[encoded data removed]",
      "text/plain": [
       "<Figure size 800x300 with 1 Axes>"
      ]
     },
     "metadata": {},
     "output_type": "display_data"
    }
   ],
   "source": [
    "plt.figure(figsize=(8, 3))\n",
    "plt.plot(t_hours, L_lst, '-', label='Demand')\n",
    "plt.plot(t_hours, pg_lst, '-', label='Total Power by Thermal Units', linestyle='dashed')\n",
    "plt.plot(t_hours, pc_lst,'-',color='red', label='Charge of Storage')\n",
    "plt.plot(t_hours, pd_lst,color='blue', label='Discharge of Storage')\n",
    "plt.plot(t_hours, soc_lst, 'o-', color='yellow', label='SOC(t)')\n",
    "plt.plot(t_hours, pw_lst, 'o-', label='PW(t)')\n",
    "plt.plot(t_hours, pwc_lst, 'o-', label='PWC(t)')\n",
    "\n",
    "plt.ylim([0,800])\n",
    "plt.xlabel('Time (h)')\n",
    "plt.ylabel('Power (MW)')\n",
    "plt.title('Demand, Generation and Storage')\n",
    "xticks = range(1,25)\n",
    "plt.xticks(t_hours, xticks)\n",
    "plt.legend()\n",
    "plt.grid()\n",
    "plt.show()"
   ]
  },
  {
   "cell_type": "code",
   "execution_count": 65,
   "id": "5a1cb771",
   "metadata": {
    "colab": {
     "base_uri": "https://localhost:8080/",
     "height": 564
    },
    "id": "5a1cb771",
    "outputId": "59a91f9e-ac75-49b9-f98e-2fa4d704f63e"
   },
   "outputs": [
    {
     "data": {
      "image/png": "[encoded data removed]",
      "text/plain": [
       "<Figure size 2000x600 with 1 Axes>"
      ]
     },
     "metadata": {},
     "output_type": "display_data"
    }
   ],
   "source": [
    "plt.figure(figsize=(20, 6))\n",
    "plt.bar(t_hours, pc_lst,color='yellow', label='Charge (Ptc)')\n",
    "plt.bar(t_hours, pd_lst, color='purple', label='Discharge (Ptd)')\n",
    "plt.xlabel('Time (h)')\n",
    "plt.ylabel('Charge/discharge (MW)')\n",
    "plt.title('Charge/Discharge (i.e. hourly dispatch of ESS)')\n",
    "plt.xticks(t_hours, xticks)\n",
    "plt.ylim(0,70)\n",
    "plt.legend()\n",
    "plt.grid()\n",
    "plt.show()"
   ]
  },
  {
   "cell_type": "code",
   "execution_count": 66,
   "id": "fI-FXO_HTpMg",
   "metadata": {
    "id": "fI-FXO_HTpMg"
   },
   "outputs": [],
   "source": [
    "def func_max(lis,maxx):\n",
    "    for i in range(len(lis)):\n",
    "        if lis[i]>maxx:\n",
    "              lis[i]=maxx\n",
    "    return lis"
   ]
  },
  {
   "cell_type": "code",
   "execution_count": 67,
   "id": "9c9e51e7",
   "metadata": {
    "colab": {
     "base_uri": "https://localhost:8080/",
     "height": 564
    },
    "id": "9c9e51e7",
    "outputId": "75162e6f-2b03-4494-9ff8-6b1bf7109992",
    "scrolled": false
   },
   "outputs": [
    {
     "name": "stderr",
     "output_type": "stream",
     "text": [
      "/var/folders/d7/8ygtg6356sx5s_qd3z8tdx3h0000gn/T/ipykernel_53226/2656730013.py:14: UserWarning: linestyle is redundantly defined by the 'linestyle' keyword argument and the fmt string \"o-\" (-> linestyle='-'). The keyword argument will take precedence.\n",
      "  plt.plot(t_hours, g2_values, 'o-',linestyle='dashed', color='purple',label='Generator p2')\n",
      "/var/folders/d7/8ygtg6356sx5s_qd3z8tdx3h0000gn/T/ipykernel_53226/2656730013.py:15: UserWarning: linestyle is redundantly defined by the 'linestyle' keyword argument and the fmt string \"-\" (-> linestyle='-'). The keyword argument will take precedence.\n",
      "  plt.plot(t_hours, g3_values, '-', linestyle='dashed', color='black',label='Generator p3')\n"
     ]
    },
    {
     "data": {
      "image/png": "[encoded data removed]",
      "text/plain": [
       "<Figure size 800x600 with 1 Axes>"
      ]
     },
     "metadata": {},
     "output_type": "display_data"
    }
   ],
   "source": [
    "g1_values = [model.p['p1', t].value for t in model.t_hours]\n",
    "g2_values = [model.p['p2', t].value for t in model.t_hours]\n",
    "g3_values = [model.p['p3', t].value for t in model.t_hours]\n",
    "g4_values = [model.p['p4', t].value for t in model.t_hours]\n",
    "\n",
    "\n",
    "# g1_values = func_max(g1_values,200)\n",
    "# g2_values = func_max(g2_values,177)\n",
    "# g3_values = func_max(g3_values,190)\n",
    "# g4_values = func_max(g4_values,160)\n",
    "\n",
    "plt.figure(figsize=(8, 6))\n",
    "plt.plot(t_hours, g1_values, 'o-', label='Generator p1',color='red')\n",
    "plt.plot(t_hours, g2_values, 'o-',linestyle='dashed', color='purple',label='Generator p2')\n",
    "plt.plot(t_hours, g3_values, '-', linestyle='dashed', color='black',label='Generator p3')\n",
    "plt.plot(t_hours, g4_values, '-', color='orange',label='Generator p4')\n",
    "plt.xlabel('Time (h)')\n",
    "plt.ylabel('Power Output (MW)')\n",
    "plt.title('Pg,t vs Time (hourly schedules of thermal units)')\n",
    "plt.xticks(t_hours, xticks)\n",
    "plt.legend()\n",
    "plt.grid()\n",
    "plt.show()"
   ]
  },
  {
   "cell_type": "code",
   "execution_count": 68,
   "id": "80716c4e",
   "metadata": {},
   "outputs": [
    {
     "data": {
      "text/plain": [
       "[148.88356029324214,\n",
       " 148.88356029350206,\n",
       " 147.16242352228588,\n",
       " 120.0067100849117,\n",
       " 104.27165315034901,\n",
       " 95.01835405528904,\n",
       " 104.27165314574917,\n",
       " 121.15413459629333,\n",
       " 134.31764357728022,\n",
       " 132.41323954578695,\n",
       " 106.87507400842512,\n",
       " 119.01865008837967,\n",
       " 88.5481547269621,\n",
       " 79.52812314512191,\n",
       " 68.88257351452506,\n",
       " 73.75912768844823,\n",
       " 80.02449642214654,\n",
       " 108.30935464829568,\n",
       " 104.05399191616578,\n",
       " 111.91099269816146,\n",
       " 99.70367081027541,\n",
       " 90.52427471848978,\n",
       " 58.65137162020032,\n",
       " 40.48052977889843]"
      ]
     },
     "execution_count": 68,
     "metadata": {},
     "output_type": "execute_result"
    }
   ],
   "source": [
    "g1_values"
   ]
  },
  {
   "cell_type": "code",
   "execution_count": null,
   "id": "05b35ab3",
   "metadata": {},
   "outputs": [],
   "source": []
  }
 ],
 "metadata": {
  "colab": {
   "provenance": []
  },
  "kernelspec": {
   "display_name": "Python 3 (ipykernel)",
   "language": "python",
   "name": "python3"
  },
  "language_info": {
   "codemirror_mode": {
    "name": "ipython",
    "version": 3
   },
   "file_extension": ".py",
   "mimetype": "text/x-python",
   "name": "python",
   "nbconvert_exporter": "python",
   "pygments_lexer": "ipython3",
   "version": "3.9.13"
  },
  "vscode": {
   "interpreter": {
    "hash": "8a5edab282632443219e051e4ade2d1d5bbc671c781051bf1437897cbdfea0f1"
   }
  }
 },
 "nbformat": 4,
 "nbformat_minor": 5
}
