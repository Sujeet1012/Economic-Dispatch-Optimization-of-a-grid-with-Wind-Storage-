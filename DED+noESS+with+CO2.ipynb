{
 "cells": [
  {
   "cell_type": "code",
   "execution_count": 1,
   "id": "ffe263f2",
   "metadata": {},
   "outputs": [],
   "source": [
    "from pyomo.environ import *"
   ]
  },
  {
   "cell_type": "code",
   "execution_count": 2,
   "id": "b53ed1c6",
   "metadata": {},
   "outputs": [],
   "source": [
    "import matplotlib.pyplot as plt"
   ]
  },
  {
   "cell_type": "code",
   "execution_count": 3,
   "id": "553af2ff",
   "metadata": {},
   "outputs": [],
   "source": [
    "import pandas as pd\n",
    "import numpy as np"
   ]
  },
  {
   "cell_type": "code",
   "execution_count": 4,
   "id": "0eb46569",
   "metadata": {},
   "outputs": [],
   "source": [
    "from pyomo.opt import SolverFactory"
   ]
  },
  {
   "cell_type": "code",
   "execution_count": null,
   "id": "82c8aaf1",
   "metadata": {},
   "outputs": [],
   "source": []
  },
  {
   "cell_type": "markdown",
   "id": "1ddcc594",
   "metadata": {},
   "source": [
    "##### sets"
   ]
  },
  {
   "cell_type": "code",
   "execution_count": 5,
   "id": "032d3ddc",
   "metadata": {},
   "outputs": [
    {
     "data": {
      "text/plain": [
       "['t1',\n",
       " 't2',\n",
       " 't3',\n",
       " 't4',\n",
       " 't5',\n",
       " 't6',\n",
       " 't7',\n",
       " 't8',\n",
       " 't9',\n",
       " 't10',\n",
       " 't11',\n",
       " 't12',\n",
       " 't13',\n",
       " 't14',\n",
       " 't15',\n",
       " 't16',\n",
       " 't17',\n",
       " 't18',\n",
       " 't19',\n",
       " 't20',\n",
       " 't21',\n",
       " 't22',\n",
       " 't23',\n",
       " 't24']"
      ]
     },
     "execution_count": 5,
     "metadata": {},
     "output_type": "execute_result"
    }
   ],
   "source": [
    "t_hours = ['t1', 't2', 't3', 't4', 't5', 't6', 't7', 't8', 't9', 't10', 't11', 't12', 't13', 't14', 't15', 't16', 't17', 't18', 't19', 't20', 't21', 't22', 't23', 't24']\n",
    "t_hours #time period"
   ]
  },
  {
   "cell_type": "code",
   "execution_count": 6,
   "id": "901ecdd1",
   "metadata": {},
   "outputs": [
    {
     "data": {
      "text/plain": [
       "list"
      ]
     },
     "execution_count": 6,
     "metadata": {},
     "output_type": "execute_result"
    }
   ],
   "source": [
    "type(t_hours)"
   ]
  },
  {
   "cell_type": "code",
   "execution_count": null,
   "id": "650fee84",
   "metadata": {},
   "outputs": [],
   "source": []
  },
  {
   "cell_type": "code",
   "execution_count": 7,
   "id": "492bd2cf",
   "metadata": {
    "scrolled": true
   },
   "outputs": [
    {
     "data": {
      "text/plain": [
       "['p1', 'p2', 'p3', 'p4']"
      ]
     },
     "execution_count": 7,
     "metadata": {},
     "output_type": "execute_result"
    }
   ],
   "source": [
    "g_units = ['p1', 'p2', 'p3', 'p4']  # the power system has 4 thermal power stations\n",
    "g_units"
   ]
  },
  {
   "cell_type": "code",
   "execution_count": 8,
   "id": "cf78bf5f",
   "metadata": {},
   "outputs": [
    {
     "data": {
      "text/plain": [
       "list"
      ]
     },
     "execution_count": 8,
     "metadata": {},
     "output_type": "execute_result"
    }
   ],
   "source": [
    "type(g_units)"
   ]
  },
  {
   "cell_type": "code",
   "execution_count": null,
   "id": "66af0ccd",
   "metadata": {},
   "outputs": [],
   "source": []
  },
  {
   "cell_type": "code",
   "execution_count": null,
   "id": "c8ad757d",
   "metadata": {},
   "outputs": [],
   "source": []
  },
  {
   "cell_type": "markdown",
   "id": "7b363704",
   "metadata": {},
   "source": [
    "##### constants (dictionary form)"
   ]
  },
  {
   "cell_type": "code",
   "execution_count": 9,
   "id": "a17201f8",
   "metadata": {
    "scrolled": true
   },
   "outputs": [
    {
     "data": {
      "text/plain": [
       "{('p1', 'a'): 0.12,\n",
       " ('p1', 'b'): 14.8,\n",
       " ('p1', 'c'): 89,\n",
       " ('p1', 'd'): 1.2,\n",
       " ('p1', 'e'): -5.0,\n",
       " ('p1', 'f'): 3.0,\n",
       " ('p1', 'Pmin'): 28,\n",
       " ('p1', 'Pmax'): 200,\n",
       " ('p1', 'RU0'): 40,\n",
       " ('p1', 'RD0'): 40,\n",
       " ('p2', 'a'): 0.17,\n",
       " ('p2', 'b'): 16.57,\n",
       " ('p2', 'c'): 83,\n",
       " ('p2', 'd'): 2.3,\n",
       " ('p2', 'e'): -4.24,\n",
       " ('p2', 'f'): 6.09,\n",
       " ('p2', 'Pmin'): 20,\n",
       " ('p2', 'Pmax'): 290,\n",
       " ('p2', 'RU0'): 30,\n",
       " ('p2', 'RD0'): 30,\n",
       " ('p3', 'a'): 0.15,\n",
       " ('p3', 'b'): 15.55,\n",
       " ('p3', 'c'): 100,\n",
       " ('p3', 'd'): 1.1,\n",
       " ('p3', 'e'): -2.15,\n",
       " ('p3', 'f'): 5.69,\n",
       " ('p3', 'Pmin'): 30,\n",
       " ('p3', 'Pmax'): 190,\n",
       " ('p3', 'RU0'): 30,\n",
       " ('p3', 'RD0'): 30,\n",
       " ('p4', 'a'): 0.19,\n",
       " ('p4', 'b'): 16.21,\n",
       " ('p4', 'c'): 70,\n",
       " ('p4', 'd'): 1.1,\n",
       " ('p4', 'e'): -3.99,\n",
       " ('p4', 'f'): 6.2,\n",
       " ('p4', 'Pmin'): 20,\n",
       " ('p4', 'Pmax'): 260,\n",
       " ('p4', 'RU0'): 50,\n",
       " ('p4', 'RD0'): 50}"
      ]
     },
     "execution_count": 9,
     "metadata": {},
     "output_type": "execute_result"
    }
   ],
   "source": [
    "# a is in $ / MW^2   . fuel cost coefficient for a thermal unit\n",
    "# b is in $ / MW       fuel cost coefficient for a thermal unit\n",
    "# c is in $            fuel cost coefficient for a thermal unit\n",
    "# d is in kg CO2 / MW^2    emissions coefficient for a thermal unit\n",
    "# e is in kg CO2 / MW      emissions coefficient for a thermal unit\n",
    "# f is in kg CO2          emissions coefficient for a thermal unit\n",
    "# Pmin, Pmax are in MW.  Min and Max output limits for a thermal unit\n",
    "# RU, RD are in MW       Ramp up / down rates for a thermal unit\n",
    "\n",
    "#this is a dictionary . The key is a tuple. \n",
    "\n",
    "gendata = {\n",
    "    ('p1', 'a'): 0.12, \n",
    "    ('p1', 'b'): 14.80, \n",
    "    ('p1', 'c'):  89, \n",
    "    ('p1', 'd'): 1.2, \n",
    "    ('p1', 'e'): -5.00, \n",
    "    ('p1', 'f'): 3.00, \n",
    "    ('p1', 'Pmin'): 28, \n",
    "    ('p1', 'Pmax'): 200, \n",
    "    ('p1', 'RU0'): 40, \n",
    "    ('p1', 'RD0'): 40,\n",
    "    \n",
    "    ('p2', 'a'): 0.17, \n",
    "    ('p2', 'b'): 16.57, \n",
    "    ('p2', 'c'):  83, \n",
    "    ('p2', 'd'): 2.3, \n",
    "    ('p2', 'e'): -4.24, \n",
    "    ('p2', 'f'): 6.09, \n",
    "    ('p2', 'Pmin'): 20, \n",
    "    ('p2', 'Pmax'): 290, \n",
    "    ('p2', 'RU0'): 30, \n",
    "    ('p2', 'RD0'): 30,\n",
    "    \n",
    "    ('p3', 'a'): 0.15, \n",
    "    ('p3', 'b'): 15.55, \n",
    "    ('p3', 'c'): 100, \n",
    "    ('p3', 'd'): 1.1, \n",
    "    ('p3', 'e'): -2.15, \n",
    "    ('p3', 'f'): 5.69, \n",
    "    ('p3', 'Pmin'): 30, \n",
    "    ('p3', 'Pmax'): 190, \n",
    "    ('p3', 'RU0'): 30, \n",
    "    ('p3', 'RD0'): 30,\n",
    "    \n",
    "    ('p4', 'a'): 0.19, \n",
    "    ('p4', 'b'): 16.21, \n",
    "    ('p4', 'c'):  70, \n",
    "    ('p4', 'd'): 1.1, \n",
    "    ('p4', 'e'): -3.99, \n",
    "    ('p4', 'f'): 6.20, \n",
    "    ('p4', 'Pmin'): 20, \n",
    "    ('p4', 'Pmax'): 260, \n",
    "    ('p4', 'RU0'): 50, \n",
    "    ('p4', 'RD0'): 50\n",
    "}\n",
    "\n",
    "gendata"
   ]
  },
  {
   "cell_type": "code",
   "execution_count": 10,
   "id": "50122726",
   "metadata": {},
   "outputs": [
    {
     "data": {
      "text/plain": [
       "dict"
      ]
     },
     "execution_count": 10,
     "metadata": {},
     "output_type": "execute_result"
    }
   ],
   "source": [
    "type(gendata)"
   ]
  },
  {
   "cell_type": "code",
   "execution_count": 11,
   "id": "34a72343",
   "metadata": {},
   "outputs": [
    {
     "data": {
      "text/plain": [
       "0.12"
      ]
     },
     "execution_count": 11,
     "metadata": {},
     "output_type": "execute_result"
    }
   ],
   "source": [
    "gendata[('p1','a')] #this is how we print a value"
   ]
  },
  {
   "cell_type": "code",
   "execution_count": null,
   "id": "b473491d",
   "metadata": {},
   "outputs": [],
   "source": []
  },
  {
   "cell_type": "code",
   "execution_count": 12,
   "id": "b159b343",
   "metadata": {
    "id": "b159b343"
   },
   "outputs": [],
   "source": [
    "data = {\n",
    "    ('t1', 'load'):  510, \n",
    "    ('t2', 'load'):  530, \n",
    "    ('t3', 'load'):  516, \n",
    "    ('t4', 'load'):  510,  \n",
    "    ('t5', 'load'):  515,  \n",
    "    ('t6', 'load'):  544,  \n",
    "    ('t7', 'load'):  646,  \n",
    "    ('t8', 'load'):  686,  \n",
    "    ('t9', 'load'):  741,  \n",
    "    ('t10', 'load'): 734,  \n",
    "    ('t11', 'load'): 748,  \n",
    "    ('t12', 'load'): 760,  \n",
    "    ('t13', 'load'): 754,  \n",
    "    ('t14', 'load'): 700,  \n",
    "    ('t15', 'load'): 686,  \n",
    "    ('t16', 'load'): 720,  \n",
    "    ('t17', 'load'): 714,  \n",
    "    ('t18', 'load'): 761,  \n",
    "    ('t19', 'load'): 727,  \n",
    "    ('t20', 'load'): 714,  \n",
    "    ('t21', 'load'): 618, \n",
    "    ('t22', 'load'): 584,  \n",
    "    ('t23', 'load'): 578,  \n",
    "    ('t24', 'load'): 544,  \n",
    "}"
   ]
  },
  {
   "cell_type": "code",
   "execution_count": 13,
   "id": "1d447753",
   "metadata": {},
   "outputs": [
    {
     "data": {
      "text/plain": [
       "dict"
      ]
     },
     "execution_count": 13,
     "metadata": {},
     "output_type": "execute_result"
    }
   ],
   "source": [
    "type(data)"
   ]
  },
  {
   "cell_type": "code",
   "execution_count": null,
   "id": "7914d812",
   "metadata": {},
   "outputs": [],
   "source": []
  },
  {
   "cell_type": "code",
   "execution_count": null,
   "id": "02af7eb1",
   "metadata": {},
   "outputs": [],
   "source": []
  },
  {
   "cell_type": "code",
   "execution_count": null,
   "id": "cbb2e346",
   "metadata": {},
   "outputs": [],
   "source": []
  },
  {
   "cell_type": "code",
   "execution_count": null,
   "id": "9025a75b",
   "metadata": {},
   "outputs": [],
   "source": []
  },
  {
   "cell_type": "code",
   "execution_count": null,
   "id": "00abda13",
   "metadata": {},
   "outputs": [],
   "source": []
  },
  {
   "cell_type": "markdown",
   "id": "30088df5",
   "metadata": {},
   "source": [
    "## defining the optimization model"
   ]
  },
  {
   "cell_type": "code",
   "execution_count": 14,
   "id": "984f5296",
   "metadata": {},
   "outputs": [
    {
     "data": {
      "text/plain": [
       "<pyomo.core.base.PyomoModel.ConcreteModel at 0x7fb680401ae0>"
      ]
     },
     "execution_count": 14,
     "metadata": {},
     "output_type": "execute_result"
    }
   ],
   "source": [
    "model = ConcreteModel()\n",
    "model"
   ]
  },
  {
   "cell_type": "code",
   "execution_count": 15,
   "id": "c6d8e598",
   "metadata": {},
   "outputs": [],
   "source": [
    "model.name= \"Cost-based DED\""
   ]
  },
  {
   "cell_type": "code",
   "execution_count": null,
   "id": "c5dc1760",
   "metadata": {},
   "outputs": [],
   "source": []
  },
  {
   "cell_type": "code",
   "execution_count": null,
   "id": "e828debe",
   "metadata": {},
   "outputs": [],
   "source": []
  },
  {
   "cell_type": "code",
   "execution_count": null,
   "id": "4bbb9cdc",
   "metadata": {},
   "outputs": [],
   "source": []
  },
  {
   "cell_type": "code",
   "execution_count": null,
   "id": "03a56e82",
   "metadata": {},
   "outputs": [],
   "source": []
  },
  {
   "cell_type": "code",
   "execution_count": null,
   "id": "ccf2015a",
   "metadata": {},
   "outputs": [],
   "source": []
  },
  {
   "cell_type": "markdown",
   "id": "5d8042ac",
   "metadata": {},
   "source": [
    "##### adding the sets to the model"
   ]
  },
  {
   "cell_type": "code",
   "execution_count": 16,
   "id": "4d7db8e1",
   "metadata": {},
   "outputs": [],
   "source": [
    "model.t_hours = Set(initialize=t_hours)"
   ]
  },
  {
   "cell_type": "code",
   "execution_count": 17,
   "id": "b6c4a9ef",
   "metadata": {},
   "outputs": [],
   "source": [
    "model.g_units = Set(initialize=g_units)"
   ]
  },
  {
   "cell_type": "code",
   "execution_count": null,
   "id": "83515a23",
   "metadata": {},
   "outputs": [],
   "source": []
  },
  {
   "cell_type": "markdown",
   "id": "94930d1b",
   "metadata": {},
   "source": [
    "##### Decision Variables"
   ]
  },
  {
   "cell_type": "markdown",
   "id": "6788b3f8",
   "metadata": {},
   "source": [
    "Syntax of Var: <br>\n",
    "    First are the index sets. Eg for model.p we have two index sets: g_units and t_hours. <br>\n",
    "    Then we set the upper and the lower bounds on the variable. Eg for Pd these are 0 and 20% of SOCmax.\n",
    "         <br> Also for p the bounds are Pmin and Pmax. We write bounds = lambda model, followed by the indices of the index sets."
   ]
  },
  {
   "cell_type": "code",
   "execution_count": null,
   "id": "1a1f39fa",
   "metadata": {},
   "outputs": [],
   "source": []
  },
  {
   "cell_type": "markdown",
   "id": "9f367775",
   "metadata": {},
   "source": [
    "output of a thermal unit in MW:"
   ]
  },
  {
   "cell_type": "code",
   "execution_count": 18,
   "id": "80677f00",
   "metadata": {},
   "outputs": [],
   "source": [
    "model.p = Var(model.g_units, model.t_hours, bounds=lambda model, g, t: ( gendata[g, 'Pmin'], gendata[g, 'Pmax'] ) )"
   ]
  },
  {
   "attachments": {
    "Screenshot%202023-07-24%20at%2019.48.42.png": {
     "image/png": "[encoded data removed]"
    }
   },
   "cell_type": "markdown",
   "id": "e1d1cc30",
   "metadata": {},
   "source": [
    "![Screenshot%202023-07-24%20at%2019.48.42.png](attachment:Screenshot%202023-07-24%20at%2019.48.42.png)"
   ]
  },
  {
   "cell_type": "code",
   "execution_count": 19,
   "id": "4f54295b",
   "metadata": {},
   "outputs": [
    {
     "data": {
      "text/plain": [
       "28"
      ]
     },
     "execution_count": 19,
     "metadata": {},
     "output_type": "execute_result"
    }
   ],
   "source": [
    "gendata['p1', 'Pmin']"
   ]
  },
  {
   "cell_type": "code",
   "execution_count": null,
   "id": "05504cfe",
   "metadata": {},
   "outputs": [],
   "source": []
  },
  {
   "cell_type": "markdown",
   "id": "61af713d",
   "metadata": {},
   "source": []
  },
  {
   "cell_type": "code",
   "execution_count": null,
   "id": "2eb6ce1c",
   "metadata": {},
   "outputs": [],
   "source": []
  },
  {
   "cell_type": "markdown",
   "id": "dc80ce60",
   "metadata": {},
   "source": [
    "##### objective function. We minimize the Total electricity generation Cost (TC). This is a quadratic objective function ie nonlinear problem"
   ]
  },
  {
   "cell_type": "code",
   "execution_count": null,
   "id": "aead49f5",
   "metadata": {},
   "outputs": [],
   "source": []
  },
  {
   "cell_type": "code",
   "execution_count": 20,
   "id": "4c8d8228",
   "metadata": {},
   "outputs": [
    {
     "data": {
      "text/plain": [
       "0.12"
      ]
     },
     "execution_count": 20,
     "metadata": {},
     "output_type": "execute_result"
    }
   ],
   "source": [
    "gendata['p1','a']"
   ]
  },
  {
   "cell_type": "code",
   "execution_count": 21,
   "id": "8ffe82f9",
   "metadata": {},
   "outputs": [],
   "source": [
    "model.costThermal = Objective(\n",
    "    expr=sum(gendata[g, 'a'] * model.p[g, t]**2 + gendata[g, 'b'] * model.p[g, t] + gendata[g, 'c']\n",
    "             for t in model.t_hours for g in model.g_units),\n",
    "    sense=minimize\n",
    ")"
   ]
  },
  {
   "attachments": {
    "Screenshot%202023-07-24%20at%2019.29.57.png": {
     "image/png": "[encoded data removed]"
    }
   },
   "cell_type": "markdown",
   "id": "7f02e679",
   "metadata": {},
   "source": [
    "![Screenshot%202023-07-24%20at%2019.29.57.png](attachment:Screenshot%202023-07-24%20at%2019.29.57.png)"
   ]
  },
  {
   "cell_type": "code",
   "execution_count": null,
   "id": "400e78a8",
   "metadata": {},
   "outputs": [],
   "source": []
  },
  {
   "cell_type": "code",
   "execution_count": null,
   "id": "b69b703a",
   "metadata": {},
   "outputs": [],
   "source": []
  },
  {
   "cell_type": "markdown",
   "id": "2be4d494",
   "metadata": {},
   "source": [
    "##### constraints"
   ]
  },
  {
   "cell_type": "code",
   "execution_count": null,
   "id": "d10c798f",
   "metadata": {},
   "outputs": [],
   "source": []
  },
  {
   "cell_type": "code",
   "execution_count": null,
   "id": "71f95fa1",
   "metadata": {},
   "outputs": [],
   "source": []
  },
  {
   "cell_type": "code",
   "execution_count": 22,
   "id": "31055fd9",
   "metadata": {},
   "outputs": [],
   "source": [
    "def Genconst_rule(model, g, t):\n",
    "    if t == 't24':\n",
    "        return Constraint.Skip\n",
    "    else:\n",
    "        return model.p[g, t_hours[t_hours.index(t) + 1]]  - model.p[g, t] <= gendata[g, 'RU0']"
   ]
  },
  {
   "cell_type": "code",
   "execution_count": 23,
   "id": "035972e2",
   "metadata": {},
   "outputs": [],
   "source": [
    "model.Genconst3 = Constraint(\n",
    "    model.g_units, \n",
    "    model.t_hours, \n",
    "    rule=Genconst_rule)"
   ]
  },
  {
   "attachments": {
    "Screenshot%202023-07-24%20at%2019.50.03.png": {
     "image/png": "[encoded data removed]"
    }
   },
   "cell_type": "markdown",
   "id": "12ff2e2a",
   "metadata": {},
   "source": [
    "![Screenshot%202023-07-24%20at%2019.50.03.png](attachment:Screenshot%202023-07-24%20at%2019.50.03.png)"
   ]
  },
  {
   "cell_type": "code",
   "execution_count": null,
   "id": "08a67162",
   "metadata": {},
   "outputs": [],
   "source": []
  },
  {
   "cell_type": "code",
   "execution_count": null,
   "id": "8ee67de0",
   "metadata": {},
   "outputs": [],
   "source": []
  },
  {
   "cell_type": "markdown",
   "id": "ed0ddda9",
   "metadata": {},
   "source": [
    "example: at period t='t1' . And for the unit 'p1'\n",
    "    \n",
    "    model.p['p1', 't1'] - model.p['g1', t_hours[t_hours.index('t1')-1 ]] <= gendata['p1', 'RUO']"
   ]
  },
  {
   "cell_type": "code",
   "execution_count": 24,
   "id": "f8f51c46",
   "metadata": {},
   "outputs": [
    {
     "data": {
      "text/plain": [
       "40"
      ]
     },
     "execution_count": 24,
     "metadata": {},
     "output_type": "execute_result"
    }
   ],
   "source": [
    "gendata['p1','RU0']"
   ]
  },
  {
   "cell_type": "code",
   "execution_count": 25,
   "id": "653b9a95",
   "metadata": {},
   "outputs": [
    {
     "data": {
      "text/plain": [
       "0"
      ]
     },
     "execution_count": 25,
     "metadata": {},
     "output_type": "execute_result"
    }
   ],
   "source": [
    "t_hours.index('t1')"
   ]
  },
  {
   "cell_type": "markdown",
   "id": "28bdf94b",
   "metadata": {},
   "source": [
    "So it becomes:\n",
    "\n",
    "        model.p['p1', 't1'] - model.p['g1', t_hours[0-1 ]] <= 40 MW"
   ]
  },
  {
   "cell_type": "code",
   "execution_count": 26,
   "id": "1f2681f7",
   "metadata": {},
   "outputs": [
    {
     "data": {
      "text/plain": [
       "'t24'"
      ]
     },
     "execution_count": 26,
     "metadata": {},
     "output_type": "execute_result"
    }
   ],
   "source": [
    "t_hours[-1]"
   ]
  },
  {
   "cell_type": "markdown",
   "id": "4787f8ad",
   "metadata": {},
   "source": [
    "So essentially our t0 is t24. This is an assumption since we dont have data for t0."
   ]
  },
  {
   "cell_type": "code",
   "execution_count": null,
   "id": "3fb25334",
   "metadata": {},
   "outputs": [],
   "source": []
  },
  {
   "cell_type": "code",
   "execution_count": null,
   "id": "5574ecfb",
   "metadata": {},
   "outputs": [],
   "source": []
  },
  {
   "cell_type": "markdown",
   "id": "8988845e",
   "metadata": {},
   "source": [
    "reminder:"
   ]
  },
  {
   "cell_type": "code",
   "execution_count": 27,
   "id": "46ef4580",
   "metadata": {},
   "outputs": [
    {
     "data": {
      "text/plain": [
       "['p1', 'p2', 'p3', 'p4']"
      ]
     },
     "execution_count": 27,
     "metadata": {},
     "output_type": "execute_result"
    }
   ],
   "source": [
    "g_units"
   ]
  },
  {
   "cell_type": "code",
   "execution_count": 28,
   "id": "4d00e0ac",
   "metadata": {},
   "outputs": [
    {
     "data": {
      "text/plain": [
       "['t1',\n",
       " 't2',\n",
       " 't3',\n",
       " 't4',\n",
       " 't5',\n",
       " 't6',\n",
       " 't7',\n",
       " 't8',\n",
       " 't9',\n",
       " 't10',\n",
       " 't11',\n",
       " 't12',\n",
       " 't13',\n",
       " 't14',\n",
       " 't15',\n",
       " 't16',\n",
       " 't17',\n",
       " 't18',\n",
       " 't19',\n",
       " 't20',\n",
       " 't21',\n",
       " 't22',\n",
       " 't23',\n",
       " 't24']"
      ]
     },
     "execution_count": 28,
     "metadata": {},
     "output_type": "execute_result"
    }
   ],
   "source": [
    "t_hours"
   ]
  },
  {
   "cell_type": "code",
   "execution_count": 29,
   "id": "8e921133",
   "metadata": {},
   "outputs": [
    {
     "data": {
      "text/plain": [
       "1"
      ]
     },
     "execution_count": 29,
     "metadata": {},
     "output_type": "execute_result"
    }
   ],
   "source": [
    "t_hours.index('t2')"
   ]
  },
  {
   "cell_type": "code",
   "execution_count": 30,
   "id": "7da666cb",
   "metadata": {},
   "outputs": [
    {
     "data": {
      "text/plain": [
       "'t1'"
      ]
     },
     "execution_count": 30,
     "metadata": {},
     "output_type": "execute_result"
    }
   ],
   "source": [
    "t_hours[0]"
   ]
  },
  {
   "cell_type": "code",
   "execution_count": null,
   "id": "6c288361",
   "metadata": {},
   "outputs": [],
   "source": []
  },
  {
   "cell_type": "code",
   "execution_count": null,
   "id": "4a31623b",
   "metadata": {},
   "outputs": [],
   "source": []
  },
  {
   "cell_type": "code",
   "execution_count": null,
   "id": "81ff2e8a",
   "metadata": {},
   "outputs": [],
   "source": []
  },
  {
   "cell_type": "code",
   "execution_count": null,
   "id": "dfc844b7",
   "metadata": {},
   "outputs": [],
   "source": []
  },
  {
   "cell_type": "code",
   "execution_count": null,
   "id": "190da2d4",
   "metadata": {},
   "outputs": [],
   "source": []
  },
  {
   "cell_type": "code",
   "execution_count": 31,
   "id": "b60c0df5",
   "metadata": {},
   "outputs": [],
   "source": [
    "model.Genconst4 = Constraint(\n",
    "    model.g_units, \n",
    "    model.t_hours, \n",
    "    rule=lambda model, g, t: model.p[g, t_hours[t_hours.index(t) - 1]] - model.p[g, t] <= gendata[g, 'RD0'])"
   ]
  },
  {
   "attachments": {
    "Screenshot%202023-07-24%20at%2019.50.53.png": {
     "image/png": "[encoded data removed]"
    }
   },
   "cell_type": "markdown",
   "id": "693878bf",
   "metadata": {},
   "source": [
    "![Screenshot%202023-07-24%20at%2019.50.53.png](attachment:Screenshot%202023-07-24%20at%2019.50.53.png)"
   ]
  },
  {
   "cell_type": "code",
   "execution_count": null,
   "id": "846312bd",
   "metadata": {},
   "outputs": [],
   "source": []
  },
  {
   "cell_type": "code",
   "execution_count": null,
   "id": "2864acc0",
   "metadata": {},
   "outputs": [],
   "source": []
  },
  {
   "cell_type": "code",
   "execution_count": null,
   "id": "3d6e2d62",
   "metadata": {},
   "outputs": [],
   "source": []
  },
  {
   "cell_type": "markdown",
   "id": "6c915fe9",
   "metadata": {},
   "source": [
    "Reminders:"
   ]
  },
  {
   "cell_type": "code",
   "execution_count": 32,
   "id": "c5ed0229",
   "metadata": {},
   "outputs": [
    {
     "data": {
      "text/plain": [
       "['t1',\n",
       " 't2',\n",
       " 't3',\n",
       " 't4',\n",
       " 't5',\n",
       " 't6',\n",
       " 't7',\n",
       " 't8',\n",
       " 't9',\n",
       " 't10',\n",
       " 't11',\n",
       " 't12',\n",
       " 't13',\n",
       " 't14',\n",
       " 't15',\n",
       " 't16',\n",
       " 't17',\n",
       " 't18',\n",
       " 't19',\n",
       " 't20',\n",
       " 't21',\n",
       " 't22',\n",
       " 't23',\n",
       " 't24']"
      ]
     },
     "execution_count": 32,
     "metadata": {},
     "output_type": "execute_result"
    }
   ],
   "source": [
    "t_hours"
   ]
  },
  {
   "cell_type": "code",
   "execution_count": 33,
   "id": "1d78976a",
   "metadata": {},
   "outputs": [
    {
     "data": {
      "text/plain": [
       "0"
      ]
     },
     "execution_count": 33,
     "metadata": {},
     "output_type": "execute_result"
    }
   ],
   "source": [
    "t_hours.index('t1')"
   ]
  },
  {
   "cell_type": "code",
   "execution_count": 34,
   "id": "f640d0d2",
   "metadata": {},
   "outputs": [
    {
     "data": {
      "text/plain": [
       "'t24'"
      ]
     },
     "execution_count": 34,
     "metadata": {},
     "output_type": "execute_result"
    }
   ],
   "source": [
    "t_hours[0- 1]"
   ]
  },
  {
   "cell_type": "markdown",
   "id": "64ca61df",
   "metadata": {},
   "source": [
    "power balance equation: \n",
    "\n",
    "The electricity generation from all power stations plus the discharge of the storage\n",
    "\n",
    "must be equal to the demand Lt PLUS the charge of the storage."
   ]
  },
  {
   "cell_type": "code",
   "execution_count": 35,
   "id": "f123b430",
   "metadata": {},
   "outputs": [],
   "source": [
    "model.balance = Constraint(\n",
    "    model.t_hours, \n",
    "    rule=lambda model, t: sum(model.p[g, t] for g in model.g_units) == data[t, 'load'])"
   ]
  },
  {
   "attachments": {
    "Screenshot%202023-07-30%20at%2021.25.09.png": {
     "image/png": "[encoded data removed]"
    }
   },
   "cell_type": "markdown",
   "id": "4b46df9a",
   "metadata": {},
   "source": [
    "![Screenshot%202023-07-30%20at%2021.25.09.png](attachment:Screenshot%202023-07-30%20at%2021.25.09.png)"
   ]
  },
  {
   "cell_type": "code",
   "execution_count": null,
   "id": "b82bf61e",
   "metadata": {},
   "outputs": [],
   "source": []
  },
  {
   "cell_type": "code",
   "execution_count": null,
   "id": "b41c4b70",
   "metadata": {},
   "outputs": [],
   "source": []
  },
  {
   "attachments": {},
   "cell_type": "markdown",
   "id": "71be88ee",
   "metadata": {},
   "source": []
  },
  {
   "cell_type": "code",
   "execution_count": 36,
   "id": "a45977df",
   "metadata": {},
   "outputs": [],
   "source": [
    "model.EM = Var(bounds=(0, None))"
   ]
  },
  {
   "cell_type": "code",
   "execution_count": 37,
   "id": "99451e81",
   "metadata": {},
   "outputs": [],
   "source": [
    "model.EMcalc = Constraint(\n",
    "    rule=lambda model: model.EM == sum(gendata[g, 'd'] * model.p[g, t]**2 + gendata[g, 'e'] * model.p[g, t] + gendata[g, 'f'] \n",
    "                          for t in model.t_hours for g in model.g_units))\n"
   ]
  },
  {
   "attachments": {
    "Screenshot%202023-07-30%20at%2021.26.26.png": {
     "image/png": "[encoded data removed]"
    }
   },
   "cell_type": "markdown",
   "id": "47e22fef",
   "metadata": {},
   "source": [
    "![Screenshot%202023-07-30%20at%2021.26.26.png](attachment:Screenshot%202023-07-30%20at%2021.26.26.png)"
   ]
  },
  {
   "cell_type": "code",
   "execution_count": null,
   "id": "b3de0f36",
   "metadata": {},
   "outputs": [],
   "source": []
  },
  {
   "cell_type": "code",
   "execution_count": null,
   "id": "37eaafd1",
   "metadata": {},
   "outputs": [],
   "source": []
  },
  {
   "cell_type": "markdown",
   "id": "057a0207",
   "metadata": {},
   "source": [
    "## Solving the problem"
   ]
  },
  {
   "cell_type": "markdown",
   "id": "2dccb3a7",
   "metadata": {},
   "source": [
    "how to install:\n",
    "    1.go to gurobi.com\n",
    "    2. Register and then login\n",
    "    3. Go to 'downloads and licenses' --> downloads center --> gurobi optimizer--> accept user license agreement\n",
    "    4. download the installer and install it"
   ]
  },
  {
   "cell_type": "code",
   "execution_count": 38,
   "id": "c987c7a9",
   "metadata": {},
   "outputs": [],
   "source": [
    "solver = SolverFactory('gurobi') "
   ]
  },
  {
   "cell_type": "code",
   "execution_count": 39,
   "id": "063c6f42",
   "metadata": {},
   "outputs": [],
   "source": [
    "solver.options['NonConvex'] = 2"
   ]
  },
  {
   "cell_type": "markdown",
   "id": "e1ed2934",
   "metadata": {},
   "source": [
    "## Results"
   ]
  },
  {
   "cell_type": "code",
   "execution_count": 40,
   "id": "30d28355",
   "metadata": {},
   "outputs": [],
   "source": [
    "results1 = solver.solve(model)"
   ]
  },
  {
   "cell_type": "code",
   "execution_count": 41,
   "id": "711de44a",
   "metadata": {},
   "outputs": [
    {
     "data": {
      "text/plain": [
       "pyomo.opt.results.results_.SolverResults"
      ]
     },
     "execution_count": 41,
     "metadata": {},
     "output_type": "execute_result"
    }
   ],
   "source": [
    "type(results1)"
   ]
  },
  {
   "cell_type": "code",
   "execution_count": 42,
   "id": "a4b40f83",
   "metadata": {},
   "outputs": [
    {
     "data": {
      "text/plain": [
       "{'Problem': [{'Name': 'x1', 'Lower bound': 647946.6896412731, 'Upper bound': 647964.4601173822, 'Number of objectives': 1, 'Number of constraints': 213, 'Number of variables': 98, 'Number of binary variables': 0, 'Number of integer variables': 0, 'Number of continuous variables': 98, 'Number of nonzeros': 472, 'Sense': 'minimize'}], 'Solver': [{'Status': 'ok', 'Return code': '0', 'Message': 'Model was solved to optimality (subject to tolerances), and an optimal solution is available.', 'Termination condition': 'optimal', 'Termination message': 'Model was solved to optimality (subject to tolerances), and an optimal solution is available.', 'Wall time': '0.03191518783569336', 'Error rc': 0, 'Time': 0.1443309783935547}], 'Solution': [OrderedDict([('number of solutions', 0), ('number of solutions displayed', 0)])]}"
      ]
     },
     "execution_count": 42,
     "metadata": {},
     "output_type": "execute_result"
    }
   ],
   "source": [
    "results1"
   ]
  },
  {
   "cell_type": "code",
   "execution_count": 43,
   "id": "28167d0d",
   "metadata": {},
   "outputs": [
    {
     "name": "stdout",
     "output_type": "stream",
     "text": [
      "Model Cost-based DED\n",
      "\n",
      "  Variables:\n",
      "    p : Size=96, Index=p_index\n",
      "        Key           : Lower : Value              : Upper : Fixed : Stale : Domain\n",
      "         ('p1', 't1') :    28 : 166.19054667442649 :   200 : False : False :  Reals\n",
      "        ('p1', 't10') :    28 : 199.99999999989234 :   200 : False : False :  Reals\n",
      "        ('p1', 't11') :    28 :  199.9999999999075 :   200 : False : False :  Reals\n",
      "        ('p1', 't12') :    28 : 199.99999999991746 :   200 : False : False :  Reals\n",
      "        ('p1', 't13') :    28 : 199.99999999991275 :   200 : False : False :  Reals\n",
      "        ('p1', 't14') :    28 : 199.99999999982487 :   200 : False : False :  Reals\n",
      "        ('p1', 't15') :    28 :  199.9999999997898 :   200 : False : False :  Reals\n",
      "        ('p1', 't16') :    28 : 199.99999999987122 :   200 : False : False :  Reals\n",
      "        ('p1', 't17') :    28 : 199.99999999985943 :   200 : False : False :  Reals\n",
      "        ('p1', 't18') :    28 :  199.9999999999182 :   200 : False : False :  Reals\n",
      "        ('p1', 't19') :    28 : 199.99999999988273 :   200 : False : False :  Reals\n",
      "         ('p1', 't2') :    28 : 172.56512729412404 :   200 : False : False :  Reals\n",
      "        ('p1', 't20') :    28 : 199.99999999986755 :   200 : False : False :  Reals\n",
      "        ('p1', 't21') :    28 : 198.03420630419657 :   200 : False : False :  Reals\n",
      "        ('p1', 't22') :    28 : 189.77649496698595 :   200 : False : False :  Reals\n",
      "        ('p1', 't23') :    28 : 187.86412078119105 :   200 : False : False :  Reals\n",
      "        ('p1', 't24') :    28 : 177.02733372789575 :   200 : False : False :  Reals\n",
      "         ('p1', 't3') :    28 : 168.10292086035258 :   200 : False : False :  Reals\n",
      "         ('p1', 't4') :    28 : 166.19054667445047 :   200 : False : False :  Reals\n",
      "         ('p1', 't5') :    28 : 167.78419182936702 :   200 : False : False :  Reals\n",
      "         ('p1', 't6') :    28 : 177.02733372355206 :   200 : False : False :  Reals\n",
      "         ('p1', 't7') :    28 :  199.9999999995088 :   200 : False : False :  Reals\n",
      "         ('p1', 't8') :    28 :  199.9999999997898 :   200 : False : False :  Reals\n",
      "         ('p1', 't9') :    28 :  199.9999999999005 :   200 : False : False :  Reals\n",
      "         ('p2', 't1') :    20 : 112.10509177037801 :   290 : False : False :  Reals\n",
      "        ('p2', 't10') :    20 : 181.05555555581455 :   290 : False : False :  Reals\n",
      "        ('p2', 't11') :    20 : 188.44444444460208 :   290 : False : False :  Reals\n",
      "        ('p2', 't12') :    20 : 194.77777777787807 :   290 : False : False :  Reals\n",
      "        ('p2', 't13') :    20 :   191.611111110265 :   290 : False : False :  Reals\n",
      "        ('p2', 't14') :    20 :  163.6859791457128 :   290 : False : False :  Reals\n",
      "        ('p2', 't15') :    20 : 159.06257242223634 :   290 : False : False :  Reals\n",
      "        ('p2', 't16') :    20 : 173.66666666694067 :   290 : False : False :  Reals\n",
      "        ('p2', 't17') :    20 : 170.50000000088062 :   290 : False : False :  Reals\n",
      "        ('p2', 't18') :    20 :  195.3055555552301 :   290 : False : False :  Reals\n",
      "        ('p2', 't19') :    20 : 177.36111111144908 :   290 : False : False :  Reals\n",
      "         ('p2', 't2') :    20 : 116.60479573717748 :   290 : False : False :  Reals\n",
      "        ('p2', 't20') :    20 : 168.60208444716378 :   290 : False : False :  Reals\n",
      "        ('p2', 't21') :    20 : 138.60208444837153 :   290 : False : False :  Reals\n",
      "        ('p2', 't22') :    20 : 128.75399644780734 :   290 : False : False :  Reals\n",
      "        ('p2', 't23') :    20 : 127.40408525768201 :   290 : False : False :  Reals\n",
      "        ('p2', 't24') :    20 : 119.75458851397423 :   290 : False : False :  Reals\n",
      "         ('p2', 't3') :    20 : 113.45500296039485 :   290 : False : False :  Reals\n",
      "         ('p2', 't4') :    20 : 112.10509177033968 :   290 : False : False :  Reals\n",
      "         ('p2', 't5') :    20 : 113.23001776205888 :   290 : False : False :  Reals\n",
      "         ('p2', 't6') :    20 : 119.75458851187645 :   290 : False : False :  Reals\n",
      "         ('p2', 't7') :    20 : 145.85283893774888 :   290 : False : False :  Reals\n",
      "         ('p2', 't8') :    20 :    159.06257242275 :   290 : False : False :  Reals\n",
      "         ('p2', 't9') :    20 : 184.74999999973548 :   290 : False : False :  Reals\n",
      "         ('p3', 't1') :    30 :  130.4524373397149 :   190 : False : False :  Reals\n",
      "        ('p3', 't10') :    30 : 189.99999999970416 :   190 : False : False :  Reals\n",
      "        ('p3', 't11') :    30 : 189.99999999979602 :   190 : False : False :  Reals\n",
      "        ('p3', 't12') :    30 :  189.9999999998389 :   190 : False : False :  Reals\n",
      "        ('p3', 't13') :    30 : 189.99999999981998 :   190 : False : False :  Reals\n",
      "        ('p3', 't14') :    30 :  188.9107763575556 :   190 : False : False :  Reals\n",
      "        ('p3', 't15') :    30 : 183.67091541088368 :   190 : False : False :  Reals\n",
      "        ('p3', 't16') :    30 : 189.99999999946183 :   190 : False : False :  Reals\n",
      "        ('p3', 't17') :    30 : 189.99999999917065 :   190 : False : False :  Reals\n",
      "        ('p3', 't18') :    30 : 189.99999999984166 :   190 : False : False :  Reals\n",
      "        ('p3', 't19') :    30 :  189.9999999996182 :   190 : False : False :  Reals\n",
      "         ('p3', 't2') :    30 :  135.5521018353803 :   190 : False : False :  Reals\n",
      "        ('p3', 't20') :    30 :  189.9999999988919 :   190 : False : False :  Reals\n",
      "        ('p3', 't21') :    30 : 160.00000000024272 :   190 : False : False :  Reals\n",
      "        ('p3', 't22') :    30 : 149.32119597408825 :   190 : False : False :  Reals\n",
      "        ('p3', 't23') :    30 : 147.79129662525835 :   190 : False : False :  Reals\n",
      "        ('p3', 't24') :    30 : 139.12186698242732 :   190 : False : False :  Reals\n",
      "         ('p3', 't3') :    30 : 131.98233668838193 :   190 : False : False :  Reals\n",
      "         ('p3', 't4') :    30 : 130.45243733965577 :   190 : False : False :  Reals\n",
      "         ('p3', 't5') :    30 :  131.7273534636091 :   190 : False : False :  Reals\n",
      "         ('p3', 't6') :    30 : 139.12186699167117 :   190 : False : False :  Reals\n",
      "         ('p3', 't7') :    30 : 168.69988411762594 :   190 : False : False :  Reals\n",
      "         ('p3', 't8') :    30 : 183.67091541046307 :   190 : False : False :  Reals\n",
      "         ('p3', 't9') :    30 : 189.99999999975853 :   190 : False : False :  Reals\n",
      "         ('p4', 't1') :    20 :  101.2519242154806 :   260 : False : False :  Reals\n",
      "        ('p4', 't10') :    20 :   162.944444444589 :   260 : False : False :  Reals\n",
      "        ('p4', 't11') :    20 :  169.5555555556944 :   260 : False : False :  Reals\n",
      "        ('p4', 't12') :    20 : 175.22222222236562 :   260 : False : False :  Reals\n",
      "        ('p4', 't13') :    20 :  172.3888888900023 :   260 : False : False :  Reals\n",
      "        ('p4', 't14') :    20 : 147.40324449690672 :   260 : False : False :  Reals\n",
      "        ('p4', 't15') :    20 : 143.26651216709016 :   260 : False : False :  Reals\n",
      "        ('p4', 't16') :    20 : 156.33333333372624 :   260 : False : False :  Reals\n",
      "        ('p4', 't17') :    20 : 153.50000000008927 :   260 : False : False :  Reals\n",
      "        ('p4', 't18') :    20 : 175.69444444501002 :   260 : False : False :  Reals\n",
      "        ('p4', 't19') :    20 :    159.63888888905 :   260 : False : False :  Reals\n",
      "         ('p4', 't2') :    20 : 105.27797513331814 :   260 : False : False :  Reals\n",
      "        ('p4', 't20') :    20 : 155.39791555407677 :   260 : False : False :  Reals\n",
      "        ('p4', 't21') :    20 : 121.36370924718915 :   260 : False : False :  Reals\n",
      "        ('p4', 't22') :    20 : 116.14831261111853 :   260 : False : False :  Reals\n",
      "        ('p4', 't23') :    20 : 114.94049733586854 :   260 : False : False :  Reals\n",
      "        ('p4', 't24') :    20 : 108.09621077570266 :   260 : False : False :  Reals\n",
      "         ('p4', 't3') :    20 : 102.45973949087069 :   260 : False : False :  Reals\n",
      "         ('p4', 't4') :    20 : 101.25192421555407 :   260 : False : False :  Reals\n",
      "         ('p4', 't5') :    20 : 102.25843694496503 :   260 : False : False :  Reals\n",
      "         ('p4', 't6') :    20 : 108.09621077290038 :   260 : False : False :  Reals\n",
      "         ('p4', 't7') :    20 : 131.44727694511627 :   260 : False : False :  Reals\n",
      "         ('p4', 't8') :    20 : 143.26651216699722 :   260 : False : False :  Reals\n",
      "         ('p4', 't9') :    20 : 166.25000000060552 :   260 : False : False :  Reals\n",
      "    EM : Size=1, Index=None\n",
      "        Key  : Lower : Value              : Upper : Fixed : Stale : Domain\n",
      "        None :     0 : 3592886.7987919045 :  None : False : False :  Reals\n",
      "\n",
      "  Objectives:\n",
      "    costThermal : Size=1, Index=None, Active=True\n",
      "        Key  : Active : Value\n",
      "        None :   True : 647964.4601173819\n",
      "\n",
      "  Constraints:\n",
      "    Genconst3 : Size=92\n",
      "        Key           : Lower : Body                    : Upper\n",
      "         ('p1', 't1') :  None :       6.374580619697554 :  40.0\n",
      "        ('p1', 't10') :  None :  1.5148771126405336e-11 :  40.0\n",
      "        ('p1', 't11') :  None :   9.976020010071807e-12 :  40.0\n",
      "        ('p1', 't12') :  None :  -4.718003765447065e-12 :  40.0\n",
      "        ('p1', 't13') :  None :  -8.787992555880919e-11 :  40.0\n",
      "        ('p1', 't14') :  None : -3.5072389437118545e-11 :  40.0\n",
      "        ('p1', 't15') :  None :   8.142819751810748e-11 :  40.0\n",
      "        ('p1', 't16') :  None : -1.1795009413617663e-11 :  40.0\n",
      "        ('p1', 't17') :  None :   5.877609510207549e-11 :  40.0\n",
      "        ('p1', 't18') :  None :   -3.54702933691442e-11 :  40.0\n",
      "        ('p1', 't19') :  None :  -1.517719283583574e-11 :  40.0\n",
      "         ('p1', 't2') :  None :      -4.462206433771456 :  40.0\n",
      "        ('p1', 't20') :  None :     -1.9657936956709818 :  40.0\n",
      "        ('p1', 't21') :  None :      -8.257711337210623 :  40.0\n",
      "        ('p1', 't22') :  None :     -1.9123741857949028 :  40.0\n",
      "        ('p1', 't23') :  None :     -10.836787053295296 :  40.0\n",
      "         ('p1', 't3') :  None :     -1.9123741859021095 :  40.0\n",
      "         ('p1', 't4') :  None :       1.593645154916544 :  40.0\n",
      "         ('p1', 't5') :  None :       9.243141894185044 :  40.0\n",
      "         ('p1', 't6') :  None :      22.972666275956726 :  40.0\n",
      "         ('p1', 't7') :  None :   2.810054411384044e-10 :  40.0\n",
      "         ('p1', 't8') :  None :  1.1070255823142361e-10 :  40.0\n",
      "         ('p1', 't9') :  None :   -8.15703060652595e-12 :  40.0\n",
      "         ('p2', 't1') :  None :       4.499703966799473 :  30.0\n",
      "        ('p2', 't10') :  None :       7.388888888787534 :  30.0\n",
      "        ('p2', 't11') :  None :       6.333333333275988 :  30.0\n",
      "        ('p2', 't12') :  None :     -3.1666666676130717 :  30.0\n",
      "        ('p2', 't13') :  None :     -27.925131964552207 :  30.0\n",
      "        ('p2', 't14') :  None :     -4.6234067234764495 :  30.0\n",
      "        ('p2', 't15') :  None :      14.604094244704328 :  30.0\n",
      "        ('p2', 't16') :  None :     -3.1666666660600526 :  30.0\n",
      "        ('p2', 't17') :  None :      24.805555554349468 :  30.0\n",
      "        ('p2', 't18') :  None :      -17.94444444378101 :  30.0\n",
      "        ('p2', 't19') :  None :      -8.759026664285301 :  30.0\n",
      "         ('p2', 't2') :  None :     -3.1497927767826326 :  30.0\n",
      "        ('p2', 't20') :  None :     -29.999999998792248 :  30.0\n",
      "        ('p2', 't21') :  None :       -9.84808800056419 :  30.0\n",
      "        ('p2', 't22') :  None :     -1.3499111901253258 :  30.0\n",
      "        ('p2', 't23') :  None :      -7.649496743707786 :  30.0\n",
      "         ('p2', 't3') :  None :     -1.3499111900551668 :  30.0\n",
      "         ('p2', 't4') :  None :       1.124925991719195 :  30.0\n",
      "         ('p2', 't5') :  None :      6.5245707498175705 :  30.0\n",
      "         ('p2', 't6') :  None :      26.098250425872436 :  30.0\n",
      "         ('p2', 't7') :  None :      13.209733485001124 :  30.0\n",
      "         ('p2', 't8') :  None :       25.68742757698547 :  30.0\n",
      "         ('p2', 't9') :  None :      -3.694444443920929 :  30.0\n",
      "         ('p3', 't1') :  None :       5.099664495665422 :  30.0\n",
      "        ('p3', 't10') :  None :   9.185896487906575e-11 :  30.0\n",
      "        ('p3', 't11') :  None :   4.288835953047965e-11 :  30.0\n",
      "        ('p3', 't12') :  None :  -1.892885848064907e-11 :  30.0\n",
      "        ('p3', 't13') :  None :     -1.0892236422643862 :  30.0\n",
      "        ('p3', 't14') :  None :      -5.239860946671911 :  30.0\n",
      "        ('p3', 't15') :  None :       6.329084588578155 :  30.0\n",
      "        ('p3', 't16') :  None : -2.9118041311448906e-10 :  30.0\n",
      "        ('p3', 't17') :  None :   6.710081379424082e-10 :  30.0\n",
      "        ('p3', 't18') :  None :  -2.234514795418363e-10 :  30.0\n",
      "        ('p3', 't19') :  None :  -7.263167844939744e-10 :  30.0\n",
      "         ('p3', 't2') :  None :      -3.569765146998378 :  30.0\n",
      "        ('p3', 't20') :  None :     -29.999999998649173 :  30.0\n",
      "        ('p3', 't21') :  None :     -10.678804026154467 :  30.0\n",
      "        ('p3', 't22') :  None :     -1.5298993488299004 :  30.0\n",
      "        ('p3', 't23') :  None :      -8.669429642831034 :  30.0\n",
      "         ('p3', 't3') :  None :     -1.5298993487261612 :  30.0\n",
      "         ('p3', 't4') :  None :       1.274916123953318 :  30.0\n",
      "         ('p3', 't5') :  None :      7.3945135280620775 :  30.0\n",
      "         ('p3', 't6') :  None :      29.578017125954773 :  30.0\n",
      "         ('p3', 't7') :  None :      14.971031292837125 :  30.0\n",
      "         ('p3', 't8') :  None :       6.329084589295462 :  30.0\n",
      "         ('p3', 't9') :  None : -5.4370730140362866e-11 :  30.0\n",
      "         ('p4', 't1') :  None :       4.026050917837537 :  50.0\n",
      "        ('p4', 't10') :  None :      6.6111111111054015 :  50.0\n",
      "        ('p4', 't11') :  None :       5.666666666671205 :  50.0\n",
      "        ('p4', 't12') :  None :       -2.83333333236331 :  50.0\n",
      "        ('p4', 't13') :  None :     -24.985644393095583 :  50.0\n",
      "        ('p4', 't14') :  None :      -4.136732329816567 :  50.0\n",
      "        ('p4', 't15') :  None :      13.066821166636089 :  50.0\n",
      "        ('p4', 't16') :  None :      -2.833333333636972 :  50.0\n",
      "        ('p4', 't17') :  None :      22.194444444920748 :  50.0\n",
      "        ('p4', 't18') :  None :     -16.055555555960012 :  50.0\n",
      "        ('p4', 't19') :  None :     -4.2409733349732335 :  50.0\n",
      "         ('p4', 't2') :  None :     -2.8182356424474477 :  50.0\n",
      "        ('p4', 't20') :  None :     -34.034206306887626 :  50.0\n",
      "        ('p4', 't21') :  None :      -5.215396636070622 :  50.0\n",
      "        ('p4', 't22') :  None :     -1.2078152752499847 :  50.0\n",
      "        ('p4', 't23') :  None :      -6.844286560165884 :  50.0\n",
      "         ('p4', 't3') :  None :     -1.2078152753166194 :  50.0\n",
      "         ('p4', 't4') :  None :      1.0065127294109573 :  50.0\n",
      "         ('p4', 't5') :  None :       5.837773827935351 :  50.0\n",
      "         ('p4', 't6') :  None :      23.351066172215894 :  50.0\n",
      "         ('p4', 't7') :  None :      11.819235221880945 :  50.0\n",
      "         ('p4', 't8') :  None :      22.983487833608308 :  50.0\n",
      "         ('p4', 't9') :  None :     -3.3055555560165146 :  50.0\n",
      "    Genconst4 : Size=96\n",
      "        Key           : Lower : Body                    : Upper\n",
      "         ('p1', 't1') :  None :      10.836787053469266 :  40.0\n",
      "        ('p1', 't10') :  None :    8.15703060652595e-12 :  40.0\n",
      "        ('p1', 't11') :  None : -1.5148771126405336e-11 :  40.0\n",
      "        ('p1', 't12') :  None :  -9.976020010071807e-12 :  40.0\n",
      "        ('p1', 't13') :  None :   4.718003765447065e-12 :  40.0\n",
      "        ('p1', 't14') :  None :   8.787992555880919e-11 :  40.0\n",
      "        ('p1', 't15') :  None :  3.5072389437118545e-11 :  40.0\n",
      "        ('p1', 't16') :  None :  -8.142819751810748e-11 :  40.0\n",
      "        ('p1', 't17') :  None :  1.1795009413617663e-11 :  40.0\n",
      "        ('p1', 't18') :  None :  -5.877609510207549e-11 :  40.0\n",
      "        ('p1', 't19') :  None :    3.54702933691442e-11 :  40.0\n",
      "         ('p1', 't2') :  None :      -6.374580619697554 :  40.0\n",
      "        ('p1', 't20') :  None :   1.517719283583574e-11 :  40.0\n",
      "        ('p1', 't21') :  None :      1.9657936956709818 :  40.0\n",
      "        ('p1', 't22') :  None :       8.257711337210623 :  40.0\n",
      "        ('p1', 't23') :  None :      1.9123741857949028 :  40.0\n",
      "        ('p1', 't24') :  None :      10.836787053295296 :  40.0\n",
      "         ('p1', 't3') :  None :       4.462206433771456 :  40.0\n",
      "         ('p1', 't4') :  None :      1.9123741859021095 :  40.0\n",
      "         ('p1', 't5') :  None :      -1.593645154916544 :  40.0\n",
      "         ('p1', 't6') :  None :      -9.243141894185044 :  40.0\n",
      "         ('p1', 't7') :  None :     -22.972666275956726 :  40.0\n",
      "         ('p1', 't8') :  None :  -2.810054411384044e-10 :  40.0\n",
      "         ('p1', 't9') :  None : -1.1070255823142361e-10 :  40.0\n",
      "         ('p2', 't1') :  None :       7.649496743596217 :  30.0\n",
      "        ('p2', 't10') :  None :       3.694444443920929 :  30.0\n",
      "        ('p2', 't11') :  None :      -7.388888888787534 :  30.0\n",
      "        ('p2', 't12') :  None :      -6.333333333275988 :  30.0\n",
      "        ('p2', 't13') :  None :      3.1666666676130717 :  30.0\n",
      "        ('p2', 't14') :  None :      27.925131964552207 :  30.0\n",
      "        ('p2', 't15') :  None :      4.6234067234764495 :  30.0\n",
      "        ('p2', 't16') :  None :     -14.604094244704328 :  30.0\n",
      "        ('p2', 't17') :  None :      3.1666666660600526 :  30.0\n",
      "        ('p2', 't18') :  None :     -24.805555554349468 :  30.0\n",
      "        ('p2', 't19') :  None :       17.94444444378101 :  30.0\n",
      "         ('p2', 't2') :  None :      -4.499703966799473 :  30.0\n",
      "        ('p2', 't20') :  None :       8.759026664285301 :  30.0\n",
      "        ('p2', 't21') :  None :      29.999999998792248 :  30.0\n",
      "        ('p2', 't22') :  None :        9.84808800056419 :  30.0\n",
      "        ('p2', 't23') :  None :      1.3499111901253258 :  30.0\n",
      "        ('p2', 't24') :  None :       7.649496743707786 :  30.0\n",
      "         ('p2', 't3') :  None :      3.1497927767826326 :  30.0\n",
      "         ('p2', 't4') :  None :      1.3499111900551668 :  30.0\n",
      "         ('p2', 't5') :  None :      -1.124925991719195 :  30.0\n",
      "         ('p2', 't6') :  None :     -6.5245707498175705 :  30.0\n",
      "         ('p2', 't7') :  None :     -26.098250425872436 :  30.0\n",
      "         ('p2', 't8') :  None :     -13.209733485001124 :  30.0\n",
      "         ('p2', 't9') :  None :      -25.68742757698547 :  30.0\n",
      "         ('p3', 't1') :  None :        8.66942964271243 :  30.0\n",
      "        ('p3', 't10') :  None :  5.4370730140362866e-11 :  30.0\n",
      "        ('p3', 't11') :  None :  -9.185896487906575e-11 :  30.0\n",
      "        ('p3', 't12') :  None :  -4.288835953047965e-11 :  30.0\n",
      "        ('p3', 't13') :  None :   1.892885848064907e-11 :  30.0\n",
      "        ('p3', 't14') :  None :      1.0892236422643862 :  30.0\n",
      "        ('p3', 't15') :  None :       5.239860946671911 :  30.0\n",
      "        ('p3', 't16') :  None :      -6.329084588578155 :  30.0\n",
      "        ('p3', 't17') :  None :  2.9118041311448906e-10 :  30.0\n",
      "        ('p3', 't18') :  None :  -6.710081379424082e-10 :  30.0\n",
      "        ('p3', 't19') :  None :   2.234514795418363e-10 :  30.0\n",
      "         ('p3', 't2') :  None :      -5.099664495665422 :  30.0\n",
      "        ('p3', 't20') :  None :   7.263167844939744e-10 :  30.0\n",
      "        ('p3', 't21') :  None :      29.999999998649173 :  30.0\n",
      "        ('p3', 't22') :  None :      10.678804026154467 :  30.0\n",
      "        ('p3', 't23') :  None :      1.5298993488299004 :  30.0\n",
      "        ('p3', 't24') :  None :       8.669429642831034 :  30.0\n",
      "         ('p3', 't3') :  None :       3.569765146998378 :  30.0\n",
      "         ('p3', 't4') :  None :      1.5298993487261612 :  30.0\n",
      "         ('p3', 't5') :  None :      -1.274916123953318 :  30.0\n",
      "         ('p3', 't6') :  None :     -7.3945135280620775 :  30.0\n",
      "         ('p3', 't7') :  None :     -29.578017125954773 :  30.0\n",
      "         ('p3', 't8') :  None :     -14.971031292837125 :  30.0\n",
      "         ('p3', 't9') :  None :      -6.329084589295462 :  30.0\n",
      "         ('p4', 't1') :  None :       6.844286560222059 :  50.0\n",
      "        ('p4', 't10') :  None :      3.3055555560165146 :  50.0\n",
      "        ('p4', 't11') :  None :     -6.6111111111054015 :  50.0\n",
      "        ('p4', 't12') :  None :      -5.666666666671205 :  50.0\n",
      "        ('p4', 't13') :  None :        2.83333333236331 :  50.0\n",
      "        ('p4', 't14') :  None :      24.985644393095583 :  50.0\n",
      "        ('p4', 't15') :  None :       4.136732329816567 :  50.0\n",
      "        ('p4', 't16') :  None :     -13.066821166636089 :  50.0\n",
      "        ('p4', 't17') :  None :       2.833333333636972 :  50.0\n",
      "        ('p4', 't18') :  None :     -22.194444444920748 :  50.0\n",
      "        ('p4', 't19') :  None :      16.055555555960012 :  50.0\n",
      "         ('p4', 't2') :  None :      -4.026050917837537 :  50.0\n",
      "        ('p4', 't20') :  None :      4.2409733349732335 :  50.0\n",
      "        ('p4', 't21') :  None :      34.034206306887626 :  50.0\n",
      "        ('p4', 't22') :  None :       5.215396636070622 :  50.0\n",
      "        ('p4', 't23') :  None :      1.2078152752499847 :  50.0\n",
      "        ('p4', 't24') :  None :       6.844286560165884 :  50.0\n",
      "         ('p4', 't3') :  None :      2.8182356424474477 :  50.0\n",
      "         ('p4', 't4') :  None :      1.2078152753166194 :  50.0\n",
      "         ('p4', 't5') :  None :     -1.0065127294109573 :  50.0\n",
      "         ('p4', 't6') :  None :      -5.837773827935351 :  50.0\n",
      "         ('p4', 't7') :  None :     -23.351066172215894 :  50.0\n",
      "         ('p4', 't8') :  None :     -11.819235221880945 :  50.0\n",
      "         ('p4', 't9') :  None :     -22.983487833608308 :  50.0\n",
      "    balance : Size=24\n",
      "        Key : Lower : Body               : Upper\n",
      "         t1 : 510.0 : 509.99999999999994 : 510.0\n",
      "        t10 : 734.0 :              734.0 : 734.0\n",
      "        t11 : 748.0 :              748.0 : 748.0\n",
      "        t12 : 760.0 :  760.0000000000001 : 760.0\n",
      "        t13 : 754.0 :              754.0 : 754.0\n",
      "        t14 : 700.0 :              700.0 : 700.0\n",
      "        t15 : 686.0 :              686.0 : 686.0\n",
      "        t16 : 720.0 :              720.0 : 720.0\n",
      "        t17 : 714.0 :  713.9999999999999 : 714.0\n",
      "        t18 : 761.0 :              761.0 : 761.0\n",
      "        t19 : 727.0 :              727.0 : 727.0\n",
      "         t2 : 530.0 :              530.0 : 530.0\n",
      "        t20 : 714.0 :              714.0 : 714.0\n",
      "        t21 : 618.0 :              618.0 : 618.0\n",
      "        t22 : 584.0 :  584.0000000000001 : 584.0\n",
      "        t23 : 578.0 :              578.0 : 578.0\n",
      "        t24 : 544.0 :              544.0 : 544.0\n",
      "         t3 : 516.0 :              516.0 : 516.0\n",
      "         t4 : 510.0 :              510.0 : 510.0\n",
      "         t5 : 515.0 :  515.0000000000001 : 515.0\n",
      "         t6 : 544.0 :              544.0 : 544.0\n",
      "         t7 : 646.0 :  645.9999999999999 : 646.0\n",
      "         t8 : 686.0 :  686.0000000000001 : 686.0\n",
      "         t9 : 741.0 :              741.0 : 741.0\n",
      "    EMcalc : Size=1\n",
      "        Key  : Lower : Body : Upper\n",
      "        None :   0.0 :  0.0 :   0.0\n"
     ]
    }
   ],
   "source": [
    "model.display() "
   ]
  },
  {
   "cell_type": "code",
   "execution_count": 44,
   "id": "af6ba8dd",
   "metadata": {},
   "outputs": [
    {
     "data": {
      "text/plain": [
       "'gurobi'"
      ]
     },
     "execution_count": 44,
     "metadata": {},
     "output_type": "execute_result"
    }
   ],
   "source": [
    "solver.type"
   ]
  },
  {
   "cell_type": "code",
   "execution_count": null,
   "id": "f09e2388",
   "metadata": {},
   "outputs": [],
   "source": []
  },
  {
   "cell_type": "code",
   "execution_count": 45,
   "id": "08eabc71",
   "metadata": {},
   "outputs": [
    {
     "data": {
      "text/plain": [
       "1"
      ]
     },
     "execution_count": 45,
     "metadata": {},
     "output_type": "execute_result"
    }
   ],
   "source": [
    "results1['Problem'][0]['Number of objectives'] #problem has 1 objective function"
   ]
  },
  {
   "cell_type": "code",
   "execution_count": 46,
   "id": "153a0fd5",
   "metadata": {},
   "outputs": [
    {
     "data": {
      "text/plain": [
       "647946.6896412731"
      ]
     },
     "execution_count": 46,
     "metadata": {},
     "output_type": "execute_result"
    }
   ],
   "source": [
    "results1['Problem'][0]['Lower bound']  "
   ]
  },
  {
   "cell_type": "code",
   "execution_count": 47,
   "id": "edfa1396",
   "metadata": {},
   "outputs": [
    {
     "data": {
      "text/plain": [
       "647964.4601173822"
      ]
     },
     "execution_count": 47,
     "metadata": {},
     "output_type": "execute_result"
    }
   ],
   "source": [
    "results1['Problem'][0]['Upper bound']  "
   ]
  },
  {
   "cell_type": "code",
   "execution_count": 48,
   "id": "cd0ea2a3",
   "metadata": {},
   "outputs": [
    {
     "data": {
      "text/plain": [
       "False"
      ]
     },
     "execution_count": 48,
     "metadata": {},
     "output_type": "execute_result"
    }
   ],
   "source": [
    "results1['Problem'][0]['Upper bound']  == results1['Problem'][0]['Lower bound']  #equal to each other. Convergence"
   ]
  },
  {
   "cell_type": "markdown",
   "id": "f37a4df1",
   "metadata": {},
   "source": [
    "The total operating costs are TC=  $6.4553\u0002 10^5  = $0.645 million\n",
    "\n"
   ]
  },
  {
   "cell_type": "code",
   "execution_count": null,
   "id": "f99efd56",
   "metadata": {},
   "outputs": [],
   "source": []
  },
  {
   "cell_type": "code",
   "execution_count": null,
   "id": "4b735106",
   "metadata": {},
   "outputs": [],
   "source": []
  },
  {
   "cell_type": "code",
   "execution_count": 49,
   "id": "ccfedc96",
   "metadata": {},
   "outputs": [
    {
     "data": {
      "text/plain": [
       "213"
      ]
     },
     "execution_count": 49,
     "metadata": {},
     "output_type": "execute_result"
    }
   ],
   "source": [
    "results1['Problem'][0]['Number of constraints']  "
   ]
  },
  {
   "cell_type": "code",
   "execution_count": 50,
   "id": "1d4661c9",
   "metadata": {},
   "outputs": [
    {
     "data": {
      "text/plain": [
       "98"
      ]
     },
     "execution_count": 50,
     "metadata": {},
     "output_type": "execute_result"
    }
   ],
   "source": [
    "results1['Problem'][0]['Number of variables']  "
   ]
  },
  {
   "cell_type": "code",
   "execution_count": 51,
   "id": "9b424ddc",
   "metadata": {},
   "outputs": [
    {
     "data": {
      "text/plain": [
       "0"
      ]
     },
     "execution_count": 51,
     "metadata": {},
     "output_type": "execute_result"
    }
   ],
   "source": [
    "results1['Problem'][0]['Number of binary variables']  "
   ]
  },
  {
   "cell_type": "code",
   "execution_count": 52,
   "id": "c47afad3",
   "metadata": {},
   "outputs": [
    {
     "data": {
      "text/plain": [
       "0"
      ]
     },
     "execution_count": 52,
     "metadata": {},
     "output_type": "execute_result"
    }
   ],
   "source": [
    "results1['Problem'][0]['Number of integer variables']  "
   ]
  },
  {
   "cell_type": "code",
   "execution_count": 53,
   "id": "d4719a76",
   "metadata": {},
   "outputs": [
    {
     "data": {
      "text/plain": [
       "98"
      ]
     },
     "execution_count": 53,
     "metadata": {},
     "output_type": "execute_result"
    }
   ],
   "source": [
    "results1['Problem'][0]['Number of continuous variables']  "
   ]
  },
  {
   "cell_type": "code",
   "execution_count": 54,
   "id": "92988e3d",
   "metadata": {},
   "outputs": [
    {
     "data": {
      "text/plain": [
       "<ProblemSense.minimize: 'minimize'>"
      ]
     },
     "execution_count": 54,
     "metadata": {},
     "output_type": "execute_result"
    }
   ],
   "source": [
    "results1['Problem'][0]['Sense']   #minimization problem"
   ]
  },
  {
   "cell_type": "code",
   "execution_count": 55,
   "id": "0fef7192",
   "metadata": {},
   "outputs": [
    {
     "data": {
      "text/plain": [
       "'Model was solved to optimality (subject to tolerances), and an optimal solution is available.'"
      ]
     },
     "execution_count": 55,
     "metadata": {},
     "output_type": "execute_result"
    }
   ],
   "source": [
    "results1['Solver'][0]['Message']"
   ]
  },
  {
   "cell_type": "code",
   "execution_count": 56,
   "id": "f7293d7a",
   "metadata": {},
   "outputs": [
    {
     "data": {
      "text/plain": [
       "<TerminationCondition.optimal: 'optimal'>"
      ]
     },
     "execution_count": 56,
     "metadata": {},
     "output_type": "execute_result"
    }
   ],
   "source": [
    "results1['Solver'][0]['Termination condition']"
   ]
  },
  {
   "cell_type": "code",
   "execution_count": 57,
   "id": "6ad35695",
   "metadata": {},
   "outputs": [
    {
     "data": {
      "text/plain": [
       "0.1443309783935547"
      ]
     },
     "execution_count": 57,
     "metadata": {},
     "output_type": "execute_result"
    }
   ],
   "source": [
    "results1['Solver'][0]['Time'] #solution time ie how much time it took to solve"
   ]
  },
  {
   "cell_type": "code",
   "execution_count": null,
   "id": "09e082be",
   "metadata": {},
   "outputs": [],
   "source": []
  },
  {
   "cell_type": "code",
   "execution_count": 58,
   "id": "3d34828f",
   "metadata": {},
   "outputs": [
    {
     "data": {
      "text/plain": [
       "166.19054667442649"
      ]
     },
     "execution_count": 58,
     "metadata": {},
     "output_type": "execute_result"
    }
   ],
   "source": [
    "model.p['p1','t1'].value  #shows the optimal value ie output of p1 at t1 in MW."
   ]
  },
  {
   "cell_type": "code",
   "execution_count": 59,
   "id": "0078dda4",
   "metadata": {},
   "outputs": [
    {
     "data": {
      "text/plain": [
       "dict_values([510, 530, 516, 510, 515, 544, 646, 686, 741, 734, 748, 760, 754, 700, 686, 720, 714, 761, 727, 714, 618, 584, 578, 544])"
      ]
     },
     "execution_count": 59,
     "metadata": {},
     "output_type": "execute_result"
    }
   ],
   "source": [
    "data.values()"
   ]
  },
  {
   "cell_type": "code",
   "execution_count": 60,
   "id": "893b4840",
   "metadata": {},
   "outputs": [],
   "source": [
    "#same as the values of the input 'data' that we defined above. This is the load in MW\n",
    "L_lst = [510.00,\n",
    "         530.00,\n",
    "         516.00,\n",
    "         510.00,\n",
    "         515.00,\n",
    "         544.00,\n",
    "         646.00,\n",
    "         686.00,\n",
    "         741.00,\n",
    "         734.00,\n",
    "         748.00,\n",
    "         760.00,\n",
    "         754.00,\n",
    "         700.00,\n",
    "         686.00,\n",
    "         720.00,\n",
    "         714.00,\n",
    "         761.00,\n",
    "         727.00,\n",
    "         714.00,\n",
    "         618.00,\n",
    "         584.00,\n",
    "         578.00,\n",
    "         544.00]"
   ]
  },
  {
   "cell_type": "code",
   "execution_count": null,
   "id": "9f42cb61",
   "metadata": {},
   "outputs": [],
   "source": []
  },
  {
   "cell_type": "code",
   "execution_count": null,
   "id": "0a38572c",
   "metadata": {},
   "outputs": [],
   "source": []
  },
  {
   "cell_type": "code",
   "execution_count": 61,
   "id": "a21fd6bd",
   "metadata": {},
   "outputs": [],
   "source": [
    "pg_lst = []\n",
    "\n",
    "for t in model.t_hours:  # ['t1', 't2', etc.... 't24'] . Eg 't1'\n",
    "    val = 0\n",
    "    for g in model.g_units:  # ['p1', 'p2', 'p3', 'p4']\n",
    "        val +=model.p[g, t].value  # we sum the output of p1, p2, p3, p4, at periot t. Ie total output per period. \n",
    "    \n",
    "    pg_lst.append(round(val, 2))"
   ]
  },
  {
   "cell_type": "code",
   "execution_count": 62,
   "id": "47325bf6",
   "metadata": {},
   "outputs": [
    {
     "data": {
      "text/plain": [
       "[510.0,\n",
       " 530.0,\n",
       " 516.0,\n",
       " 510.0,\n",
       " 515.0,\n",
       " 544.0,\n",
       " 646.0,\n",
       " 686.0,\n",
       " 741.0,\n",
       " 734.0,\n",
       " 748.0,\n",
       " 760.0,\n",
       " 754.0,\n",
       " 700.0,\n",
       " 686.0,\n",
       " 720.0,\n",
       " 714.0,\n",
       " 761.0,\n",
       " 727.0,\n",
       " 714.0,\n",
       " 618.0,\n",
       " 584.0,\n",
       " 578.0,\n",
       " 544.0]"
      ]
     },
     "execution_count": 62,
     "metadata": {},
     "output_type": "execute_result"
    }
   ],
   "source": [
    "pg_lst #total output (MW) per our"
   ]
  },
  {
   "cell_type": "code",
   "execution_count": 63,
   "id": "f0cdd2ce",
   "metadata": {},
   "outputs": [
    {
     "data": {
      "text/html": [
       "<div>\n",
       "<style scoped>\n",
       "    .dataframe tbody tr th:only-of-type {\n",
       "        vertical-align: middle;\n",
       "    }\n",
       "\n",
       "    .dataframe tbody tr th {\n",
       "        vertical-align: top;\n",
       "    }\n",
       "\n",
       "    .dataframe thead th {\n",
       "        text-align: right;\n",
       "    }\n",
       "</style>\n",
       "<table border=\"1\" class=\"dataframe\">\n",
       "  <thead>\n",
       "    <tr style=\"text-align: right;\">\n",
       "      <th></th>\n",
       "      <th>0</th>\n",
       "      <th>1</th>\n",
       "      <th>2</th>\n",
       "      <th>3</th>\n",
       "      <th>4</th>\n",
       "      <th>5</th>\n",
       "      <th>6</th>\n",
       "      <th>7</th>\n",
       "      <th>8</th>\n",
       "      <th>9</th>\n",
       "      <th>...</th>\n",
       "      <th>14</th>\n",
       "      <th>15</th>\n",
       "      <th>16</th>\n",
       "      <th>17</th>\n",
       "      <th>18</th>\n",
       "      <th>19</th>\n",
       "      <th>20</th>\n",
       "      <th>21</th>\n",
       "      <th>22</th>\n",
       "      <th>23</th>\n",
       "    </tr>\n",
       "  </thead>\n",
       "  <tbody>\n",
       "    <tr>\n",
       "      <th>0</th>\n",
       "      <td>510.0</td>\n",
       "      <td>530.0</td>\n",
       "      <td>516.0</td>\n",
       "      <td>510.0</td>\n",
       "      <td>515.0</td>\n",
       "      <td>544.0</td>\n",
       "      <td>646.0</td>\n",
       "      <td>686.0</td>\n",
       "      <td>741.0</td>\n",
       "      <td>734.0</td>\n",
       "      <td>...</td>\n",
       "      <td>686.0</td>\n",
       "      <td>720.0</td>\n",
       "      <td>714.0</td>\n",
       "      <td>761.0</td>\n",
       "      <td>727.0</td>\n",
       "      <td>714.0</td>\n",
       "      <td>618.0</td>\n",
       "      <td>584.0</td>\n",
       "      <td>578.0</td>\n",
       "      <td>544.0</td>\n",
       "    </tr>\n",
       "    <tr>\n",
       "      <th>1</th>\n",
       "      <td>510.0</td>\n",
       "      <td>530.0</td>\n",
       "      <td>516.0</td>\n",
       "      <td>510.0</td>\n",
       "      <td>515.0</td>\n",
       "      <td>544.0</td>\n",
       "      <td>646.0</td>\n",
       "      <td>686.0</td>\n",
       "      <td>741.0</td>\n",
       "      <td>734.0</td>\n",
       "      <td>...</td>\n",
       "      <td>686.0</td>\n",
       "      <td>720.0</td>\n",
       "      <td>714.0</td>\n",
       "      <td>761.0</td>\n",
       "      <td>727.0</td>\n",
       "      <td>714.0</td>\n",
       "      <td>618.0</td>\n",
       "      <td>584.0</td>\n",
       "      <td>578.0</td>\n",
       "      <td>544.0</td>\n",
       "    </tr>\n",
       "  </tbody>\n",
       "</table>\n",
       "<p>2 rows × 24 columns</p>\n",
       "</div>"
      ],
      "text/plain": [
       "      0      1      2      3      4      5      6      7      8      9   ...  \\\n",
       "0  510.0  530.0  516.0  510.0  515.0  544.0  646.0  686.0  741.0  734.0  ...   \n",
       "1  510.0  530.0  516.0  510.0  515.0  544.0  646.0  686.0  741.0  734.0  ...   \n",
       "\n",
       "      14     15     16     17     18     19     20     21     22     23  \n",
       "0  686.0  720.0  714.0  761.0  727.0  714.0  618.0  584.0  578.0  544.0  \n",
       "1  686.0  720.0  714.0  761.0  727.0  714.0  618.0  584.0  578.0  544.0  \n",
       "\n",
       "[2 rows x 24 columns]"
      ]
     },
     "execution_count": 63,
     "metadata": {},
     "output_type": "execute_result"
    }
   ],
   "source": [
    "list1 = [ L_lst, pg_lst] \n",
    "array1 = np.array(list1) #the list is now converted to an array\n",
    "dataframe1 = pd.DataFrame(array1) #the array is converted to a dataframe\n",
    "dataframe1"
   ]
  },
  {
   "cell_type": "code",
   "execution_count": 64,
   "id": "4de0b22c",
   "metadata": {},
   "outputs": [],
   "source": [
    "data_tables = dataframe1.T  #we transpose it ie its rows become columns, and its columns become rows.\n"
   ]
  },
  {
   "cell_type": "code",
   "execution_count": 65,
   "id": "0a07aa8e",
   "metadata": {},
   "outputs": [
    {
     "data": {
      "text/html": [
       "<div>\n",
       "<style scoped>\n",
       "    .dataframe tbody tr th:only-of-type {\n",
       "        vertical-align: middle;\n",
       "    }\n",
       "\n",
       "    .dataframe tbody tr th {\n",
       "        vertical-align: top;\n",
       "    }\n",
       "\n",
       "    .dataframe thead th {\n",
       "        text-align: right;\n",
       "    }\n",
       "</style>\n",
       "<table border=\"1\" class=\"dataframe\">\n",
       "  <thead>\n",
       "    <tr style=\"text-align: right;\">\n",
       "      <th></th>\n",
       "      <th>0</th>\n",
       "      <th>1</th>\n",
       "    </tr>\n",
       "  </thead>\n",
       "  <tbody>\n",
       "    <tr>\n",
       "      <th>0</th>\n",
       "      <td>510.0</td>\n",
       "      <td>510.0</td>\n",
       "    </tr>\n",
       "    <tr>\n",
       "      <th>1</th>\n",
       "      <td>530.0</td>\n",
       "      <td>530.0</td>\n",
       "    </tr>\n",
       "    <tr>\n",
       "      <th>2</th>\n",
       "      <td>516.0</td>\n",
       "      <td>516.0</td>\n",
       "    </tr>\n",
       "    <tr>\n",
       "      <th>3</th>\n",
       "      <td>510.0</td>\n",
       "      <td>510.0</td>\n",
       "    </tr>\n",
       "    <tr>\n",
       "      <th>4</th>\n",
       "      <td>515.0</td>\n",
       "      <td>515.0</td>\n",
       "    </tr>\n",
       "    <tr>\n",
       "      <th>5</th>\n",
       "      <td>544.0</td>\n",
       "      <td>544.0</td>\n",
       "    </tr>\n",
       "    <tr>\n",
       "      <th>6</th>\n",
       "      <td>646.0</td>\n",
       "      <td>646.0</td>\n",
       "    </tr>\n",
       "    <tr>\n",
       "      <th>7</th>\n",
       "      <td>686.0</td>\n",
       "      <td>686.0</td>\n",
       "    </tr>\n",
       "    <tr>\n",
       "      <th>8</th>\n",
       "      <td>741.0</td>\n",
       "      <td>741.0</td>\n",
       "    </tr>\n",
       "    <tr>\n",
       "      <th>9</th>\n",
       "      <td>734.0</td>\n",
       "      <td>734.0</td>\n",
       "    </tr>\n",
       "    <tr>\n",
       "      <th>10</th>\n",
       "      <td>748.0</td>\n",
       "      <td>748.0</td>\n",
       "    </tr>\n",
       "    <tr>\n",
       "      <th>11</th>\n",
       "      <td>760.0</td>\n",
       "      <td>760.0</td>\n",
       "    </tr>\n",
       "    <tr>\n",
       "      <th>12</th>\n",
       "      <td>754.0</td>\n",
       "      <td>754.0</td>\n",
       "    </tr>\n",
       "    <tr>\n",
       "      <th>13</th>\n",
       "      <td>700.0</td>\n",
       "      <td>700.0</td>\n",
       "    </tr>\n",
       "    <tr>\n",
       "      <th>14</th>\n",
       "      <td>686.0</td>\n",
       "      <td>686.0</td>\n",
       "    </tr>\n",
       "    <tr>\n",
       "      <th>15</th>\n",
       "      <td>720.0</td>\n",
       "      <td>720.0</td>\n",
       "    </tr>\n",
       "    <tr>\n",
       "      <th>16</th>\n",
       "      <td>714.0</td>\n",
       "      <td>714.0</td>\n",
       "    </tr>\n",
       "    <tr>\n",
       "      <th>17</th>\n",
       "      <td>761.0</td>\n",
       "      <td>761.0</td>\n",
       "    </tr>\n",
       "    <tr>\n",
       "      <th>18</th>\n",
       "      <td>727.0</td>\n",
       "      <td>727.0</td>\n",
       "    </tr>\n",
       "    <tr>\n",
       "      <th>19</th>\n",
       "      <td>714.0</td>\n",
       "      <td>714.0</td>\n",
       "    </tr>\n",
       "    <tr>\n",
       "      <th>20</th>\n",
       "      <td>618.0</td>\n",
       "      <td>618.0</td>\n",
       "    </tr>\n",
       "    <tr>\n",
       "      <th>21</th>\n",
       "      <td>584.0</td>\n",
       "      <td>584.0</td>\n",
       "    </tr>\n",
       "    <tr>\n",
       "      <th>22</th>\n",
       "      <td>578.0</td>\n",
       "      <td>578.0</td>\n",
       "    </tr>\n",
       "    <tr>\n",
       "      <th>23</th>\n",
       "      <td>544.0</td>\n",
       "      <td>544.0</td>\n",
       "    </tr>\n",
       "  </tbody>\n",
       "</table>\n",
       "</div>"
      ],
      "text/plain": [
       "        0      1\n",
       "0   510.0  510.0\n",
       "1   530.0  530.0\n",
       "2   516.0  516.0\n",
       "3   510.0  510.0\n",
       "4   515.0  515.0\n",
       "5   544.0  544.0\n",
       "6   646.0  646.0\n",
       "7   686.0  686.0\n",
       "8   741.0  741.0\n",
       "9   734.0  734.0\n",
       "10  748.0  748.0\n",
       "11  760.0  760.0\n",
       "12  754.0  754.0\n",
       "13  700.0  700.0\n",
       "14  686.0  686.0\n",
       "15  720.0  720.0\n",
       "16  714.0  714.0\n",
       "17  761.0  761.0\n",
       "18  727.0  727.0\n",
       "19  714.0  714.0\n",
       "20  618.0  618.0\n",
       "21  584.0  584.0\n",
       "22  578.0  578.0\n",
       "23  544.0  544.0"
      ]
     },
     "execution_count": 65,
     "metadata": {},
     "output_type": "execute_result"
    }
   ],
   "source": [
    "data_tables"
   ]
  },
  {
   "cell_type": "code",
   "execution_count": 66,
   "id": "8103e555",
   "metadata": {},
   "outputs": [],
   "source": [
    "data_tables.index = range(1,25)  # we set the row index ie the names of the rows, to be 1...24"
   ]
  },
  {
   "cell_type": "code",
   "execution_count": 67,
   "id": "6c515cab",
   "metadata": {},
   "outputs": [
    {
     "data": {
      "text/html": [
       "<div>\n",
       "<style scoped>\n",
       "    .dataframe tbody tr th:only-of-type {\n",
       "        vertical-align: middle;\n",
       "    }\n",
       "\n",
       "    .dataframe tbody tr th {\n",
       "        vertical-align: top;\n",
       "    }\n",
       "\n",
       "    .dataframe thead th {\n",
       "        text-align: right;\n",
       "    }\n",
       "</style>\n",
       "<table border=\"1\" class=\"dataframe\">\n",
       "  <thead>\n",
       "    <tr style=\"text-align: right;\">\n",
       "      <th></th>\n",
       "      <th>0</th>\n",
       "      <th>1</th>\n",
       "    </tr>\n",
       "  </thead>\n",
       "  <tbody>\n",
       "    <tr>\n",
       "      <th>1</th>\n",
       "      <td>510.0</td>\n",
       "      <td>510.0</td>\n",
       "    </tr>\n",
       "    <tr>\n",
       "      <th>2</th>\n",
       "      <td>530.0</td>\n",
       "      <td>530.0</td>\n",
       "    </tr>\n",
       "    <tr>\n",
       "      <th>3</th>\n",
       "      <td>516.0</td>\n",
       "      <td>516.0</td>\n",
       "    </tr>\n",
       "    <tr>\n",
       "      <th>4</th>\n",
       "      <td>510.0</td>\n",
       "      <td>510.0</td>\n",
       "    </tr>\n",
       "    <tr>\n",
       "      <th>5</th>\n",
       "      <td>515.0</td>\n",
       "      <td>515.0</td>\n",
       "    </tr>\n",
       "    <tr>\n",
       "      <th>6</th>\n",
       "      <td>544.0</td>\n",
       "      <td>544.0</td>\n",
       "    </tr>\n",
       "    <tr>\n",
       "      <th>7</th>\n",
       "      <td>646.0</td>\n",
       "      <td>646.0</td>\n",
       "    </tr>\n",
       "    <tr>\n",
       "      <th>8</th>\n",
       "      <td>686.0</td>\n",
       "      <td>686.0</td>\n",
       "    </tr>\n",
       "    <tr>\n",
       "      <th>9</th>\n",
       "      <td>741.0</td>\n",
       "      <td>741.0</td>\n",
       "    </tr>\n",
       "    <tr>\n",
       "      <th>10</th>\n",
       "      <td>734.0</td>\n",
       "      <td>734.0</td>\n",
       "    </tr>\n",
       "    <tr>\n",
       "      <th>11</th>\n",
       "      <td>748.0</td>\n",
       "      <td>748.0</td>\n",
       "    </tr>\n",
       "    <tr>\n",
       "      <th>12</th>\n",
       "      <td>760.0</td>\n",
       "      <td>760.0</td>\n",
       "    </tr>\n",
       "    <tr>\n",
       "      <th>13</th>\n",
       "      <td>754.0</td>\n",
       "      <td>754.0</td>\n",
       "    </tr>\n",
       "    <tr>\n",
       "      <th>14</th>\n",
       "      <td>700.0</td>\n",
       "      <td>700.0</td>\n",
       "    </tr>\n",
       "    <tr>\n",
       "      <th>15</th>\n",
       "      <td>686.0</td>\n",
       "      <td>686.0</td>\n",
       "    </tr>\n",
       "    <tr>\n",
       "      <th>16</th>\n",
       "      <td>720.0</td>\n",
       "      <td>720.0</td>\n",
       "    </tr>\n",
       "    <tr>\n",
       "      <th>17</th>\n",
       "      <td>714.0</td>\n",
       "      <td>714.0</td>\n",
       "    </tr>\n",
       "    <tr>\n",
       "      <th>18</th>\n",
       "      <td>761.0</td>\n",
       "      <td>761.0</td>\n",
       "    </tr>\n",
       "    <tr>\n",
       "      <th>19</th>\n",
       "      <td>727.0</td>\n",
       "      <td>727.0</td>\n",
       "    </tr>\n",
       "    <tr>\n",
       "      <th>20</th>\n",
       "      <td>714.0</td>\n",
       "      <td>714.0</td>\n",
       "    </tr>\n",
       "    <tr>\n",
       "      <th>21</th>\n",
       "      <td>618.0</td>\n",
       "      <td>618.0</td>\n",
       "    </tr>\n",
       "    <tr>\n",
       "      <th>22</th>\n",
       "      <td>584.0</td>\n",
       "      <td>584.0</td>\n",
       "    </tr>\n",
       "    <tr>\n",
       "      <th>23</th>\n",
       "      <td>578.0</td>\n",
       "      <td>578.0</td>\n",
       "    </tr>\n",
       "    <tr>\n",
       "      <th>24</th>\n",
       "      <td>544.0</td>\n",
       "      <td>544.0</td>\n",
       "    </tr>\n",
       "  </tbody>\n",
       "</table>\n",
       "</div>"
      ],
      "text/plain": [
       "        0      1\n",
       "1   510.0  510.0\n",
       "2   530.0  530.0\n",
       "3   516.0  516.0\n",
       "4   510.0  510.0\n",
       "5   515.0  515.0\n",
       "6   544.0  544.0\n",
       "7   646.0  646.0\n",
       "8   686.0  686.0\n",
       "9   741.0  741.0\n",
       "10  734.0  734.0\n",
       "11  748.0  748.0\n",
       "12  760.0  760.0\n",
       "13  754.0  754.0\n",
       "14  700.0  700.0\n",
       "15  686.0  686.0\n",
       "16  720.0  720.0\n",
       "17  714.0  714.0\n",
       "18  761.0  761.0\n",
       "19  727.0  727.0\n",
       "20  714.0  714.0\n",
       "21  618.0  618.0\n",
       "22  584.0  584.0\n",
       "23  578.0  578.0\n",
       "24  544.0  544.0"
      ]
     },
     "execution_count": 67,
     "metadata": {},
     "output_type": "execute_result"
    }
   ],
   "source": [
    "data_tables"
   ]
  },
  {
   "cell_type": "code",
   "execution_count": 68,
   "id": "a17ae54b",
   "metadata": {},
   "outputs": [
    {
     "data": {
      "text/html": [
       "<div>\n",
       "<style scoped>\n",
       "    .dataframe tbody tr th:only-of-type {\n",
       "        vertical-align: middle;\n",
       "    }\n",
       "\n",
       "    .dataframe tbody tr th {\n",
       "        vertical-align: top;\n",
       "    }\n",
       "\n",
       "    .dataframe thead th {\n",
       "        text-align: right;\n",
       "    }\n",
       "</style>\n",
       "<table border=\"1\" class=\"dataframe\">\n",
       "  <thead>\n",
       "    <tr style=\"text-align: right;\">\n",
       "      <th></th>\n",
       "      <th>Lt</th>\n",
       "      <th>P'g</th>\n",
       "    </tr>\n",
       "  </thead>\n",
       "  <tbody>\n",
       "    <tr>\n",
       "      <th>1</th>\n",
       "      <td>510.0</td>\n",
       "      <td>510.0</td>\n",
       "    </tr>\n",
       "    <tr>\n",
       "      <th>2</th>\n",
       "      <td>530.0</td>\n",
       "      <td>530.0</td>\n",
       "    </tr>\n",
       "    <tr>\n",
       "      <th>3</th>\n",
       "      <td>516.0</td>\n",
       "      <td>516.0</td>\n",
       "    </tr>\n",
       "    <tr>\n",
       "      <th>4</th>\n",
       "      <td>510.0</td>\n",
       "      <td>510.0</td>\n",
       "    </tr>\n",
       "    <tr>\n",
       "      <th>5</th>\n",
       "      <td>515.0</td>\n",
       "      <td>515.0</td>\n",
       "    </tr>\n",
       "    <tr>\n",
       "      <th>6</th>\n",
       "      <td>544.0</td>\n",
       "      <td>544.0</td>\n",
       "    </tr>\n",
       "    <tr>\n",
       "      <th>7</th>\n",
       "      <td>646.0</td>\n",
       "      <td>646.0</td>\n",
       "    </tr>\n",
       "    <tr>\n",
       "      <th>8</th>\n",
       "      <td>686.0</td>\n",
       "      <td>686.0</td>\n",
       "    </tr>\n",
       "    <tr>\n",
       "      <th>9</th>\n",
       "      <td>741.0</td>\n",
       "      <td>741.0</td>\n",
       "    </tr>\n",
       "    <tr>\n",
       "      <th>10</th>\n",
       "      <td>734.0</td>\n",
       "      <td>734.0</td>\n",
       "    </tr>\n",
       "    <tr>\n",
       "      <th>11</th>\n",
       "      <td>748.0</td>\n",
       "      <td>748.0</td>\n",
       "    </tr>\n",
       "    <tr>\n",
       "      <th>12</th>\n",
       "      <td>760.0</td>\n",
       "      <td>760.0</td>\n",
       "    </tr>\n",
       "    <tr>\n",
       "      <th>13</th>\n",
       "      <td>754.0</td>\n",
       "      <td>754.0</td>\n",
       "    </tr>\n",
       "    <tr>\n",
       "      <th>14</th>\n",
       "      <td>700.0</td>\n",
       "      <td>700.0</td>\n",
       "    </tr>\n",
       "    <tr>\n",
       "      <th>15</th>\n",
       "      <td>686.0</td>\n",
       "      <td>686.0</td>\n",
       "    </tr>\n",
       "    <tr>\n",
       "      <th>16</th>\n",
       "      <td>720.0</td>\n",
       "      <td>720.0</td>\n",
       "    </tr>\n",
       "    <tr>\n",
       "      <th>17</th>\n",
       "      <td>714.0</td>\n",
       "      <td>714.0</td>\n",
       "    </tr>\n",
       "    <tr>\n",
       "      <th>18</th>\n",
       "      <td>761.0</td>\n",
       "      <td>761.0</td>\n",
       "    </tr>\n",
       "    <tr>\n",
       "      <th>19</th>\n",
       "      <td>727.0</td>\n",
       "      <td>727.0</td>\n",
       "    </tr>\n",
       "    <tr>\n",
       "      <th>20</th>\n",
       "      <td>714.0</td>\n",
       "      <td>714.0</td>\n",
       "    </tr>\n",
       "    <tr>\n",
       "      <th>21</th>\n",
       "      <td>618.0</td>\n",
       "      <td>618.0</td>\n",
       "    </tr>\n",
       "    <tr>\n",
       "      <th>22</th>\n",
       "      <td>584.0</td>\n",
       "      <td>584.0</td>\n",
       "    </tr>\n",
       "    <tr>\n",
       "      <th>23</th>\n",
       "      <td>578.0</td>\n",
       "      <td>578.0</td>\n",
       "    </tr>\n",
       "    <tr>\n",
       "      <th>24</th>\n",
       "      <td>544.0</td>\n",
       "      <td>544.0</td>\n",
       "    </tr>\n",
       "  </tbody>\n",
       "</table>\n",
       "</div>"
      ],
      "text/plain": [
       "       Lt    P'g\n",
       "1   510.0  510.0\n",
       "2   530.0  530.0\n",
       "3   516.0  516.0\n",
       "4   510.0  510.0\n",
       "5   515.0  515.0\n",
       "6   544.0  544.0\n",
       "7   646.0  646.0\n",
       "8   686.0  686.0\n",
       "9   741.0  741.0\n",
       "10  734.0  734.0\n",
       "11  748.0  748.0\n",
       "12  760.0  760.0\n",
       "13  754.0  754.0\n",
       "14  700.0  700.0\n",
       "15  686.0  686.0\n",
       "16  720.0  720.0\n",
       "17  714.0  714.0\n",
       "18  761.0  761.0\n",
       "19  727.0  727.0\n",
       "20  714.0  714.0\n",
       "21  618.0  618.0\n",
       "22  584.0  584.0\n",
       "23  578.0  578.0\n",
       "24  544.0  544.0"
      ]
     },
     "execution_count": 68,
     "metadata": {},
     "output_type": "execute_result"
    }
   ],
   "source": [
    "data_tables.columns = [\"Lt\",\"P'g\"]\n",
    "data_tables"
   ]
  },
  {
   "cell_type": "code",
   "execution_count": 69,
   "id": "01319350",
   "metadata": {},
   "outputs": [
    {
     "data": {
      "image/png": "[encoded data removed]",
      "text/plain": [
       "<Figure size 800x300 with 1 Axes>"
      ]
     },
     "metadata": {},
     "output_type": "display_data"
    }
   ],
   "source": [
    "plt.figure(figsize=(8, 3))\n",
    "plt.plot(t_hours, L_lst, '-')\n",
    "\n",
    "plt.xlabel('Time (h)')\n",
    "plt.ylabel('Demand (MW)')\n",
    "plt.title('Daily load pattern')\n",
    "xticks = range(1,25)\n",
    "plt.xticks(t_hours, xticks)\n",
    "plt.grid()\n",
    "plt.show()"
   ]
  },
  {
   "cell_type": "code",
   "execution_count": 70,
   "id": "adb98dce",
   "metadata": {},
   "outputs": [],
   "source": [
    "g1_values = [model.p['p1', t].value for t in model.t_hours]\n",
    "g2_values = [model.p['p2', t].value for t in model.t_hours]\n",
    "g3_values = [model.p['p3', t].value for t in model.t_hours]\n",
    "g4_values = [model.p['p4', t].value for t in model.t_hours]"
   ]
  },
  {
   "cell_type": "code",
   "execution_count": 71,
   "id": "8f8b4b44",
   "metadata": {},
   "outputs": [
    {
     "data": {
      "text/plain": [
       "list"
      ]
     },
     "execution_count": 71,
     "metadata": {},
     "output_type": "execute_result"
    }
   ],
   "source": [
    "type(g1_values)"
   ]
  },
  {
   "cell_type": "code",
   "execution_count": 72,
   "id": "af0eee51",
   "metadata": {},
   "outputs": [
    {
     "data": {
      "text/plain": [
       "[166.19054667442649,\n",
       " 172.56512729412404,\n",
       " 168.10292086035258,\n",
       " 166.19054667445047,\n",
       " 167.78419182936702,\n",
       " 177.02733372355206,\n",
       " 199.9999999995088,\n",
       " 199.9999999997898,\n",
       " 199.9999999999005,\n",
       " 199.99999999989234,\n",
       " 199.9999999999075,\n",
       " 199.99999999991746,\n",
       " 199.99999999991275,\n",
       " 199.99999999982487,\n",
       " 199.9999999997898,\n",
       " 199.99999999987122,\n",
       " 199.99999999985943,\n",
       " 199.9999999999182,\n",
       " 199.99999999988273,\n",
       " 199.99999999986755,\n",
       " 198.03420630419657,\n",
       " 189.77649496698595,\n",
       " 187.86412078119105,\n",
       " 177.02733372789575]"
      ]
     },
     "execution_count": 72,
     "metadata": {},
     "output_type": "execute_result"
    }
   ],
   "source": [
    "g1_values #output in MW from the first power station."
   ]
  },
  {
   "cell_type": "code",
   "execution_count": 73,
   "id": "7ce79919",
   "metadata": {},
   "outputs": [
    {
     "data": {
      "image/png": "[encoded data removed]",
      "text/plain": [
       "<Figure size 800x600 with 1 Axes>"
      ]
     },
     "metadata": {},
     "output_type": "display_data"
    }
   ],
   "source": [
    "plt.figure(figsize=(8, 6))\n",
    "plt.plot(t_hours, g1_values, 'o-', color='red', label='Generator p1')\n",
    "plt.plot(t_hours, g2_values, 'o-', color='purple',label='Generator p2')\n",
    "plt.plot(t_hours, g3_values, '-',  color='black',   label='Generator p3')\n",
    "plt.plot(t_hours, g4_values, '-',  color='orange', label='Generator p4')\n",
    "plt.xlabel('Time (h)')\n",
    "plt.ylabel('Output (MW)')\n",
    "plt.title('Daily Generator output')\n",
    "plt.xticks(t_hours, xticks)\n",
    "plt.legend()\n",
    "plt.grid()\n",
    "plt.show()"
   ]
  }
 ],
 "metadata": {
  "colab": {
   "provenance": []
  },
  "kernelspec": {
   "display_name": "Python 3 (ipykernel)",
   "language": "python",
   "name": "python3"
  },
  "language_info": {
   "codemirror_mode": {
    "name": "ipython",
    "version": 3
   },
   "file_extension": ".py",
   "mimetype": "text/x-python",
   "name": "python",
   "nbconvert_exporter": "python",
   "pygments_lexer": "ipython3",
   "version": "3.9.13"
  }
 },
 "nbformat": 4,
 "nbformat_minor": 5
}
